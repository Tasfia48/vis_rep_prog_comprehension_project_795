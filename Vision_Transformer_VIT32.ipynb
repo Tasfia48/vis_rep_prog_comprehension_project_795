{
  "nbformat": 4,
  "nbformat_minor": 0,
  "metadata": {
    "colab": {
      "name": "Vision_Transformer_VIT32.ipynb",
      "provenance": [],
      "machine_shape": "hm",
      "authorship_tag": "ABX9TyOTywV8tHEBqzz8qG8Q/EBx",
      "include_colab_link": true
    },
    "kernelspec": {
      "name": "python3",
      "display_name": "Python 3"
    },
    "language_info": {
      "name": "python"
    },
    "accelerator": "GPU"
  },
  "cells": [
    {
      "cell_type": "markdown",
      "metadata": {
        "id": "view-in-github",
        "colab_type": "text"
      },
      "source": [
        "<a href=\"https://colab.research.google.com/github/Tasfia48/vis_rep_prog_comprehension_project_795/blob/main/Vision_Transformer_VIT32.ipynb\" target=\"_parent\"><img src=\"https://colab.research.google.com/assets/colab-badge.svg\" alt=\"Open In Colab\"/></a>"
      ]
    },
    {
      "cell_type": "markdown",
      "source": [
        "### Libraries and Configurations"
      ],
      "metadata": {
        "id": "MPmvB3nR0yiD"
      }
    },
    {
      "cell_type": "code",
      "source": [
        "pip install -U tensorflow-addons"
      ],
      "metadata": {
        "colab": {
          "base_uri": "https://localhost:8080/"
        },
        "id": "YpvwvLYa75q6",
        "outputId": "a3a9bf83-5889-4126-8f38-ce0854eecaee"
      },
      "execution_count": null,
      "outputs": [
        {
          "output_type": "stream",
          "name": "stdout",
          "text": [
            "Collecting tensorflow-addons\n",
            "  Downloading tensorflow_addons-0.16.1-cp37-cp37m-manylinux_2_12_x86_64.manylinux2010_x86_64.whl (1.1 MB)\n",
            "\u001b[?25l\r\u001b[K     |▎                               | 10 kB 26.8 MB/s eta 0:00:01\r\u001b[K     |▋                               | 20 kB 31.4 MB/s eta 0:00:01\r\u001b[K     |▉                               | 30 kB 31.0 MB/s eta 0:00:01\r\u001b[K     |█▏                              | 40 kB 18.3 MB/s eta 0:00:01\r\u001b[K     |█▌                              | 51 kB 14.3 MB/s eta 0:00:01\r\u001b[K     |█▊                              | 61 kB 16.5 MB/s eta 0:00:01\r\u001b[K     |██                              | 71 kB 15.2 MB/s eta 0:00:01\r\u001b[K     |██▍                             | 81 kB 16.4 MB/s eta 0:00:01\r\u001b[K     |██▋                             | 92 kB 17.9 MB/s eta 0:00:01\r\u001b[K     |███                             | 102 kB 15.2 MB/s eta 0:00:01\r\u001b[K     |███▏                            | 112 kB 15.2 MB/s eta 0:00:01\r\u001b[K     |███▌                            | 122 kB 15.2 MB/s eta 0:00:01\r\u001b[K     |███▉                            | 133 kB 15.2 MB/s eta 0:00:01\r\u001b[K     |████                            | 143 kB 15.2 MB/s eta 0:00:01\r\u001b[K     |████▍                           | 153 kB 15.2 MB/s eta 0:00:01\r\u001b[K     |████▊                           | 163 kB 15.2 MB/s eta 0:00:01\r\u001b[K     |█████                           | 174 kB 15.2 MB/s eta 0:00:01\r\u001b[K     |█████▎                          | 184 kB 15.2 MB/s eta 0:00:01\r\u001b[K     |█████▌                          | 194 kB 15.2 MB/s eta 0:00:01\r\u001b[K     |█████▉                          | 204 kB 15.2 MB/s eta 0:00:01\r\u001b[K     |██████▏                         | 215 kB 15.2 MB/s eta 0:00:01\r\u001b[K     |██████▍                         | 225 kB 15.2 MB/s eta 0:00:01\r\u001b[K     |██████▊                         | 235 kB 15.2 MB/s eta 0:00:01\r\u001b[K     |███████                         | 245 kB 15.2 MB/s eta 0:00:01\r\u001b[K     |███████▎                        | 256 kB 15.2 MB/s eta 0:00:01\r\u001b[K     |███████▋                        | 266 kB 15.2 MB/s eta 0:00:01\r\u001b[K     |███████▉                        | 276 kB 15.2 MB/s eta 0:00:01\r\u001b[K     |████████▏                       | 286 kB 15.2 MB/s eta 0:00:01\r\u001b[K     |████████▌                       | 296 kB 15.2 MB/s eta 0:00:01\r\u001b[K     |████████▊                       | 307 kB 15.2 MB/s eta 0:00:01\r\u001b[K     |█████████                       | 317 kB 15.2 MB/s eta 0:00:01\r\u001b[K     |█████████▍                      | 327 kB 15.2 MB/s eta 0:00:01\r\u001b[K     |█████████▋                      | 337 kB 15.2 MB/s eta 0:00:01\r\u001b[K     |██████████                      | 348 kB 15.2 MB/s eta 0:00:01\r\u001b[K     |██████████▏                     | 358 kB 15.2 MB/s eta 0:00:01\r\u001b[K     |██████████▌                     | 368 kB 15.2 MB/s eta 0:00:01\r\u001b[K     |██████████▉                     | 378 kB 15.2 MB/s eta 0:00:01\r\u001b[K     |███████████                     | 389 kB 15.2 MB/s eta 0:00:01\r\u001b[K     |███████████▍                    | 399 kB 15.2 MB/s eta 0:00:01\r\u001b[K     |███████████▊                    | 409 kB 15.2 MB/s eta 0:00:01\r\u001b[K     |████████████                    | 419 kB 15.2 MB/s eta 0:00:01\r\u001b[K     |████████████▎                   | 430 kB 15.2 MB/s eta 0:00:01\r\u001b[K     |████████████▌                   | 440 kB 15.2 MB/s eta 0:00:01\r\u001b[K     |████████████▉                   | 450 kB 15.2 MB/s eta 0:00:01\r\u001b[K     |█████████████▏                  | 460 kB 15.2 MB/s eta 0:00:01\r\u001b[K     |█████████████▍                  | 471 kB 15.2 MB/s eta 0:00:01\r\u001b[K     |█████████████▊                  | 481 kB 15.2 MB/s eta 0:00:01\r\u001b[K     |██████████████                  | 491 kB 15.2 MB/s eta 0:00:01\r\u001b[K     |██████████████▎                 | 501 kB 15.2 MB/s eta 0:00:01\r\u001b[K     |██████████████▋                 | 512 kB 15.2 MB/s eta 0:00:01\r\u001b[K     |██████████████▉                 | 522 kB 15.2 MB/s eta 0:00:01\r\u001b[K     |███████████████▏                | 532 kB 15.2 MB/s eta 0:00:01\r\u001b[K     |███████████████▌                | 542 kB 15.2 MB/s eta 0:00:01\r\u001b[K     |███████████████▊                | 552 kB 15.2 MB/s eta 0:00:01\r\u001b[K     |████████████████                | 563 kB 15.2 MB/s eta 0:00:01\r\u001b[K     |████████████████▍               | 573 kB 15.2 MB/s eta 0:00:01\r\u001b[K     |████████████████▋               | 583 kB 15.2 MB/s eta 0:00:01\r\u001b[K     |█████████████████               | 593 kB 15.2 MB/s eta 0:00:01\r\u001b[K     |█████████████████▏              | 604 kB 15.2 MB/s eta 0:00:01\r\u001b[K     |█████████████████▌              | 614 kB 15.2 MB/s eta 0:00:01\r\u001b[K     |█████████████████▉              | 624 kB 15.2 MB/s eta 0:00:01\r\u001b[K     |██████████████████              | 634 kB 15.2 MB/s eta 0:00:01\r\u001b[K     |██████████████████▍             | 645 kB 15.2 MB/s eta 0:00:01\r\u001b[K     |██████████████████▊             | 655 kB 15.2 MB/s eta 0:00:01\r\u001b[K     |███████████████████             | 665 kB 15.2 MB/s eta 0:00:01\r\u001b[K     |███████████████████▎            | 675 kB 15.2 MB/s eta 0:00:01\r\u001b[K     |███████████████████▌            | 686 kB 15.2 MB/s eta 0:00:01\r\u001b[K     |███████████████████▉            | 696 kB 15.2 MB/s eta 0:00:01\r\u001b[K     |████████████████████▏           | 706 kB 15.2 MB/s eta 0:00:01\r\u001b[K     |████████████████████▍           | 716 kB 15.2 MB/s eta 0:00:01\r\u001b[K     |████████████████████▊           | 727 kB 15.2 MB/s eta 0:00:01\r\u001b[K     |█████████████████████           | 737 kB 15.2 MB/s eta 0:00:01\r\u001b[K     |█████████████████████▎          | 747 kB 15.2 MB/s eta 0:00:01\r\u001b[K     |█████████████████████▋          | 757 kB 15.2 MB/s eta 0:00:01\r\u001b[K     |█████████████████████▉          | 768 kB 15.2 MB/s eta 0:00:01\r\u001b[K     |██████████████████████▏         | 778 kB 15.2 MB/s eta 0:00:01\r\u001b[K     |██████████████████████▌         | 788 kB 15.2 MB/s eta 0:00:01\r\u001b[K     |██████████████████████▊         | 798 kB 15.2 MB/s eta 0:00:01\r\u001b[K     |███████████████████████         | 808 kB 15.2 MB/s eta 0:00:01\r\u001b[K     |███████████████████████▍        | 819 kB 15.2 MB/s eta 0:00:01\r\u001b[K     |███████████████████████▋        | 829 kB 15.2 MB/s eta 0:00:01\r\u001b[K     |████████████████████████        | 839 kB 15.2 MB/s eta 0:00:01\r\u001b[K     |████████████████████████▏       | 849 kB 15.2 MB/s eta 0:00:01\r\u001b[K     |████████████████████████▌       | 860 kB 15.2 MB/s eta 0:00:01\r\u001b[K     |████████████████████████▉       | 870 kB 15.2 MB/s eta 0:00:01\r\u001b[K     |█████████████████████████       | 880 kB 15.2 MB/s eta 0:00:01\r\u001b[K     |█████████████████████████▍      | 890 kB 15.2 MB/s eta 0:00:01\r\u001b[K     |█████████████████████████▊      | 901 kB 15.2 MB/s eta 0:00:01\r\u001b[K     |██████████████████████████      | 911 kB 15.2 MB/s eta 0:00:01\r\u001b[K     |██████████████████████████▎     | 921 kB 15.2 MB/s eta 0:00:01\r\u001b[K     |██████████████████████████▌     | 931 kB 15.2 MB/s eta 0:00:01\r\u001b[K     |██████████████████████████▉     | 942 kB 15.2 MB/s eta 0:00:01\r\u001b[K     |███████████████████████████▏    | 952 kB 15.2 MB/s eta 0:00:01\r\u001b[K     |███████████████████████████▍    | 962 kB 15.2 MB/s eta 0:00:01\r\u001b[K     |███████████████████████████▊    | 972 kB 15.2 MB/s eta 0:00:01\r\u001b[K     |████████████████████████████    | 983 kB 15.2 MB/s eta 0:00:01\r\u001b[K     |████████████████████████████▎   | 993 kB 15.2 MB/s eta 0:00:01\r\u001b[K     |████████████████████████████▋   | 1.0 MB 15.2 MB/s eta 0:00:01\r\u001b[K     |████████████████████████████▉   | 1.0 MB 15.2 MB/s eta 0:00:01\r\u001b[K     |█████████████████████████████▏  | 1.0 MB 15.2 MB/s eta 0:00:01\r\u001b[K     |█████████████████████████████▌  | 1.0 MB 15.2 MB/s eta 0:00:01\r\u001b[K     |█████████████████████████████▊  | 1.0 MB 15.2 MB/s eta 0:00:01\r\u001b[K     |██████████████████████████████  | 1.1 MB 15.2 MB/s eta 0:00:01\r\u001b[K     |██████████████████████████████▍ | 1.1 MB 15.2 MB/s eta 0:00:01\r\u001b[K     |██████████████████████████████▋ | 1.1 MB 15.2 MB/s eta 0:00:01\r\u001b[K     |███████████████████████████████ | 1.1 MB 15.2 MB/s eta 0:00:01\r\u001b[K     |███████████████████████████████▏| 1.1 MB 15.2 MB/s eta 0:00:01\r\u001b[K     |███████████████████████████████▌| 1.1 MB 15.2 MB/s eta 0:00:01\r\u001b[K     |███████████████████████████████▉| 1.1 MB 15.2 MB/s eta 0:00:01\r\u001b[K     |████████████████████████████████| 1.1 MB 15.2 MB/s \n",
            "\u001b[?25hRequirement already satisfied: typeguard>=2.7 in /usr/local/lib/python3.7/dist-packages (from tensorflow-addons) (2.7.1)\n",
            "Installing collected packages: tensorflow-addons\n",
            "Successfully installed tensorflow-addons-0.16.1\n"
          ]
        }
      ]
    },
    {
      "cell_type": "code",
      "execution_count": null,
      "metadata": {
        "colab": {
          "base_uri": "https://localhost:8080/"
        },
        "id": "7S3M6qKp76HC",
        "outputId": "5bb2f2fe-5ce4-42e7-b1bc-75e8cef631f6"
      },
      "outputs": [
        {
          "output_type": "stream",
          "name": "stdout",
          "text": [
            "TensorFlow Version 2.8.0\n"
          ]
        }
      ],
      "source": [
        "import pandas as pd\n",
        "import numpy as np\n",
        "import tensorflow as tf\n",
        "import tensorflow_addons as tfa\n",
        "import glob, warnings\n",
        "import matplotlib.pyplot as plt\n",
        "from sklearn.metrics import confusion_matrix, classification_report\n",
        "import seaborn as sns\n",
        "\n",
        "warnings.filterwarnings('ignore')\n",
        "print('TensorFlow Version ' + tf.__version__)"
      ]
    },
    {
      "cell_type": "code",
      "source": [
        "import numpy as np\n",
        "import tensorflow as tf\n",
        "from tensorflow import keras\n",
        "from tensorflow.keras import layers\n",
        "import tensorflow_addons as tfa\n",
        "import pandas as pd\n",
        "from tensorflow import keras\n",
        "from tensorflow.keras.preprocessing.image import ImageDataGenerator\n",
        "from tensorflow.keras.preprocessing.image import img_to_array\n",
        "from tensorflow.keras.callbacks import ReduceLROnPlateau\n",
        "from tensorflow.keras import regularizers\n",
        "from tensorflow.keras.regularizers import l2\n",
        "from tensorflow.keras.layers import Dropout, MaxPooling2D, Flatten"
      ],
      "metadata": {
        "id": "s5HLmyCj7_S9"
      },
      "execution_count": null,
      "outputs": []
    },
    {
      "cell_type": "markdown",
      "source": [
        "### Load Data"
      ],
      "metadata": {
        "id": "4nuGhdfa04vh"
      }
    },
    {
      "cell_type": "code",
      "source": [
        "!gdown https://drive.google.com/uc?id=1Cn_hwxJlo1R8I0IDGQcNzPUYtyD6T9a2 #FULL DATASET\n",
        "#!gdown https://drive.google.com/uc?id=18ZKkAW5nPcUOBDeZ3xRjtvErBhAKVKoD #only java csv\n"
      ],
      "metadata": {
        "colab": {
          "base_uri": "https://localhost:8080/"
        },
        "id": "ViYOljBi9L1T",
        "outputId": "f5f97121-5458-439c-9628-be560a497120"
      },
      "execution_count": null,
      "outputs": [
        {
          "output_type": "stream",
          "name": "stdout",
          "text": [
            "Downloading...\n",
            "From: https://drive.google.com/uc?id=1Cn_hwxJlo1R8I0IDGQcNzPUYtyD6T9a2\n",
            "To: /content/Readability_Dataset_Complete.zip\n",
            "100% 61.1M/61.1M [00:00<00:00, 91.7MB/s]\n"
          ]
        }
      ]
    },
    {
      "cell_type": "code",
      "source": [
        "!unzip 'Readability_Dataset_Complete.zip' &>/dev/null"
      ],
      "metadata": {
        "id": "2G5pzkw19QMN"
      },
      "execution_count": null,
      "outputs": []
    },
    {
      "cell_type": "markdown",
      "source": [
        "### Java Only"
      ],
      "metadata": {
        "id": "5qWdRZZk0WGX"
      }
    },
    {
      "cell_type": "code",
      "source": [
        "nsh_dark_java = pd.read_csv('MergedTotal_NSH_Dark/csv/merged_java.csv')\n",
        "nsh_light_java = pd.read_csv('MergedTotal_NSH_Light/csv/merged_java.csv')\n",
        "sh_light_java = pd.read_csv('MergedTotal_SH_Light/csv/merged_java.csv')\n",
        "sh_dark_java = pd.read_csv('MergedTotal_SH_Dark/csv/merged_java.csv')\n",
        "\n",
        "nsh_dark_java['filepaths'] = \"MergedTotal_NSH_Dark/\" + nsh_dark_java['filepaths']\n",
        "nsh_light_java['filepaths'] = \"MergedTotal_NSH_Light/\" + nsh_light_java['filepaths']\n",
        "sh_light_java['filepaths'] = \"MergedTotal_SH_Light/\" + sh_light_java['filepaths']\n",
        "sh_dark_java['filepaths'] = \"MergedTotal_SH_Dark/\" + sh_dark_java['filepaths']\n",
        "\n",
        "train_nsh_dark, val_nsh_dark, test_nsh_dark = \\\n",
        "              np.split(nsh_dark_java.sample(frac=1, random_state=42), \n",
        "                       [int(.8*len(nsh_dark_java)), int(.9*len(nsh_dark_java))])\n",
        "              \n",
        "train_sh_dark, val_sh_dark, test_sh_dark = \\\n",
        "              np.split(sh_dark_java.sample(frac=1, random_state=42), \n",
        "                       [int(.8*len(sh_dark_java)), int(.9*len(sh_dark_java))])\n",
        "\n",
        "train_nsh_light, val_nsh_light, test_nsh_light = \\\n",
        "              np.split(nsh_light_java.sample(frac=1, random_state=42), \n",
        "                       [int(.8*len(nsh_light_java)), int(.9*len(nsh_light_java))])\n",
        "              \n",
        "train_sh_light, val_sh_light, test_sh_light = \\\n",
        "              np.split(sh_light_java.sample(frac=1, random_state=42), \n",
        "                       [int(.8*len(sh_light_java)), int(.9*len(sh_light_java))])\n",
        "              \n",
        "train_df_java = pd.concat([train_nsh_dark,train_sh_dark,train_nsh_light,train_sh_light], ignore_index=True)\n",
        "val_df_java = pd.concat([val_nsh_dark,val_sh_dark,val_nsh_light,val_sh_light], ignore_index=True)\n",
        "test_df_java = pd.concat([test_nsh_dark,test_sh_dark,test_nsh_light,test_sh_light], ignore_index=True)\n",
        "\n",
        "val_df_java['readable'] = val_df_java['readable'].astype(str) \n",
        "train_df_java['readable'] = train_df_java['readable'].astype(str) \n",
        "test_df_java['readable'] = test_df_java['readable'].astype(str) "
      ],
      "metadata": {
        "id": "HjsnovoD9SZ6"
      },
      "execution_count": null,
      "outputs": []
    },
    {
      "cell_type": "markdown",
      "source": [
        "### Complete Dataset"
      ],
      "metadata": {
        "id": "FdRW6sJ00iy7"
      }
    },
    {
      "cell_type": "code",
      "source": [
        "nsh_dark_total = pd.read_csv('MergedTotal_NSH_Dark/csv/merged_total.csv')\n",
        "nsh_light_total = pd.read_csv('MergedTotal_NSH_Light/csv/merged_total.csv')\n",
        "sh_light_total = pd.read_csv('MergedTotal_SH_Light/csv/merged_total.csv')\n",
        "sh_dark_total = pd.read_csv('MergedTotal_SH_Dark/csv/merged_total.csv')\n",
        "\n",
        "nsh_dark_total['filepaths'] = \"MergedTotal_NSH_Dark/\" + nsh_dark_total['filepaths']\n",
        "nsh_light_total['filepaths'] = \"MergedTotal_NSH_Light/\" + nsh_light_total['filepaths']\n",
        "sh_light_total['filepaths'] = \"MergedTotal_SH_Light/\" + sh_light_total['filepaths']\n",
        "sh_dark_total['filepaths'] = \"MergedTotal_SH_Dark/\" + sh_dark_total['filepaths']\n",
        "\n",
        "train_nsh_dark, val_nsh_dark, test_nsh_dark = \\\n",
        "              np.split(nsh_dark_total.sample(frac=1, random_state=42), \n",
        "                       [int(.8*len(nsh_dark_total)), int(.9*len(nsh_dark_total))])\n",
        "              \n",
        "train_sh_dark, val_sh_dark, test_sh_dark = \\\n",
        "              np.split(sh_dark_total.sample(frac=1, random_state=42), \n",
        "                       [int(.8*len(sh_dark_total)), int(.9*len(sh_dark_total))])\n",
        "\n",
        "train_nsh_light, val_nsh_light, test_nsh_light = \\\n",
        "              np.split(nsh_light_total.sample(frac=1, random_state=42), \n",
        "                       [int(.8*len(nsh_light_total)), int(.9*len(nsh_light_total))])\n",
        "              \n",
        "train_sh_light, val_sh_light, test_sh_light = \\\n",
        "              np.split(sh_light_total.sample(frac=1, random_state=42), \n",
        "                       [int(.8*len(sh_light_total)), int(.9*len(sh_light_total))])\n",
        "              \n",
        "\n",
        "\n",
        "train_nsh_dark.readable = np.where(train_nsh_dark.average_score >= 3.5, 1, 0)\n",
        "val_nsh_dark.readable = np.where(val_nsh_dark.average_score >= 3.5, 1, 0)\n",
        "test_nsh_dark.readable = np.where(test_nsh_dark.average_score >= 3.5, 1, 0)\n",
        "\n",
        "train_sh_dark.readable = np.where(train_sh_dark.average_score >= 3.5, 1, 0)\n",
        "val_sh_dark.readable = np.where(val_sh_dark.average_score >= 3.5, 1, 0)\n",
        "test_sh_dark.readable = np.where(test_sh_dark.average_score >= 3.5, 1, 0)\n",
        "\n",
        "train_sh_light.readable = np.where(train_sh_light.average_score >= 3.5, 1, 0)\n",
        "val_sh_light.readable = np.where(val_sh_light.average_score >= 3.5, 1, 0)\n",
        "test_sh_light.readable = np.where(test_sh_light.average_score >= 3.5, 1, 0)\n",
        "\n",
        "train_nsh_light.readable = np.where(train_nsh_light.average_score >= 3.5, 1, 0)\n",
        "val_nsh_light.readable = np.where(val_nsh_light.average_score >= 3.5, 1, 0)\n",
        "test_nsh_light.readable = np.where(test_nsh_light.average_score >= 3.5, 1, 0)\n",
        "\n",
        "train_df = pd.concat([train_nsh_dark,train_sh_dark,train_nsh_light,train_sh_light], ignore_index=True)\n",
        "val_df = pd.concat([val_nsh_dark,val_sh_dark,val_nsh_light,val_sh_light], ignore_index=True)\n",
        "test_df = pd.concat([test_nsh_dark,test_sh_dark,test_nsh_light,test_sh_light], ignore_index=True)\n",
        "\n",
        "val_df['readable'] = val_df['readable'].astype(str) \n",
        "train_df['readable'] = train_df['readable'].astype(str) \n",
        "test_df['readable'] = test_df['readable'].astype(str) "
      ],
      "metadata": {
        "id": "eiymKRCh0mM8"
      },
      "execution_count": null,
      "outputs": []
    },
    {
      "cell_type": "markdown",
      "source": [
        "### Data Generator"
      ],
      "metadata": {
        "id": "j_ExOEEF1LpP"
      }
    },
    {
      "cell_type": "code",
      "source": [
        "IMAGE_SIZE = 224\n",
        "BATCH_SIZE = 15\n",
        "\n",
        "\n",
        "datagen = tf.keras.preprocessing.image.ImageDataGenerator(rescale = 1./255)\n",
        "\n",
        "train_gen = datagen.flow_from_dataframe(dataframe= train_df,\n",
        "                                        #has_ext=False,\n",
        "                                        x_col='filepaths',\n",
        "                                        y_col='readable',\n",
        "                                        batch_size=BATCH_SIZE,\n",
        "                                        seed=6,\n",
        "                                        shuffle=True,\n",
        "                                        color_mode=\"rgb\",\n",
        "                                        class_mode=\"categorical\",\n",
        "                                        #validate_filenames=True,\n",
        "                                        target_size=(IMAGE_SIZE,IMAGE_SIZE))\n",
        "\n",
        "test_gen = datagen.flow_from_dataframe(dataframe= test_df,\n",
        "                                        #has_ext=False,\n",
        "                                        x_col='filepaths',\n",
        "                                        y_col='readable',\n",
        "                                        batch_size=BATCH_SIZE,\n",
        "                                        seed=6,\n",
        "                                        shuffle=True,\n",
        "                                        color_mode=\"rgb\",\n",
        "                                        class_mode=\"categorical\",\n",
        "                                        #validate_filenames=True,\n",
        "                                        target_size=(IMAGE_SIZE,IMAGE_SIZE))\n",
        "\n",
        "validation_gen = datagen.flow_from_dataframe(dataframe= val_df,\n",
        "                                        #has_ext=False,\n",
        "                                        x_col='filepaths',\n",
        "                                        y_col='readable',\n",
        "                                        batch_size=BATCH_SIZE,\n",
        "                                        seed=6,\n",
        "                                        shuffle=True,\n",
        "                                        color_mode=\"rgb\",\n",
        "                                        class_mode=\"categorical\",\n",
        "                                        #validate_filenames=True,\n",
        "                                        target_size=(IMAGE_SIZE,IMAGE_SIZE))"
      ],
      "metadata": {
        "colab": {
          "base_uri": "https://localhost:8080/"
        },
        "id": "p3BmrpTOh2jH",
        "outputId": "ef6eddb4-eae2-4784-a18a-77e97beab697"
      },
      "execution_count": null,
      "outputs": [
        {
          "output_type": "stream",
          "name": "stdout",
          "text": [
            "Found 2111 validated image filenames belonging to 2 classes.\n",
            "Found 264 validated image filenames belonging to 2 classes.\n",
            "Found 264 validated image filenames belonging to 2 classes.\n"
          ]
        }
      ]
    },
    {
      "cell_type": "code",
      "source": [
        "\n",
        "# images = [train_gen[0][0][i] for i in range(16)]\n",
        "# fig, axes = plt.subplots(3, 5, figsize = (10, 10))\n",
        "\n",
        "# axes = axes.flatten()\n",
        "\n",
        "# for img, ax in zip(images, axes):\n",
        "#     ax.imshow(img.reshape(IMAGE_SIZE, IMAGE_SIZE, 3))\n",
        "#     ax.axis('off')\n",
        "\n",
        "# plt.tight_layout()\n",
        "# plt.show()"
      ],
      "metadata": {
        "id": "dAZ48zguj3za"
      },
      "execution_count": null,
      "outputs": []
    },
    {
      "cell_type": "markdown",
      "source": [
        "### Building the Model"
      ],
      "metadata": {
        "id": "5y5omtzSkPP9"
      }
    },
    {
      "cell_type": "code",
      "source": [
        "!pip install --quiet vit-keras\n",
        "\n",
        "from vit_keras import vit\n",
        "\n",
        "vit_model = vit.vit_b32(\n",
        "        image_size = IMAGE_SIZE,\n",
        "        activation = 'softmax',\n",
        "        pretrained = True,\n",
        "        include_top = False,\n",
        "        pretrained_top = False,\n",
        "        classes = 2)"
      ],
      "metadata": {
        "id": "8t03il5QkJUD",
        "colab": {
          "base_uri": "https://localhost:8080/"
        },
        "outputId": "bf2553ba-e510-4354-eb48-5464555740ae"
      },
      "execution_count": null,
      "outputs": [
        {
          "output_type": "stream",
          "name": "stdout",
          "text": [
            "Downloading data from https://github.com/faustomorales/vit-keras/releases/download/dl/ViT-B_32_imagenet21k+imagenet2012.npz\n",
            "353255424/353253686 [==============================] - 13s 0us/step\n",
            "353263616/353253686 [==============================] - 13s 0us/step\n"
          ]
        }
      ]
    },
    {
      "cell_type": "code",
      "source": [
        "model = tf.keras.Sequential([\n",
        "        vit_model,\n",
        "        tf.keras.layers.Flatten(),\n",
        "        tf.keras.layers.BatchNormalization(),\n",
        "        tf.keras.layers.Dense(11, activation = tfa.activations.gelu),\n",
        "        tf.keras.layers.Dense(11, activation = tfa.activations.gelu),\n",
        "        tf.keras.layers.BatchNormalization(),\n",
        "        tf.keras.layers.Dense(2, 'softmax')\n",
        "    ],\n",
        "    name = 'vision_transformer')\n",
        "\n",
        "model.summary()"
      ],
      "metadata": {
        "colab": {
          "base_uri": "https://localhost:8080/"
        },
        "id": "3X5YUEU-3OHK",
        "outputId": "af9a2ab5-313e-4344-f903-0af935c727f7"
      },
      "execution_count": null,
      "outputs": [
        {
          "output_type": "stream",
          "name": "stdout",
          "text": [
            "Model: \"vision_transformer\"\n",
            "_________________________________________________________________\n",
            " Layer (type)                Output Shape              Param #   \n",
            "=================================================================\n",
            " vit-b32 (Functional)        (None, 768)               87455232  \n",
            "                                                                 \n",
            " flatten_1 (Flatten)         (None, 768)               0         \n",
            "                                                                 \n",
            " batch_normalization_2 (Batc  (None, 768)              3072      \n",
            " hNormalization)                                                 \n",
            "                                                                 \n",
            " dense_2 (Dense)             (None, 11)                8459      \n",
            "                                                                 \n",
            " dense_3 (Dense)             (None, 11)                132       \n",
            "                                                                 \n",
            " batch_normalization_3 (Batc  (None, 11)               44        \n",
            " hNormalization)                                                 \n",
            "                                                                 \n",
            " dense_4 (Dense)             (None, 2)                 24        \n",
            "                                                                 \n",
            "=================================================================\n",
            "Total params: 87,466,963\n",
            "Trainable params: 87,465,405\n",
            "Non-trainable params: 1,558\n",
            "_________________________________________________________________\n"
          ]
        }
      ]
    },
    {
      "cell_type": "code",
      "source": [
        "learning_rate = 0.0001\n",
        "EPOCHS = 100\n",
        "\n",
        "optimizer = tfa.optimizers.RectifiedAdam(learning_rate = learning_rate)\n",
        "\n",
        "model.compile(optimizer = optimizer, \n",
        "              loss = tf.keras.losses.CategoricalCrossentropy(label_smoothing = 0.2), \n",
        "              metrics = ['accuracy',tf.keras.metrics.AUC(name='auc')])\n",
        "\n",
        "STEP_SIZE_TRAIN = train_gen.n // train_gen.batch_size\n",
        "STEP_SIZE_VALID = validation_gen.n // validation_gen.batch_size\n",
        "\n",
        "reduce_lr = tf.keras.callbacks.ReduceLROnPlateau(monitor = 'val_auc',\n",
        "                                                 factor = 0.2,\n",
        "                                                 patience = 2,\n",
        "                                                 verbose = 1,\n",
        "                                                 min_delta = 1e-4,\n",
        "                                                 min_lr = 1e-6,\n",
        "                                                 mode = 'max')\n",
        "\n",
        "earlystopping = tf.keras.callbacks.EarlyStopping(monitor = 'val_auc',\n",
        "                                                 min_delta = 1e-4,\n",
        "                                                 patience = 10,\n",
        "                                                 mode = 'max',\n",
        "                                                 restore_best_weights = True,\n",
        "                                                 verbose = 1)\n",
        "\n",
        "checkpointer = tf.keras.callbacks.ModelCheckpoint(filepath = './model.hdf5',\n",
        "                                                  monitor = 'val_auc', \n",
        "                                                  verbose = 1, \n",
        "                                                  save_best_only = True,\n",
        "                                                  save_weights_only = True,\n",
        "                                                  mode = 'max')\n",
        "\n",
        "callbacks = [earlystopping, reduce_lr, checkpointer]\n",
        "\n",
        "model.fit(x = train_gen,\n",
        "          steps_per_epoch = STEP_SIZE_TRAIN,\n",
        "          validation_data = validation_gen,\n",
        "          validation_steps = STEP_SIZE_VALID,\n",
        "          epochs = EPOCHS,\n",
        "          callbacks = callbacks)\n",
        "# Save the weights\n",
        "model.save_weights('./checkpoints/my_checkpoint')\n",
        "# model.save('model.h5', save_weights_only = True)"
      ],
      "metadata": {
        "colab": {
          "base_uri": "https://localhost:8080/"
        },
        "id": "rJpSBXop3Tb3",
        "outputId": "08c9294e-58ef-45bb-e0b2-7e4000e494c1"
      },
      "execution_count": null,
      "outputs": [
        {
          "output_type": "stream",
          "name": "stdout",
          "text": [
            "Epoch 1/100\n",
            "140/140 [==============================] - ETA: 0s - loss: 0.3660 - accuracy: 0.9862 - auc: 0.9939\n",
            "Epoch 1: val_auc improved from -inf to 0.72337, saving model to ./model.hdf5\n",
            "140/140 [==============================] - 61s 266ms/step - loss: 0.3660 - accuracy: 0.9862 - auc: 0.9939 - val_loss: 0.8071 - val_accuracy: 0.7020 - val_auc: 0.7234 - lr: 1.0000e-04\n",
            "Epoch 2/100\n",
            "140/140 [==============================] - ETA: 0s - loss: 0.3517 - accuracy: 0.9938 - auc: 0.9989\n",
            "Epoch 2: val_auc improved from 0.72337 to 0.73008, saving model to ./model.hdf5\n",
            "140/140 [==============================] - 34s 240ms/step - loss: 0.3517 - accuracy: 0.9938 - auc: 0.9989 - val_loss: 0.7823 - val_accuracy: 0.7020 - val_auc: 0.7301 - lr: 1.0000e-04\n",
            "Epoch 3/100\n",
            "140/140 [==============================] - ETA: 0s - loss: 0.3866 - accuracy: 0.9604 - auc: 0.9890\n",
            "Epoch 3: val_auc did not improve from 0.73008\n",
            "140/140 [==============================] - 33s 233ms/step - loss: 0.3866 - accuracy: 0.9604 - auc: 0.9890 - val_loss: 0.8750 - val_accuracy: 0.6588 - val_auc: 0.6951 - lr: 1.0000e-04\n",
            "Epoch 4/100\n",
            "140/140 [==============================] - ETA: 0s - loss: 0.3683 - accuracy: 0.9776 - auc: 0.9923\n",
            "Epoch 4: ReduceLROnPlateau reducing learning rate to 1.9999999494757503e-05.\n",
            "\n",
            "Epoch 4: val_auc did not improve from 0.73008\n",
            "140/140 [==============================] - 33s 233ms/step - loss: 0.3683 - accuracy: 0.9776 - auc: 0.9923 - val_loss: 0.8895 - val_accuracy: 0.6941 - val_auc: 0.6998 - lr: 1.0000e-04\n",
            "Epoch 5/100\n",
            "140/140 [==============================] - ETA: 0s - loss: 0.3495 - accuracy: 0.9943 - auc: 0.9995\n",
            "Epoch 5: val_auc did not improve from 0.73008\n",
            "140/140 [==============================] - 33s 232ms/step - loss: 0.3495 - accuracy: 0.9943 - auc: 0.9995 - val_loss: 0.8279 - val_accuracy: 0.6745 - val_auc: 0.7228 - lr: 2.0000e-05\n",
            "Epoch 6/100\n",
            "140/140 [==============================] - ETA: 0s - loss: 0.3451 - accuracy: 0.9971 - auc: 0.9997\n",
            "Epoch 6: ReduceLROnPlateau reducing learning rate to 3.999999898951501e-06.\n",
            "\n",
            "Epoch 6: val_auc did not improve from 0.73008\n",
            "140/140 [==============================] - 33s 233ms/step - loss: 0.3451 - accuracy: 0.9971 - auc: 0.9997 - val_loss: 0.8206 - val_accuracy: 0.7059 - val_auc: 0.7270 - lr: 2.0000e-05\n",
            "Epoch 7/100\n",
            "140/140 [==============================] - ETA: 0s - loss: 0.3459 - accuracy: 0.9952 - auc: 0.9982\n",
            "Epoch 7: val_auc improved from 0.73008 to 0.73507, saving model to ./model.hdf5\n",
            "140/140 [==============================] - 34s 240ms/step - loss: 0.3459 - accuracy: 0.9952 - auc: 0.9982 - val_loss: 0.7977 - val_accuracy: 0.7059 - val_auc: 0.7351 - lr: 4.0000e-06\n",
            "Epoch 8/100\n",
            "140/140 [==============================] - ETA: 0s - loss: 0.3483 - accuracy: 0.9962 - auc: 0.9998\n",
            "Epoch 8: val_auc did not improve from 0.73507\n",
            "140/140 [==============================] - 33s 233ms/step - loss: 0.3483 - accuracy: 0.9962 - auc: 0.9998 - val_loss: 0.8507 - val_accuracy: 0.6902 - val_auc: 0.7116 - lr: 4.0000e-06\n",
            "Epoch 9/100\n",
            "140/140 [==============================] - ETA: 0s - loss: 0.3466 - accuracy: 0.9967 - auc: 0.9994\n",
            "Epoch 9: val_auc improved from 0.73507 to 0.73709, saving model to ./model.hdf5\n",
            "140/140 [==============================] - 34s 240ms/step - loss: 0.3466 - accuracy: 0.9967 - auc: 0.9994 - val_loss: 0.7875 - val_accuracy: 0.7176 - val_auc: 0.7371 - lr: 4.0000e-06\n",
            "Epoch 10/100\n",
            "140/140 [==============================] - ETA: 0s - loss: 0.3486 - accuracy: 0.9986 - auc: 1.0000\n",
            "Epoch 10: val_auc improved from 0.73709 to 0.73898, saving model to ./model.hdf5\n",
            "140/140 [==============================] - 34s 240ms/step - loss: 0.3486 - accuracy: 0.9986 - auc: 1.0000 - val_loss: 0.7936 - val_accuracy: 0.7137 - val_auc: 0.7390 - lr: 4.0000e-06\n",
            "Epoch 11/100\n",
            "140/140 [==============================] - ETA: 0s - loss: 0.3448 - accuracy: 0.9976 - auc: 0.9991\n",
            "Epoch 11: val_auc did not improve from 0.73898\n",
            "140/140 [==============================] - 33s 233ms/step - loss: 0.3448 - accuracy: 0.9976 - auc: 0.9991 - val_loss: 0.7963 - val_accuracy: 0.7137 - val_auc: 0.7343 - lr: 4.0000e-06\n",
            "Epoch 12/100\n",
            "140/140 [==============================] - ETA: 0s - loss: 0.3442 - accuracy: 0.9976 - auc: 0.9999\n",
            "Epoch 12: ReduceLROnPlateau reducing learning rate to 1e-06.\n",
            "\n",
            "Epoch 12: val_auc did not improve from 0.73898\n",
            "140/140 [==============================] - 33s 233ms/step - loss: 0.3442 - accuracy: 0.9976 - auc: 0.9999 - val_loss: 0.7980 - val_accuracy: 0.7137 - val_auc: 0.7318 - lr: 4.0000e-06\n",
            "Epoch 13/100\n",
            "140/140 [==============================] - ETA: 0s - loss: 0.3476 - accuracy: 0.9976 - auc: 0.9999\n",
            "Epoch 13: val_auc did not improve from 0.73898\n",
            "140/140 [==============================] - 33s 233ms/step - loss: 0.3476 - accuracy: 0.9976 - auc: 0.9999 - val_loss: 0.8153 - val_accuracy: 0.6980 - val_auc: 0.7272 - lr: 1.0000e-06\n",
            "Epoch 14/100\n",
            "140/140 [==============================] - ETA: 0s - loss: 0.3453 - accuracy: 0.9971 - auc: 0.9998\n",
            "Epoch 14: val_auc did not improve from 0.73898\n",
            "140/140 [==============================] - 33s 233ms/step - loss: 0.3453 - accuracy: 0.9971 - auc: 0.9998 - val_loss: 0.8117 - val_accuracy: 0.7020 - val_auc: 0.7296 - lr: 1.0000e-06\n",
            "Epoch 15/100\n",
            "140/140 [==============================] - ETA: 0s - loss: 0.3438 - accuracy: 0.9981 - auc: 0.9997\n",
            "Epoch 15: val_auc did not improve from 0.73898\n",
            "140/140 [==============================] - 33s 233ms/step - loss: 0.3438 - accuracy: 0.9981 - auc: 0.9997 - val_loss: 0.8072 - val_accuracy: 0.7137 - val_auc: 0.7284 - lr: 1.0000e-06\n",
            "Epoch 16/100\n",
            "140/140 [==============================] - ETA: 0s - loss: 0.3479 - accuracy: 0.9976 - auc: 0.9999\n",
            "Epoch 16: val_auc did not improve from 0.73898\n",
            "140/140 [==============================] - 33s 233ms/step - loss: 0.3479 - accuracy: 0.9976 - auc: 0.9999 - val_loss: 0.8102 - val_accuracy: 0.7020 - val_auc: 0.7292 - lr: 1.0000e-06\n",
            "Epoch 17/100\n",
            "140/140 [==============================] - ETA: 0s - loss: 0.3450 - accuracy: 0.9981 - auc: 0.9990\n",
            "Epoch 17: val_auc did not improve from 0.73898\n",
            "140/140 [==============================] - 33s 233ms/step - loss: 0.3450 - accuracy: 0.9981 - auc: 0.9990 - val_loss: 0.8040 - val_accuracy: 0.7020 - val_auc: 0.7324 - lr: 1.0000e-06\n",
            "Epoch 18/100\n",
            "140/140 [==============================] - ETA: 0s - loss: 0.3454 - accuracy: 0.9976 - auc: 0.9998\n",
            "Epoch 18: val_auc did not improve from 0.73898\n",
            "140/140 [==============================] - 33s 232ms/step - loss: 0.3454 - accuracy: 0.9976 - auc: 0.9998 - val_loss: 0.7873 - val_accuracy: 0.7216 - val_auc: 0.7366 - lr: 1.0000e-06\n",
            "Epoch 19/100\n",
            "140/140 [==============================] - ETA: 0s - loss: 0.3414 - accuracy: 0.9990 - auc: 0.9998\n",
            "Epoch 19: val_auc did not improve from 0.73898\n",
            "140/140 [==============================] - 33s 233ms/step - loss: 0.3414 - accuracy: 0.9990 - auc: 0.9998 - val_loss: 0.7854 - val_accuracy: 0.7216 - val_auc: 0.7370 - lr: 1.0000e-06\n",
            "Epoch 20/100\n",
            "140/140 [==============================] - ETA: 0s - loss: 0.3466 - accuracy: 0.9986 - auc: 0.9990Restoring model weights from the end of the best epoch: 10.\n",
            "\n",
            "Epoch 20: val_auc did not improve from 0.73898\n",
            "140/140 [==============================] - 33s 234ms/step - loss: 0.3466 - accuracy: 0.9986 - auc: 0.9990 - val_loss: 0.7873 - val_accuracy: 0.7216 - val_auc: 0.7370 - lr: 1.0000e-06\n",
            "Epoch 20: early stopping\n"
          ]
        }
      ]
    },
    {
      "cell_type": "code",
      "source": [
        "model.load_weights(\"/content/model.hdf5\")\n",
        "model.evaluate_generator(test_gen)"
      ],
      "metadata": {
        "colab": {
          "base_uri": "https://localhost:8080/"
        },
        "id": "ZsADWOY7_MnE",
        "outputId": "466b3588-f3f8-4438-81cd-e3f6e32706fc"
      },
      "execution_count": null,
      "outputs": [
        {
          "output_type": "execute_result",
          "data": {
            "text/plain": [
              "[0.8582514524459839, 0.6590909361839294, 0.695061445236206]"
            ]
          },
          "metadata": {},
          "execution_count": 36
        }
      ]
    },
    {
      "cell_type": "code",
      "source": [
        "predicted_classes = np.argmax(model.predict(validation_gen, steps = validation_gen.n // validation_gen.batch_size + 1), axis = 1)\n",
        "true_classes = validation_gen.classes\n",
        "class_labels = list(validation_gen.class_indices.keys())  \n",
        "\n",
        "confusionmatrix = confusion_matrix(true_classes, predicted_classes)\n",
        "plt.figure(figsize = (16, 16))\n",
        "sns.heatmap(confusionmatrix, cmap = 'Blues', annot = True, cbar = True)\n",
        "\n",
        "print(classification_report(true_classes, predicted_classes))"
      ],
      "metadata": {
        "colab": {
          "base_uri": "https://localhost:8080/",
          "height": 1000
        },
        "id": "35ayCTkW-cYw",
        "outputId": "373f1b9c-89bf-43b9-99d5-f56759e60207"
      },
      "execution_count": null,
      "outputs": [
        {
          "output_type": "stream",
          "name": "stdout",
          "text": [
            "              precision    recall  f1-score   support\n",
            "\n",
            "           0       0.62      0.42      0.50       156\n",
            "           1       0.43      0.62      0.51       108\n",
            "\n",
            "    accuracy                           0.50       264\n",
            "   macro avg       0.52      0.52      0.50       264\n",
            "weighted avg       0.54      0.50      0.50       264\n",
            "\n"
          ]
        },
        {
          "output_type": "display_data",
          "data": {
            "text/plain": [
              "<Figure size 1152x1152 with 2 Axes>"
            ],
            "image/png": "[encoded data removed]"
          },
          "metadata": {
            "needs_background": "light"
          }
        }
      ]
    },
    {
      "cell_type": "code",
      "source": [
        ""
      ],
      "metadata": {
        "id": "LiEiU4Sd60Ns"
      },
      "execution_count": null,
      "outputs": []
    }
  ]
}