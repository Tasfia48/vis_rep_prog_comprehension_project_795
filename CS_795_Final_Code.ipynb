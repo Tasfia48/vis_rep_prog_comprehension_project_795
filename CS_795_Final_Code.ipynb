{
  "nbformat": 4,
  "nbformat_minor": 0,
  "metadata": {
    "colab": {
      "name": "CS_795_Final_Code.ipynb",
      "provenance": [],
      "collapsed_sections": [],
      "machine_shape": "hm",
      "include_colab_link": true
    },
    "kernelspec": {
      "name": "python3",
      "display_name": "Python 3"
    },
    "language_info": {
      "name": "python"
    },
    "accelerator": "GPU"
  },
  "cells": [
    {
      "cell_type": "markdown",
      "metadata": {
        "id": "view-in-github",
        "colab_type": "text"
      },
      "source": [
        "<a href=\"https://colab.research.google.com/github/Tasfia48/vis_rep_prog_comprehension_project_795/blob/main/CS_795_Final_Code.ipynb\" target=\"_parent\"><img src=\"https://colab.research.google.com/assets/colab-badge.svg\" alt=\"Open In Colab\"/></a>"
      ]
    },
    {
      "cell_type": "markdown",
      "source": [
        "## Download Files and Imports"
      ],
      "metadata": {
        "id": "xpNcL7thGMYz"
      }
    },
    {
      "cell_type": "code",
      "source": [
        "!gdown https://drive.google.com/uc?id=1Cn_hwxJlo1R8I0IDGQcNzPUYtyD6T9a2 #FULL DATASET\n",
        "#!gdown https://drive.google.com/uc?id=18ZKkAW5nPcUOBDeZ3xRjtvErBhAKVKoD #only java csv\n",
        "\n",
        "#!wget --user 'student747' --password 'DL5722' http://cs.gmu.edu/~dbarbara/CS747/Food-5K.zip --no-check-certificate"
      ],
      "metadata": {
        "colab": {
          "base_uri": "https://localhost:8080/"
        },
        "id": "ZWN0BLCS3OlY",
        "outputId": "087e3079-7e8c-4adc-eb06-4df93da09cd8"
      },
      "execution_count": null,
      "outputs": [
        {
          "output_type": "stream",
          "name": "stdout",
          "text": [
            "Downloading...\n",
            "From: https://drive.google.com/uc?id=1Cn_hwxJlo1R8I0IDGQcNzPUYtyD6T9a2\n",
            "To: /content/Readability_Dataset_Complete.zip\n",
            "100% 61.1M/61.1M [00:00<00:00, 326MB/s]\n"
          ]
        }
      ]
    },
    {
      "cell_type": "code",
      "source": [
        "!unzip 'Readability_Dataset_Complete.zip' &>/dev/null\n"
      ],
      "metadata": {
        "id": "bTrO6-b56K0X"
      },
      "execution_count": null,
      "outputs": []
    },
    {
      "cell_type": "code",
      "source": [
        "from google.colab import drive\n",
        "drive.mount('/content/gdrive')"
      ],
      "metadata": {
        "colab": {
          "base_uri": "https://localhost:8080/"
        },
        "id": "m-gHl9CyF0nK",
        "outputId": "a3b01a93-ff7e-4913-ee36-82d4a1dccab9"
      },
      "execution_count": null,
      "outputs": [
        {
          "output_type": "stream",
          "name": "stdout",
          "text": [
            "Mounted at /content/gdrive\n"
          ]
        }
      ]
    },
    {
      "cell_type": "code",
      "source": [
        "!mkdir 'weights'"
      ],
      "metadata": {
        "id": "TcuzX9kRBBcE"
      },
      "execution_count": null,
      "outputs": []
    },
    {
      "cell_type": "code",
      "source": [
        "!cp -r '/content/gdrive/MyDrive/GMU Semester 5/CS 795/project/pretrained_weights_converted.h5' '/content/weights/' "
      ],
      "metadata": {
        "id": "qZRY-6CCHzoM"
      },
      "execution_count": null,
      "outputs": []
    },
    {
      "cell_type": "code",
      "source": [
        "#gdown https://drive.google.com/uc?id=1l_5RK28JRL19wpT22B-DY9We3TVXnnQQ\n",
        "#!gdown --fuzzy https://drive.google.com/file/d/1_xGS0jshmlrYB1L9OXKzTDNDMns1HhFg/view?usp=sharing\n",
        "#https://drive.google.com/file/d/1_xGS0jshmlrYB1L9OXKzTDNDMns1HhFg/view?usp=sharing"
      ],
      "metadata": {
        "id": "DNS3Tbf--rZa"
      },
      "execution_count": null,
      "outputs": []
    },
    {
      "cell_type": "code",
      "source": [
        "#!gdown https://drive.google.com/uc?id=1QHAkdGueL0mn9CPFKDpqsvv8j37f-qrV #full dataset csv\n",
        "#!gdown https://drive.google.com/uc?id=1uw-1nwVmhQQoywVtliKCSqsZYuyUZbU0 #full dataset images"
      ],
      "metadata": {
        "id": "ibHok6Gd-gpr"
      },
      "execution_count": null,
      "outputs": []
    },
    {
      "cell_type": "code",
      "source": [
        "#!unzip 'images.zip' &>/dev/null\n"
      ],
      "metadata": {
        "id": "sIaOmyAX6Cnk"
      },
      "execution_count": null,
      "outputs": []
    },
    {
      "cell_type": "code",
      "source": [
        "\n",
        "import glob\n",
        "import pandas as pd\n",
        "import tensorflow as tf\n",
        "from sklearn.neighbors import KNeighborsClassifier\n",
        "from tensorflow import keras\n",
        "\n",
        "\n",
        "import PIL\n",
        "import os\n",
        "from sklearn.metrics import accuracy_score\n",
        "from sklearn.metrics import classification_report\n",
        "from sklearn.metrics import confusion_matrix\n",
        "from sklearn.metrics import f1_score\n",
        "#from sklearn import svm\n",
        "\n",
        "from tensorflow.keras.models import Sequential\n",
        "from tensorflow.keras.layers import Dense\n",
        "from tensorflow.keras.optimizers import SGD\n",
        "from tensorflow.keras import datasets, layers, models\n",
        "\n",
        "\n",
        "\n",
        "from matplotlib import pyplot as plt\n",
        "from PIL import Image                                                            \n",
        "import glob\n",
        "import cv2\n",
        "from PIL import Image\n",
        "import numpy as np\n",
        "\n",
        "from pathlib import Path\n",
        "\n",
        "from tensorflow import keras\n",
        "from tensorflow.keras.preprocessing.image import ImageDataGenerator\n",
        "from tensorflow.keras.preprocessing.image import img_to_array\n",
        "from tensorflow.keras.callbacks import ReduceLROnPlateau\n",
        "\n",
        "from tensorflow.keras import regularizers\n",
        "from tensorflow.keras.regularizers import l2\n",
        "from tensorflow.keras.layers import Dropout, MaxPooling2D, Flatten\n",
        "\n",
        "\n",
        "from tensorflow.keras.applications.vgg16 import VGG16\n",
        "from tensorflow.keras.applications.resnet50 import ResNet50\n",
        "from tensorflow.keras.models import Model\n",
        "from tensorflow.keras.preprocessing import image\n",
        "from tensorflow.keras.applications.vgg16 import preprocess_input\n",
        "from tensorflow.keras.applications.efficientnet_v2 import EfficientNetV2M, EfficientNetV2B2, EfficientNetV2B0"
      ],
      "metadata": {
        "id": "o2-VqBKhiHJ1"
      },
      "execution_count": null,
      "outputs": []
    },
    {
      "cell_type": "code",
      "source": [
        ""
      ],
      "metadata": {
        "id": "8vBDbDOQMrSC"
      },
      "execution_count": null,
      "outputs": []
    },
    {
      "cell_type": "code",
      "source": [
        "!pip install tensorflow_addons"
      ],
      "metadata": {
        "colab": {
          "base_uri": "https://localhost:8080/"
        },
        "id": "98TD66NLSA4I",
        "outputId": "49144347-ec92-467a-beba-db47b0f8a9de"
      },
      "execution_count": null,
      "outputs": [
        {
          "output_type": "stream",
          "name": "stdout",
          "text": [
            "Collecting tensorflow_addons\n",
            "  Downloading tensorflow_addons-0.16.1-cp37-cp37m-manylinux_2_12_x86_64.manylinux2010_x86_64.whl (1.1 MB)\n",
            "\u001b[K     |████████████████████████████████| 1.1 MB 4.4 MB/s \n",
            "\u001b[?25hRequirement already satisfied: typeguard>=2.7 in /usr/local/lib/python3.7/dist-packages (from tensorflow_addons) (2.7.1)\n",
            "Installing collected packages: tensorflow-addons\n",
            "Successfully installed tensorflow-addons-0.16.1\n"
          ]
        }
      ]
    },
    {
      "cell_type": "code",
      "source": [
        "import tensorflow_addons as tfa\n",
        "from tensorflow_addons.optimizers import AdamW"
      ],
      "metadata": {
        "id": "jfOR4TtPR__Q"
      },
      "execution_count": null,
      "outputs": []
    },
    {
      "cell_type": "markdown",
      "source": [
        "## Open and Splitting Dataset"
      ],
      "metadata": {
        "id": "rMl_ukFBGcQk"
      }
    },
    {
      "cell_type": "markdown",
      "source": [
        "### JAVA Datataset"
      ],
      "metadata": {
        "id": "cG_5sGlW5oqI"
      }
    },
    {
      "cell_type": "code",
      "source": [
        "nsh_dark_java = pd.read_csv('MergedTotal_NSH_Dark/csv/merged_java.csv')\n",
        "nsh_light_java = pd.read_csv('MergedTotal_NSH_Light/csv/merged_java.csv')\n",
        "sh_light_java = pd.read_csv('MergedTotal_SH_Light/csv/merged_java.csv')\n",
        "sh_dark_java = pd.read_csv('MergedTotal_SH_Dark/csv/merged_java.csv')"
      ],
      "metadata": {
        "id": "lNAr3HSb9sLg"
      },
      "execution_count": null,
      "outputs": []
    },
    {
      "cell_type": "code",
      "source": [
        "nsh_dark_java['filepaths'] = \"MergedTotal_NSH_Dark/\" + nsh_dark_java['filepaths']\n",
        "nsh_light_java['filepaths'] = \"MergedTotal_NSH_Light/\" + nsh_light_java['filepaths']\n",
        "sh_light_java['filepaths'] = \"MergedTotal_SH_Light/\" + sh_light_java['filepaths']\n",
        "sh_dark_java['filepaths'] = \"MergedTotal_SH_Dark/\" + sh_dark_java['filepaths']"
      ],
      "metadata": {
        "id": "nDQW_8rMFU28"
      },
      "execution_count": null,
      "outputs": []
    },
    {
      "cell_type": "code",
      "source": [
        "train_nsh_dark, val_nsh_dark, test_nsh_dark = \\\n",
        "              np.split(nsh_dark_java.sample(frac=1, random_state=42), \n",
        "                       [int(.8*len(nsh_dark_java)), int(.9*len(nsh_dark_java))])\n",
        "              \n",
        "train_sh_dark, val_sh_dark, test_sh_dark = \\\n",
        "              np.split(sh_dark_java.sample(frac=1, random_state=42), \n",
        "                       [int(.8*len(sh_dark_java)), int(.9*len(sh_dark_java))])\n",
        "\n",
        "train_nsh_light, val_nsh_light, test_nsh_light = \\\n",
        "              np.split(nsh_light_java.sample(frac=1, random_state=42), \n",
        "                       [int(.8*len(nsh_light_java)), int(.9*len(nsh_light_java))])\n",
        "              \n",
        "\n",
        "              \n",
        "train_sh_light, val_sh_light, test_sh_light = \\\n",
        "              np.split(sh_light_java.sample(frac=1, random_state=42), \n",
        "                       [int(.8*len(sh_light_java)), int(.9*len(sh_light_java))])\n",
        "              \n",
        "train_df_java = pd.concat([train_nsh_dark,train_sh_dark,train_nsh_light,train_sh_light], ignore_index=True)\n",
        "val_df_java = pd.concat([val_nsh_dark,val_sh_dark,val_nsh_light,val_sh_light], ignore_index=True)\n",
        "test_df_java = pd.concat([test_nsh_dark,test_sh_dark,test_nsh_light,test_sh_light], ignore_index=True)\n"
      ],
      "metadata": {
        "id": "mvH0o8zX5LN_"
      },
      "execution_count": null,
      "outputs": []
    },
    {
      "cell_type": "code",
      "source": [
        "train_nsh_dark.readable = np.where(train_nsh_dark.average_score >= 3.5, 1, 0)\n",
        "val_nsh_dark.readable = np.where(val_nsh_dark.average_score >= 3.5, 1, 0)\n",
        "test_nsh_dark.readable = np.where(test_nsh_dark.average_score >= 3.5, 1, 0)\n",
        "\n",
        "train_sh_dark.readable = np.where(train_sh_dark.average_score >= 3.5, 1, 0)\n",
        "val_sh_dark.readable = np.where(val_sh_dark.average_score >= 3.5, 1, 0)\n",
        "test_sh_dark.readable = np.where(test_sh_dark.average_score >= 3.5, 1, 0)\n",
        "\n",
        "train_sh_light.readable = np.where(train_sh_light.average_score >= 3.5, 1, 0)\n",
        "val_sh_light.readable = np.where(val_sh_light.average_score >= 3.5, 1, 0)\n",
        "test_sh_light.readable = np.where(test_sh_light.average_score >= 3.5, 1, 0)\n",
        "\n",
        "train_nsh_light.readable = np.where(train_nsh_light.average_score >= 3.5, 1, 0)\n",
        "val_nsh_light.readable = np.where(val_nsh_light.average_score >= 3.5, 1, 0)\n",
        "test_nsh_light.readable = np.where(test_nsh_light.average_score >= 3.5, 1, 0)\n",
        "\n",
        "train_df_java.readable = np.where(train_df_java.average_score >= 3.5, 1, 0)\n",
        "val_df_java.readable = np.where(val_df_java.average_score >= 3.5, 1, 0)\n",
        "test_df_java.readable = np.where(test_df_java.average_score >= 3.5, 1, 0)"
      ],
      "metadata": {
        "id": "1VsJZAkt3OY8"
      },
      "execution_count": null,
      "outputs": []
    },
    {
      "cell_type": "code",
      "source": [
        ""
      ],
      "metadata": {
        "id": "muzbIY69j0qd"
      },
      "execution_count": null,
      "outputs": []
    },
    {
      "cell_type": "markdown",
      "source": [
        "#### Readability Threshold = 3"
      ],
      "metadata": {
        "id": "5daj3KRj-VtL"
      }
    },
    {
      "cell_type": "code",
      "source": [
        "train_df_java.readable = np.where(train_df_java.average_score >= 3, 1, 0)\n",
        "val_df_java.readable = np.where(val_df_java.average_score >= 3, 1, 0)\n",
        "test_df_java.readable = np.where(test_df_java.average_score >= 3, 1, 0)\n",
        "\n",
        "positive_labels = (train_df_java.readable.value_counts().to_list()[0], val_df_java.readable.value_counts().to_list()[0], test_df_java.readable.value_counts().to_list()[0])\n",
        "negative_labels = (train_df_java.readable.value_counts().to_list()[1], val_df_java.readable.value_counts().to_list()[1], test_df_java.readable.value_counts().to_list()[1])\n",
        "# Numbers of pairs of bars you want\n",
        "N = 3\n",
        "\n",
        "\n",
        "# Data on X-axis\n",
        "\n",
        "# Specify the values of blue bars (height)\n",
        "blue_bar = positive_labels\n",
        "# Specify the values of orange bars (height)\n",
        "orange_bar = negative_labels\n",
        "\n",
        "# Position of bars on x-axis\n",
        "ind = np.arange(N)\n",
        "\n",
        "# Figure size\n",
        "plt.figure(figsize=(10,5))\n",
        "\n",
        "# Width of a bar \n",
        "width = 0.3       \n",
        "\n",
        "# Plotting\n",
        "plt.bar(ind, blue_bar , width, label='Readable')\n",
        "plt.bar(ind + width, orange_bar, width, label='Unreadable')\n",
        "\n",
        "plt.xlabel('Dataset Split')\n",
        "plt.ylabel('Num Samples')\n",
        "plt.title('Dataset Distribution - Readability Threshold = 3')\n",
        "\n",
        "# xticks()\n",
        "# First argument - A list of positions at which ticks should be placed\n",
        "# Second argument -  A list of labels to place at the given locations\n",
        "plt.xticks(ind + width / 2, (\"train\", \"validation\", \"test\"))\n",
        "\n",
        "# Finding the best position for legends and putting it\n",
        "plt.legend(loc='best')\n",
        "plt.show()"
      ],
      "metadata": {
        "colab": {
          "base_uri": "https://localhost:8080/",
          "height": 349
        },
        "id": "oAMvvbo_8ks4",
        "outputId": "ca7fce70-ad15-469a-995b-1c76b2e8f822"
      },
      "execution_count": null,
      "outputs": [
        {
          "output_type": "display_data",
          "data": {
            "text/plain": [
              "<Figure size 720x360 with 1 Axes>"
            ],
            "image/png": "[encoded data removed]"
          },
          "metadata": {
            "needs_background": "light"
          }
        }
      ]
    },
    {
      "cell_type": "markdown",
      "source": [
        "#### Readability Threshold = 3.5"
      ],
      "metadata": {
        "id": "dM6wm2Hz-bB5"
      }
    },
    {
      "cell_type": "code",
      "source": [
        ""
      ],
      "metadata": {
        "id": "S-F6TluW8c7l"
      },
      "execution_count": null,
      "outputs": []
    },
    {
      "cell_type": "code",
      "source": [
        "train_df_java.readable = np.where(train_df_java.average_score >= 3.5, 1, 0)\n",
        "val_df_java.readable = np.where(val_df_java.average_score >= 3.5, 1, 0)\n",
        "test_df_java.readable = np.where(test_df_java.average_score >= 3.5, 1, 0)\n",
        "\n",
        "#positive_labels = (train_df_java.readable.value_counts().to_list()[0], val_df_java.readable.value_counts().to_list()[0], test_df_java.readable.value_counts().to_list()[0])\n",
        "#negative_labels = (train_df_java.readable.value_counts().to_list()[1], val_df_java.readable.value_counts().to_list()[1], test_df_java.readable.value_counts().to_list()[1])\n",
        "positive_labels = (train_nsh_dark.readable.value_counts().to_list()[0], val_nsh_dark.readable.value_counts().to_list()[0], test_nsh_dark.readable.value_counts().to_list()[0])\n",
        "negative_labels = (train_nsh_dark.readable.value_counts().to_list()[1], val_nsh_dark.readable.value_counts().to_list()[1], test_nsh_dark.readable.value_counts().to_list()[1])\n",
        "\n",
        "# Numbers of pairs of bars you want\n",
        "N = 3\n",
        "\n",
        "\n",
        "# Data on X-axis\n",
        "\n",
        "# Specify the values of blue bars (height)\n",
        "blue_bar = positive_labels\n",
        "# Specify the values of orange bars (height)\n",
        "orange_bar = negative_labels\n",
        "\n",
        "# Position of bars on x-axis\n",
        "ind = np.arange(N)\n",
        "\n",
        "# Figure size\n",
        "plt.figure(figsize=(10,5))\n",
        "\n",
        "# Width of a bar \n",
        "width = 0.3       \n",
        "\n",
        "# Plotting\n",
        "plt.bar(ind, blue_bar , width, label='Readable')\n",
        "plt.bar(ind + width, orange_bar, width, label='Unreadable')\n",
        "\n",
        "plt.xlabel('Dataset Split')\n",
        "plt.ylabel('Num Samples')\n",
        "plt.title('Dataset Distribution -  (Java Only) - Readability Threshold = 3.5')\n",
        "\n",
        "# xticks()\n",
        "# First argument - A list of positions at which ticks should be placed\n",
        "# Second argument -  A list of labels to place at the given locations\n",
        "plt.xticks(ind + width / 2, (\"train\", \"validation\", \"test\"))\n",
        "\n",
        "# Finding the best position for legends and putting it\n",
        "plt.legend(loc='best')\n",
        "plt.show()"
      ],
      "metadata": {
        "colab": {
          "base_uri": "https://localhost:8080/",
          "height": 350
        },
        "id": "6O03g6hx-K6r",
        "outputId": "9514beb0-ada8-4e1c-de59-537e829dc3b1"
      },
      "execution_count": null,
      "outputs": [
        {
          "output_type": "display_data",
          "data": {
            "text/plain": [
              "<Figure size 720x360 with 1 Axes>"
            ],
            "image/png": "[encoded data removed]"
          },
          "metadata": {
            "needs_background": "light"
          }
        }
      ]
    },
    {
      "cell_type": "markdown",
      "source": [
        "### Complete Dataset"
      ],
      "metadata": {
        "id": "nRjd7dEp5sCf"
      }
    },
    {
      "cell_type": "code",
      "source": [
        "nsh_dark_total = pd.read_csv('MergedTotal_NSH_Dark/csv/merged_total.csv')\n",
        "nsh_light_total = pd.read_csv('MergedTotal_NSH_Light/csv/merged_total.csv')\n",
        "sh_light_total = pd.read_csv('MergedTotal_SH_Light/csv/merged_total.csv')\n",
        "sh_dark_total = pd.read_csv('MergedTotal_SH_Dark/csv/merged_total.csv')"
      ],
      "metadata": {
        "id": "a2KUASBND0kS"
      },
      "execution_count": null,
      "outputs": []
    },
    {
      "cell_type": "code",
      "source": [
        "nsh_dark_total['filepaths'] = \"MergedTotal_NSH_Dark/\" + nsh_dark_total['filepaths']\n",
        "nsh_light_total['filepaths'] = \"MergedTotal_NSH_Light/\" + nsh_light_total['filepaths']\n",
        "sh_light_total['filepaths'] = \"MergedTotal_SH_Light/\" + sh_light_total['filepaths']\n",
        "sh_dark_total['filepaths'] = \"MergedTotal_SH_Dark/\" + sh_dark_total['filepaths']"
      ],
      "metadata": {
        "id": "qxk6njNuEGpI"
      },
      "execution_count": null,
      "outputs": []
    },
    {
      "cell_type": "code",
      "source": [
        "#dataset_total = pd.read_csv('merged_java.csv')\n",
        "#dataset_total = nsh_dark_total\n",
        "#dataset_total = pd.concat([nsh_dark_total, nsh_light_total, sh_light_total, sh_dark_total], ignore_index=True)#"
      ],
      "metadata": {
        "id": "9Ckh2THipccE"
      },
      "execution_count": null,
      "outputs": []
    },
    {
      "cell_type": "code",
      "source": [
        "#train_df, val_df, test_df = \\\n",
        "#              np.split(dataset_total.sample(frac=1, random_state=42), \n",
        "#                       [int(.8*len(dataset_total)), int(.9*len(dataset_total))])"
      ],
      "metadata": {
        "id": "nu8xUiSloupd"
      },
      "execution_count": null,
      "outputs": []
    },
    {
      "cell_type": "code",
      "source": [
        "train_nsh_dark, val_nsh_dark, test_nsh_dark = \\\n",
        "              np.split(nsh_dark_total.sample(frac=1, random_state=42), \n",
        "                       [int(.8*len(nsh_dark_total)), int(.9*len(nsh_dark_total))])\n",
        "              \n",
        "train_sh_dark, val_sh_dark, test_sh_dark = \\\n",
        "              np.split(sh_dark_total.sample(frac=1, random_state=42), \n",
        "                       [int(.8*len(sh_dark_total)), int(.9*len(sh_dark_total))])\n",
        "\n",
        "train_nsh_light, val_nsh_light, test_nsh_light = \\\n",
        "              np.split(nsh_light_total.sample(frac=1, random_state=42), \n",
        "                       [int(.8*len(nsh_light_total)), int(.9*len(nsh_light_total))])\n",
        "              \n",
        "train_sh_light, val_sh_light, test_sh_light = \\\n",
        "              np.split(sh_light_total.sample(frac=1, random_state=42), \n",
        "                       [int(.8*len(sh_light_total)), int(.9*len(sh_light_total))])\n",
        "              \n",
        "train_df = pd.concat([train_nsh_dark,train_sh_dark,train_nsh_light,train_sh_light], ignore_index=True)\n",
        "val_df = pd.concat([val_nsh_dark,val_sh_dark,val_nsh_light,val_sh_light], ignore_index=True)\n",
        "test_df = pd.concat([test_nsh_dark,test_sh_dark,test_nsh_light,test_sh_light], ignore_index=True)\n",
        "\n"
      ],
      "metadata": {
        "id": "-uYKWiJbfy1c"
      },
      "execution_count": null,
      "outputs": []
    },
    {
      "cell_type": "code",
      "source": [
        "train_nsh_dark.readable = np.where(train_nsh_dark.average_score >= 3.5, 1, 0)\n",
        "val_nsh_dark.readable = np.where(val_nsh_dark.average_score >= 3.5, 1, 0)\n",
        "test_nsh_dark.readable = np.where(test_nsh_dark.average_score >= 3.5, 1, 0)\n",
        "\n",
        "train_sh_dark.readable = np.where(train_sh_dark.average_score >= 3.5, 1, 0)\n",
        "val_sh_dark.readable = np.where(val_sh_dark.average_score >= 3.5, 1, 0)\n",
        "test_sh_dark.readable = np.where(test_sh_dark.average_score >= 3.5, 1, 0)\n",
        "\n",
        "train_sh_light.readable = np.where(train_sh_light.average_score >= 3.5, 1, 0)\n",
        "val_sh_light.readable = np.where(val_sh_light.average_score >= 3.5, 1, 0)\n",
        "test_sh_light.readable = np.where(test_sh_light.average_score >= 3.5, 1, 0)\n",
        "\n",
        "train_nsh_light.readable = np.where(train_nsh_light.average_score >= 3.5, 1, 0)\n",
        "val_nsh_light.readable = np.where(val_nsh_light.average_score >= 3.5, 1, 0)\n",
        "test_nsh_light.readable = np.where(test_nsh_light.average_score >= 3.5, 1, 0)"
      ],
      "metadata": {
        "id": "njLqfg6LQpzk"
      },
      "execution_count": null,
      "outputs": []
    },
    {
      "cell_type": "code",
      "source": [
        ""
      ],
      "metadata": {
        "id": "7hUNd4sVQwc6"
      },
      "execution_count": null,
      "outputs": []
    },
    {
      "cell_type": "markdown",
      "source": [
        "#### Readability Threshold = 3"
      ],
      "metadata": {
        "id": "U_WCgIB-zBL4"
      }
    },
    {
      "cell_type": "code",
      "source": [
        "train_df.readable = np.where(train_df.average_score >= 3, 1, 0)\n",
        "val_df.readable = np.where(val_df.average_score >= 3, 1, 0)\n",
        "test_df.readable = np.where(test_df.average_score >= 3, 1, 0)\n",
        "\n",
        "positive_labels = (train_df.readable.value_counts().to_list()[0], val_df.readable.value_counts().to_list()[0], test_df.readable.value_counts().to_list()[0])\n",
        "negative_labels = (train_df.readable.value_counts().to_list()[1], val_df.readable.value_counts().to_list()[1], test_df.readable.value_counts().to_list()[1])\n",
        "# Numbers of pairs of bars you want\n",
        "N = 3\n",
        "\n",
        "\n",
        "# Data on X-axis\n",
        "\n",
        "# Specify the values of blue bars (height)\n",
        "blue_bar = positive_labels\n",
        "# Specify the values of orange bars (height)\n",
        "orange_bar = negative_labels\n",
        "\n",
        "# Position of bars on x-axis\n",
        "ind = np.arange(N)\n",
        "\n",
        "# Figure size\n",
        "plt.figure(figsize=(10,5))\n",
        "\n",
        "# Width of a bar \n",
        "width = 0.3       \n",
        "\n",
        "# Plotting\n",
        "plt.bar(ind, blue_bar , width, label='Readable')\n",
        "plt.bar(ind + width, orange_bar, width, label='Unreadable')\n",
        "\n",
        "plt.xlabel('Dataset Split')\n",
        "plt.ylabel('Num Samples')\n",
        "plt.title('Dataset Distribution - Readability Threshold = 3')\n",
        "\n",
        "# xticks()\n",
        "# First argument - A list of positions at which ticks should be placed\n",
        "# Second argument -  A list of labels to place at the given locations\n",
        "plt.xticks(ind + width / 2, (\"train\", \"validation\", \"test\"))\n",
        "\n",
        "# Finding the best position for legends and putting it\n",
        "plt.legend(loc='best')\n",
        "plt.show()"
      ],
      "metadata": {
        "colab": {
          "base_uri": "https://localhost:8080/",
          "height": 349
        },
        "id": "A9yeUfuFyfm7",
        "outputId": "263d9280-decc-45a3-b378-56e6d01734b3"
      },
      "execution_count": null,
      "outputs": [
        {
          "output_type": "display_data",
          "data": {
            "text/plain": [
              "<Figure size 720x360 with 1 Axes>"
            ],
            "image/png": "[encoded data removed]"
          },
          "metadata": {
            "needs_background": "light"
          }
        }
      ]
    },
    {
      "cell_type": "markdown",
      "source": [
        "#### Readability Threshold = 3.5"
      ],
      "metadata": {
        "id": "thl5Xj6IzFVw"
      }
    },
    {
      "cell_type": "code",
      "source": [
        "train_df.readable = np.where(train_df.average_score >= 3.5, 1, 0)\n",
        "val_df.readable = np.where(val_df.average_score >= 3.5, 1, 0)\n",
        "test_df.readable = np.where(test_df.average_score >= 3.5, 1, 0)\n",
        "\n",
        "#positive_labels = (train_df.readable.value_counts().to_list()[0], val_df.readable.value_counts().to_list()[0], test_df.readable.value_counts().to_list()[0])\n",
        "#negative_labels = (train_df.readable.value_counts().to_list()[1], val_df.readable.value_counts().to_list()[1], test_df.readable.value_counts().to_list()[1])\n",
        "positive_labels = (train_nsh_dark.readable.value_counts().to_list()[0], val_nsh_dark.readable.value_counts().to_list()[0], test_nsh_dark.readable.value_counts().to_list()[0])\n",
        "negative_labels = (train_nsh_dark.readable.value_counts().to_list()[1], val_nsh_dark.readable.value_counts().to_list()[1], test_nsh_dark.readable.value_counts().to_list()[1])\n",
        "\n",
        "\n",
        "# Numbers of pairs of bars you want\n",
        "N = 3\n",
        "\n",
        "\n",
        "# Data on X-axis\n",
        "\n",
        "# Specify the values of blue bars (height)\n",
        "blue_bar = positive_labels\n",
        "# Specify the values of orange bars (height)\n",
        "orange_bar = negative_labels\n",
        "\n",
        "# Position of bars on x-axis\n",
        "ind = np.arange(N)\n",
        "\n",
        "# Figure size\n",
        "plt.figure(figsize=(10,5))\n",
        "\n",
        "# Width of a bar \n",
        "width = 0.3       \n",
        "\n",
        "# Plotting\n",
        "plt.bar(ind, blue_bar , width, label='Readable')\n",
        "plt.bar(ind + width, orange_bar, width, label='Unreadable')\n",
        "\n",
        "plt.xlabel('Dataset Split')\n",
        "plt.ylabel('Num Samples')\n",
        "plt.title('Dataset Distribution - (Python + CUDA + Java) - Readability Threshold = 3.5')\n",
        "\n",
        "# xticks()\n",
        "# First argument - A list of positions at which ticks should be placed\n",
        "# Second argument -  A list of labels to place at the given locations\n",
        "plt.xticks(ind + width / 2, (\"train\", \"validation\", \"test\"))\n",
        "\n",
        "# Finding the best position for legends and putting it\n",
        "plt.legend(loc='best')\n",
        "plt.show()"
      ],
      "metadata": {
        "colab": {
          "base_uri": "https://localhost:8080/",
          "height": 350
        },
        "id": "c66wbmnX2zyl",
        "outputId": "f0a65f17-5115-49e6-ce85-087d610a9e4b"
      },
      "execution_count": null,
      "outputs": [
        {
          "output_type": "display_data",
          "data": {
            "text/plain": [
              "<Figure size 720x360 with 1 Axes>"
            ],
            "image/png": "[encoded data removed]"
          },
          "metadata": {
            "needs_background": "light"
          }
        }
      ]
    },
    {
      "cell_type": "markdown",
      "source": [
        "## Image Preprocessing and Dataset Creation"
      ],
      "metadata": {
        "id": "8TMJzUgBGsLN"
      }
    },
    {
      "cell_type": "code",
      "source": [
        "# generate training,testing and validation batches\n",
        "\n",
        "#train_datagen = ImageDataGenerator(\n",
        "#        rescale=1./255,\n",
        "#        rotation_range=20,\n",
        "#        width_shift_range=0.20,\n",
        "#        height_shift_range=0.20,\n",
        "#        zoom_range = 0.2,\n",
        "#        horizontal_flip=True)\n",
        "train_datagen = ImageDataGenerator(\n",
        "        rescale=1./255)\n",
        "\n",
        "validation_datagen = ImageDataGenerator(rescale=1./255)\n",
        "test_datagen = ImageDataGenerator(rescale=1./255)\n",
        "\n",
        "train_generator=train_datagen.flow_from_dataframe(\n",
        "dataframe=train_sh_dark,\n",
        "#has_ext=Fals\n",
        "x_col='filepaths',\n",
        "y_col='readable',\n",
        "batch_size=64,\n",
        "seed=6,\n",
        "shuffle=False,\n",
        "#color_mode=\"rgb\",\n",
        "class_mode=\"raw\",\n",
        "#validate_filenames=True,\n",
        "target_size=(224,224))\n",
        "\n",
        "\n",
        "validation_generator=validation_datagen.flow_from_dataframe(\n",
        "dataframe=val_sh_dark,\n",
        "#has_ext=False,\n",
        "x_col='filepaths',\n",
        "y_col='readable',\n",
        "batch_size=64,\n",
        "seed=6,\n",
        "shuffle=False,\n",
        "#color_mode=\"rgb\",\n",
        "class_mode=\"raw\",\n",
        "#validate_filenames=True,\n",
        "target_size=(224,224))\n",
        "\n",
        "test_generator=test_datagen.flow_from_dataframe(\n",
        "dataframe=test_df_java,\n",
        "#has_ext=False,\n",
        "x_col='filepaths',\n",
        "y_col='readable',\n",
        "batch_size=64,\n",
        "seed=6,\n",
        "shuffle=False,\n",
        "#color_mode=\"rgb\",\n",
        "class_mode=\"raw\",\n",
        "#validate_filenames=True,\n",
        "target_size=(224,224))"
      ],
      "metadata": {
        "colab": {
          "base_uri": "https://localhost:8080/"
        },
        "id": "-rZoWeIvBFe-",
        "outputId": "1812731f-8738-47d8-b488-b1d57ac93781"
      },
      "execution_count": null,
      "outputs": [
        {
          "output_type": "stream",
          "name": "stdout",
          "text": [
            "Found 336 validated image filenames.\n",
            "Found 42 validated image filenames.\n",
            "Found 172 validated image filenames.\n"
          ]
        }
      ]
    },
    {
      "cell_type": "markdown",
      "source": [
        "## Building and Tuning Custom CNN"
      ],
      "metadata": {
        "id": "BR0C12iYG3Aw"
      }
    },
    {
      "cell_type": "markdown",
      "source": [
        "#### ResNet50"
      ],
      "metadata": {
        "id": "uMlgMoRjJ3Gq"
      }
    },
    {
      "cell_type": "code",
      "source": [
        "model = ResNet50(\n",
        "    include_top=True,\n",
        "    weights=\"imagenet\",\n",
        "    #input_tensor=None,\n",
        "    input_shape=(224,224,3)\n",
        ")\n",
        "new_input = model.input\n",
        "hidden_layer = model.layers[-2].output\n",
        "\n",
        "new_model = Model(inputs=new_input, outputs=hidden_layer)\n",
        "\n",
        "x = new_model.output\n",
        "x = Flatten()(x)\n",
        "x = Dense(256, activation='relu')(x)\n",
        "x = Dense(128, activation='relu')(x)\n",
        "\n",
        "#x = Dense(2048, activation='relu')(x)\n",
        "#x = Dense(1024, activation='relu')(x)\n",
        "#x = Dense(512, activation='relu')(x)\n",
        "\n",
        "preds = Dense(1, activation = 'sigmoid')(x)\n",
        "model = Model(inputs=new_input, outputs=preds)\n",
        "model.summary()"
      ],
      "metadata": {
        "colab": {
          "base_uri": "https://localhost:8080/"
        },
        "id": "TGzv7nwCJ6si",
        "outputId": "b2fb358f-0497-4744-9b26-bd85cc5fddc4"
      },
      "execution_count": null,
      "outputs": [
        {
          "output_type": "stream",
          "name": "stdout",
          "text": [
            "Model: \"model_24\"\n",
            "__________________________________________________________________________________________________\n",
            " Layer (type)                   Output Shape         Param #     Connected to                     \n",
            "==================================================================================================\n",
            " input_24 (InputLayer)          [(None, 224, 224, 3  0           []                               \n",
            "                                )]                                                                \n",
            "                                                                                                  \n",
            " conv1_pad (ZeroPadding2D)      (None, 230, 230, 3)  0           ['input_24[0][0]']               \n",
            "                                                                                                  \n",
            " conv1_conv (Conv2D)            (None, 112, 112, 64  9472        ['conv1_pad[0][0]']              \n",
            "                                )                                                                 \n",
            "                                                                                                  \n",
            " conv1_bn (BatchNormalization)  (None, 112, 112, 64  256         ['conv1_conv[0][0]']             \n",
            "                                )                                                                 \n",
            "                                                                                                  \n",
            " conv1_relu (Activation)        (None, 112, 112, 64  0           ['conv1_bn[0][0]']               \n",
            "                                )                                                                 \n",
            "                                                                                                  \n",
            " pool1_pad (ZeroPadding2D)      (None, 114, 114, 64  0           ['conv1_relu[0][0]']             \n",
            "                                )                                                                 \n",
            "                                                                                                  \n",
            " pool1_pool (MaxPooling2D)      (None, 56, 56, 64)   0           ['pool1_pad[0][0]']              \n",
            "                                                                                                  \n",
            " conv2_block1_1_conv (Conv2D)   (None, 56, 56, 64)   4160        ['pool1_pool[0][0]']             \n",
            "                                                                                                  \n",
            " conv2_block1_1_bn (BatchNormal  (None, 56, 56, 64)  256         ['conv2_block1_1_conv[0][0]']    \n",
            " ization)                                                                                         \n",
            "                                                                                                  \n",
            " conv2_block1_1_relu (Activatio  (None, 56, 56, 64)  0           ['conv2_block1_1_bn[0][0]']      \n",
            " n)                                                                                               \n",
            "                                                                                                  \n",
            " conv2_block1_2_conv (Conv2D)   (None, 56, 56, 64)   36928       ['conv2_block1_1_relu[0][0]']    \n",
            "                                                                                                  \n",
            " conv2_block1_2_bn (BatchNormal  (None, 56, 56, 64)  256         ['conv2_block1_2_conv[0][0]']    \n",
            " ization)                                                                                         \n",
            "                                                                                                  \n",
            " conv2_block1_2_relu (Activatio  (None, 56, 56, 64)  0           ['conv2_block1_2_bn[0][0]']      \n",
            " n)                                                                                               \n",
            "                                                                                                  \n",
            " conv2_block1_0_conv (Conv2D)   (None, 56, 56, 256)  16640       ['pool1_pool[0][0]']             \n",
            "                                                                                                  \n",
            " conv2_block1_3_conv (Conv2D)   (None, 56, 56, 256)  16640       ['conv2_block1_2_relu[0][0]']    \n",
            "                                                                                                  \n",
            " conv2_block1_0_bn (BatchNormal  (None, 56, 56, 256)  1024       ['conv2_block1_0_conv[0][0]']    \n",
            " ization)                                                                                         \n",
            "                                                                                                  \n",
            " conv2_block1_3_bn (BatchNormal  (None, 56, 56, 256)  1024       ['conv2_block1_3_conv[0][0]']    \n",
            " ization)                                                                                         \n",
            "                                                                                                  \n",
            " conv2_block1_add (Add)         (None, 56, 56, 256)  0           ['conv2_block1_0_bn[0][0]',      \n",
            "                                                                  'conv2_block1_3_bn[0][0]']      \n",
            "                                                                                                  \n",
            " conv2_block1_out (Activation)  (None, 56, 56, 256)  0           ['conv2_block1_add[0][0]']       \n",
            "                                                                                                  \n",
            " conv2_block2_1_conv (Conv2D)   (None, 56, 56, 64)   16448       ['conv2_block1_out[0][0]']       \n",
            "                                                                                                  \n",
            " conv2_block2_1_bn (BatchNormal  (None, 56, 56, 64)  256         ['conv2_block2_1_conv[0][0]']    \n",
            " ization)                                                                                         \n",
            "                                                                                                  \n",
            " conv2_block2_1_relu (Activatio  (None, 56, 56, 64)  0           ['conv2_block2_1_bn[0][0]']      \n",
            " n)                                                                                               \n",
            "                                                                                                  \n",
            " conv2_block2_2_conv (Conv2D)   (None, 56, 56, 64)   36928       ['conv2_block2_1_relu[0][0]']    \n",
            "                                                                                                  \n",
            " conv2_block2_2_bn (BatchNormal  (None, 56, 56, 64)  256         ['conv2_block2_2_conv[0][0]']    \n",
            " ization)                                                                                         \n",
            "                                                                                                  \n",
            " conv2_block2_2_relu (Activatio  (None, 56, 56, 64)  0           ['conv2_block2_2_bn[0][0]']      \n",
            " n)                                                                                               \n",
            "                                                                                                  \n",
            " conv2_block2_3_conv (Conv2D)   (None, 56, 56, 256)  16640       ['conv2_block2_2_relu[0][0]']    \n",
            "                                                                                                  \n",
            " conv2_block2_3_bn (BatchNormal  (None, 56, 56, 256)  1024       ['conv2_block2_3_conv[0][0]']    \n",
            " ization)                                                                                         \n",
            "                                                                                                  \n",
            " conv2_block2_add (Add)         (None, 56, 56, 256)  0           ['conv2_block1_out[0][0]',       \n",
            "                                                                  'conv2_block2_3_bn[0][0]']      \n",
            "                                                                                                  \n",
            " conv2_block2_out (Activation)  (None, 56, 56, 256)  0           ['conv2_block2_add[0][0]']       \n",
            "                                                                                                  \n",
            " conv2_block3_1_conv (Conv2D)   (None, 56, 56, 64)   16448       ['conv2_block2_out[0][0]']       \n",
            "                                                                                                  \n",
            " conv2_block3_1_bn (BatchNormal  (None, 56, 56, 64)  256         ['conv2_block3_1_conv[0][0]']    \n",
            " ization)                                                                                         \n",
            "                                                                                                  \n",
            " conv2_block3_1_relu (Activatio  (None, 56, 56, 64)  0           ['conv2_block3_1_bn[0][0]']      \n",
            " n)                                                                                               \n",
            "                                                                                                  \n",
            " conv2_block3_2_conv (Conv2D)   (None, 56, 56, 64)   36928       ['conv2_block3_1_relu[0][0]']    \n",
            "                                                                                                  \n",
            " conv2_block3_2_bn (BatchNormal  (None, 56, 56, 64)  256         ['conv2_block3_2_conv[0][0]']    \n",
            " ization)                                                                                         \n",
            "                                                                                                  \n",
            " conv2_block3_2_relu (Activatio  (None, 56, 56, 64)  0           ['conv2_block3_2_bn[0][0]']      \n",
            " n)                                                                                               \n",
            "                                                                                                  \n",
            " conv2_block3_3_conv (Conv2D)   (None, 56, 56, 256)  16640       ['conv2_block3_2_relu[0][0]']    \n",
            "                                                                                                  \n",
            " conv2_block3_3_bn (BatchNormal  (None, 56, 56, 256)  1024       ['conv2_block3_3_conv[0][0]']    \n",
            " ization)                                                                                         \n",
            "                                                                                                  \n",
            " conv2_block3_add (Add)         (None, 56, 56, 256)  0           ['conv2_block2_out[0][0]',       \n",
            "                                                                  'conv2_block3_3_bn[0][0]']      \n",
            "                                                                                                  \n",
            " conv2_block3_out (Activation)  (None, 56, 56, 256)  0           ['conv2_block3_add[0][0]']       \n",
            "                                                                                                  \n",
            " conv3_block1_1_conv (Conv2D)   (None, 28, 28, 128)  32896       ['conv2_block3_out[0][0]']       \n",
            "                                                                                                  \n",
            " conv3_block1_1_bn (BatchNormal  (None, 28, 28, 128)  512        ['conv3_block1_1_conv[0][0]']    \n",
            " ization)                                                                                         \n",
            "                                                                                                  \n",
            " conv3_block1_1_relu (Activatio  (None, 28, 28, 128)  0          ['conv3_block1_1_bn[0][0]']      \n",
            " n)                                                                                               \n",
            "                                                                                                  \n",
            " conv3_block1_2_conv (Conv2D)   (None, 28, 28, 128)  147584      ['conv3_block1_1_relu[0][0]']    \n",
            "                                                                                                  \n",
            " conv3_block1_2_bn (BatchNormal  (None, 28, 28, 128)  512        ['conv3_block1_2_conv[0][0]']    \n",
            " ization)                                                                                         \n",
            "                                                                                                  \n",
            " conv3_block1_2_relu (Activatio  (None, 28, 28, 128)  0          ['conv3_block1_2_bn[0][0]']      \n",
            " n)                                                                                               \n",
            "                                                                                                  \n",
            " conv3_block1_0_conv (Conv2D)   (None, 28, 28, 512)  131584      ['conv2_block3_out[0][0]']       \n",
            "                                                                                                  \n",
            " conv3_block1_3_conv (Conv2D)   (None, 28, 28, 512)  66048       ['conv3_block1_2_relu[0][0]']    \n",
            "                                                                                                  \n",
            " conv3_block1_0_bn (BatchNormal  (None, 28, 28, 512)  2048       ['conv3_block1_0_conv[0][0]']    \n",
            " ization)                                                                                         \n",
            "                                                                                                  \n",
            " conv3_block1_3_bn (BatchNormal  (None, 28, 28, 512)  2048       ['conv3_block1_3_conv[0][0]']    \n",
            " ization)                                                                                         \n",
            "                                                                                                  \n",
            " conv3_block1_add (Add)         (None, 28, 28, 512)  0           ['conv3_block1_0_bn[0][0]',      \n",
            "                                                                  'conv3_block1_3_bn[0][0]']      \n",
            "                                                                                                  \n",
            " conv3_block1_out (Activation)  (None, 28, 28, 512)  0           ['conv3_block1_add[0][0]']       \n",
            "                                                                                                  \n",
            " conv3_block2_1_conv (Conv2D)   (None, 28, 28, 128)  65664       ['conv3_block1_out[0][0]']       \n",
            "                                                                                                  \n",
            " conv3_block2_1_bn (BatchNormal  (None, 28, 28, 128)  512        ['conv3_block2_1_conv[0][0]']    \n",
            " ization)                                                                                         \n",
            "                                                                                                  \n",
            " conv3_block2_1_relu (Activatio  (None, 28, 28, 128)  0          ['conv3_block2_1_bn[0][0]']      \n",
            " n)                                                                                               \n",
            "                                                                                                  \n",
            " conv3_block2_2_conv (Conv2D)   (None, 28, 28, 128)  147584      ['conv3_block2_1_relu[0][0]']    \n",
            "                                                                                                  \n",
            " conv3_block2_2_bn (BatchNormal  (None, 28, 28, 128)  512        ['conv3_block2_2_conv[0][0]']    \n",
            " ization)                                                                                         \n",
            "                                                                                                  \n",
            " conv3_block2_2_relu (Activatio  (None, 28, 28, 128)  0          ['conv3_block2_2_bn[0][0]']      \n",
            " n)                                                                                               \n",
            "                                                                                                  \n",
            " conv3_block2_3_conv (Conv2D)   (None, 28, 28, 512)  66048       ['conv3_block2_2_relu[0][0]']    \n",
            "                                                                                                  \n",
            " conv3_block2_3_bn (BatchNormal  (None, 28, 28, 512)  2048       ['conv3_block2_3_conv[0][0]']    \n",
            " ization)                                                                                         \n",
            "                                                                                                  \n",
            " conv3_block2_add (Add)         (None, 28, 28, 512)  0           ['conv3_block1_out[0][0]',       \n",
            "                                                                  'conv3_block2_3_bn[0][0]']      \n",
            "                                                                                                  \n",
            " conv3_block2_out (Activation)  (None, 28, 28, 512)  0           ['conv3_block2_add[0][0]']       \n",
            "                                                                                                  \n",
            " conv3_block3_1_conv (Conv2D)   (None, 28, 28, 128)  65664       ['conv3_block2_out[0][0]']       \n",
            "                                                                                                  \n",
            " conv3_block3_1_bn (BatchNormal  (None, 28, 28, 128)  512        ['conv3_block3_1_conv[0][0]']    \n",
            " ization)                                                                                         \n",
            "                                                                                                  \n",
            " conv3_block3_1_relu (Activatio  (None, 28, 28, 128)  0          ['conv3_block3_1_bn[0][0]']      \n",
            " n)                                                                                               \n",
            "                                                                                                  \n",
            " conv3_block3_2_conv (Conv2D)   (None, 28, 28, 128)  147584      ['conv3_block3_1_relu[0][0]']    \n",
            "                                                                                                  \n",
            " conv3_block3_2_bn (BatchNormal  (None, 28, 28, 128)  512        ['conv3_block3_2_conv[0][0]']    \n",
            " ization)                                                                                         \n",
            "                                                                                                  \n",
            " conv3_block3_2_relu (Activatio  (None, 28, 28, 128)  0          ['conv3_block3_2_bn[0][0]']      \n",
            " n)                                                                                               \n",
            "                                                                                                  \n",
            " conv3_block3_3_conv (Conv2D)   (None, 28, 28, 512)  66048       ['conv3_block3_2_relu[0][0]']    \n",
            "                                                                                                  \n",
            " conv3_block3_3_bn (BatchNormal  (None, 28, 28, 512)  2048       ['conv3_block3_3_conv[0][0]']    \n",
            " ization)                                                                                         \n",
            "                                                                                                  \n",
            " conv3_block3_add (Add)         (None, 28, 28, 512)  0           ['conv3_block2_out[0][0]',       \n",
            "                                                                  'conv3_block3_3_bn[0][0]']      \n",
            "                                                                                                  \n",
            " conv3_block3_out (Activation)  (None, 28, 28, 512)  0           ['conv3_block3_add[0][0]']       \n",
            "                                                                                                  \n",
            " conv3_block4_1_conv (Conv2D)   (None, 28, 28, 128)  65664       ['conv3_block3_out[0][0]']       \n",
            "                                                                                                  \n",
            " conv3_block4_1_bn (BatchNormal  (None, 28, 28, 128)  512        ['conv3_block4_1_conv[0][0]']    \n",
            " ization)                                                                                         \n",
            "                                                                                                  \n",
            " conv3_block4_1_relu (Activatio  (None, 28, 28, 128)  0          ['conv3_block4_1_bn[0][0]']      \n",
            " n)                                                                                               \n",
            "                                                                                                  \n",
            " conv3_block4_2_conv (Conv2D)   (None, 28, 28, 128)  147584      ['conv3_block4_1_relu[0][0]']    \n",
            "                                                                                                  \n",
            " conv3_block4_2_bn (BatchNormal  (None, 28, 28, 128)  512        ['conv3_block4_2_conv[0][0]']    \n",
            " ization)                                                                                         \n",
            "                                                                                                  \n",
            " conv3_block4_2_relu (Activatio  (None, 28, 28, 128)  0          ['conv3_block4_2_bn[0][0]']      \n",
            " n)                                                                                               \n",
            "                                                                                                  \n",
            " conv3_block4_3_conv (Conv2D)   (None, 28, 28, 512)  66048       ['conv3_block4_2_relu[0][0]']    \n",
            "                                                                                                  \n",
            " conv3_block4_3_bn (BatchNormal  (None, 28, 28, 512)  2048       ['conv3_block4_3_conv[0][0]']    \n",
            " ization)                                                                                         \n",
            "                                                                                                  \n",
            " conv3_block4_add (Add)         (None, 28, 28, 512)  0           ['conv3_block3_out[0][0]',       \n",
            "                                                                  'conv3_block4_3_bn[0][0]']      \n",
            "                                                                                                  \n",
            " conv3_block4_out (Activation)  (None, 28, 28, 512)  0           ['conv3_block4_add[0][0]']       \n",
            "                                                                                                  \n",
            " conv4_block1_1_conv (Conv2D)   (None, 14, 14, 256)  131328      ['conv3_block4_out[0][0]']       \n",
            "                                                                                                  \n",
            " conv4_block1_1_bn (BatchNormal  (None, 14, 14, 256)  1024       ['conv4_block1_1_conv[0][0]']    \n",
            " ization)                                                                                         \n",
            "                                                                                                  \n",
            " conv4_block1_1_relu (Activatio  (None, 14, 14, 256)  0          ['conv4_block1_1_bn[0][0]']      \n",
            " n)                                                                                               \n",
            "                                                                                                  \n",
            " conv4_block1_2_conv (Conv2D)   (None, 14, 14, 256)  590080      ['conv4_block1_1_relu[0][0]']    \n",
            "                                                                                                  \n",
            " conv4_block1_2_bn (BatchNormal  (None, 14, 14, 256)  1024       ['conv4_block1_2_conv[0][0]']    \n",
            " ization)                                                                                         \n",
            "                                                                                                  \n",
            " conv4_block1_2_relu (Activatio  (None, 14, 14, 256)  0          ['conv4_block1_2_bn[0][0]']      \n",
            " n)                                                                                               \n",
            "                                                                                                  \n",
            " conv4_block1_0_conv (Conv2D)   (None, 14, 14, 1024  525312      ['conv3_block4_out[0][0]']       \n",
            "                                )                                                                 \n",
            "                                                                                                  \n",
            " conv4_block1_3_conv (Conv2D)   (None, 14, 14, 1024  263168      ['conv4_block1_2_relu[0][0]']    \n",
            "                                )                                                                 \n",
            "                                                                                                  \n",
            " conv4_block1_0_bn (BatchNormal  (None, 14, 14, 1024  4096       ['conv4_block1_0_conv[0][0]']    \n",
            " ization)                       )                                                                 \n",
            "                                                                                                  \n",
            " conv4_block1_3_bn (BatchNormal  (None, 14, 14, 1024  4096       ['conv4_block1_3_conv[0][0]']    \n",
            " ization)                       )                                                                 \n",
            "                                                                                                  \n",
            " conv4_block1_add (Add)         (None, 14, 14, 1024  0           ['conv4_block1_0_bn[0][0]',      \n",
            "                                )                                 'conv4_block1_3_bn[0][0]']      \n",
            "                                                                                                  \n",
            " conv4_block1_out (Activation)  (None, 14, 14, 1024  0           ['conv4_block1_add[0][0]']       \n",
            "                                )                                                                 \n",
            "                                                                                                  \n",
            " conv4_block2_1_conv (Conv2D)   (None, 14, 14, 256)  262400      ['conv4_block1_out[0][0]']       \n",
            "                                                                                                  \n",
            " conv4_block2_1_bn (BatchNormal  (None, 14, 14, 256)  1024       ['conv4_block2_1_conv[0][0]']    \n",
            " ization)                                                                                         \n",
            "                                                                                                  \n",
            " conv4_block2_1_relu (Activatio  (None, 14, 14, 256)  0          ['conv4_block2_1_bn[0][0]']      \n",
            " n)                                                                                               \n",
            "                                                                                                  \n",
            " conv4_block2_2_conv (Conv2D)   (None, 14, 14, 256)  590080      ['conv4_block2_1_relu[0][0]']    \n",
            "                                                                                                  \n",
            " conv4_block2_2_bn (BatchNormal  (None, 14, 14, 256)  1024       ['conv4_block2_2_conv[0][0]']    \n",
            " ization)                                                                                         \n",
            "                                                                                                  \n",
            " conv4_block2_2_relu (Activatio  (None, 14, 14, 256)  0          ['conv4_block2_2_bn[0][0]']      \n",
            " n)                                                                                               \n",
            "                                                                                                  \n",
            " conv4_block2_3_conv (Conv2D)   (None, 14, 14, 1024  263168      ['conv4_block2_2_relu[0][0]']    \n",
            "                                )                                                                 \n",
            "                                                                                                  \n",
            " conv4_block2_3_bn (BatchNormal  (None, 14, 14, 1024  4096       ['conv4_block2_3_conv[0][0]']    \n",
            " ization)                       )                                                                 \n",
            "                                                                                                  \n",
            " conv4_block2_add (Add)         (None, 14, 14, 1024  0           ['conv4_block1_out[0][0]',       \n",
            "                                )                                 'conv4_block2_3_bn[0][0]']      \n",
            "                                                                                                  \n",
            " conv4_block2_out (Activation)  (None, 14, 14, 1024  0           ['conv4_block2_add[0][0]']       \n",
            "                                )                                                                 \n",
            "                                                                                                  \n",
            " conv4_block3_1_conv (Conv2D)   (None, 14, 14, 256)  262400      ['conv4_block2_out[0][0]']       \n",
            "                                                                                                  \n",
            " conv4_block3_1_bn (BatchNormal  (None, 14, 14, 256)  1024       ['conv4_block3_1_conv[0][0]']    \n",
            " ization)                                                                                         \n",
            "                                                                                                  \n",
            " conv4_block3_1_relu (Activatio  (None, 14, 14, 256)  0          ['conv4_block3_1_bn[0][0]']      \n",
            " n)                                                                                               \n",
            "                                                                                                  \n",
            " conv4_block3_2_conv (Conv2D)   (None, 14, 14, 256)  590080      ['conv4_block3_1_relu[0][0]']    \n",
            "                                                                                                  \n",
            " conv4_block3_2_bn (BatchNormal  (None, 14, 14, 256)  1024       ['conv4_block3_2_conv[0][0]']    \n",
            " ization)                                                                                         \n",
            "                                                                                                  \n",
            " conv4_block3_2_relu (Activatio  (None, 14, 14, 256)  0          ['conv4_block3_2_bn[0][0]']      \n",
            " n)                                                                                               \n",
            "                                                                                                  \n",
            " conv4_block3_3_conv (Conv2D)   (None, 14, 14, 1024  263168      ['conv4_block3_2_relu[0][0]']    \n",
            "                                )                                                                 \n",
            "                                                                                                  \n",
            " conv4_block3_3_bn (BatchNormal  (None, 14, 14, 1024  4096       ['conv4_block3_3_conv[0][0]']    \n",
            " ization)                       )                                                                 \n",
            "                                                                                                  \n",
            " conv4_block3_add (Add)         (None, 14, 14, 1024  0           ['conv4_block2_out[0][0]',       \n",
            "                                )                                 'conv4_block3_3_bn[0][0]']      \n",
            "                                                                                                  \n",
            " conv4_block3_out (Activation)  (None, 14, 14, 1024  0           ['conv4_block3_add[0][0]']       \n",
            "                                )                                                                 \n",
            "                                                                                                  \n",
            " conv4_block4_1_conv (Conv2D)   (None, 14, 14, 256)  262400      ['conv4_block3_out[0][0]']       \n",
            "                                                                                                  \n",
            " conv4_block4_1_bn (BatchNormal  (None, 14, 14, 256)  1024       ['conv4_block4_1_conv[0][0]']    \n",
            " ization)                                                                                         \n",
            "                                                                                                  \n",
            " conv4_block4_1_relu (Activatio  (None, 14, 14, 256)  0          ['conv4_block4_1_bn[0][0]']      \n",
            " n)                                                                                               \n",
            "                                                                                                  \n",
            " conv4_block4_2_conv (Conv2D)   (None, 14, 14, 256)  590080      ['conv4_block4_1_relu[0][0]']    \n",
            "                                                                                                  \n",
            " conv4_block4_2_bn (BatchNormal  (None, 14, 14, 256)  1024       ['conv4_block4_2_conv[0][0]']    \n",
            " ization)                                                                                         \n",
            "                                                                                                  \n",
            " conv4_block4_2_relu (Activatio  (None, 14, 14, 256)  0          ['conv4_block4_2_bn[0][0]']      \n",
            " n)                                                                                               \n",
            "                                                                                                  \n",
            " conv4_block4_3_conv (Conv2D)   (None, 14, 14, 1024  263168      ['conv4_block4_2_relu[0][0]']    \n",
            "                                )                                                                 \n",
            "                                                                                                  \n",
            " conv4_block4_3_bn (BatchNormal  (None, 14, 14, 1024  4096       ['conv4_block4_3_conv[0][0]']    \n",
            " ization)                       )                                                                 \n",
            "                                                                                                  \n",
            " conv4_block4_add (Add)         (None, 14, 14, 1024  0           ['conv4_block3_out[0][0]',       \n",
            "                                )                                 'conv4_block4_3_bn[0][0]']      \n",
            "                                                                                                  \n",
            " conv4_block4_out (Activation)  (None, 14, 14, 1024  0           ['conv4_block4_add[0][0]']       \n",
            "                                )                                                                 \n",
            "                                                                                                  \n",
            " conv4_block5_1_conv (Conv2D)   (None, 14, 14, 256)  262400      ['conv4_block4_out[0][0]']       \n",
            "                                                                                                  \n",
            " conv4_block5_1_bn (BatchNormal  (None, 14, 14, 256)  1024       ['conv4_block5_1_conv[0][0]']    \n",
            " ization)                                                                                         \n",
            "                                                                                                  \n",
            " conv4_block5_1_relu (Activatio  (None, 14, 14, 256)  0          ['conv4_block5_1_bn[0][0]']      \n",
            " n)                                                                                               \n",
            "                                                                                                  \n",
            " conv4_block5_2_conv (Conv2D)   (None, 14, 14, 256)  590080      ['conv4_block5_1_relu[0][0]']    \n",
            "                                                                                                  \n",
            " conv4_block5_2_bn (BatchNormal  (None, 14, 14, 256)  1024       ['conv4_block5_2_conv[0][0]']    \n",
            " ization)                                                                                         \n",
            "                                                                                                  \n",
            " conv4_block5_2_relu (Activatio  (None, 14, 14, 256)  0          ['conv4_block5_2_bn[0][0]']      \n",
            " n)                                                                                               \n",
            "                                                                                                  \n",
            " conv4_block5_3_conv (Conv2D)   (None, 14, 14, 1024  263168      ['conv4_block5_2_relu[0][0]']    \n",
            "                                )                                                                 \n",
            "                                                                                                  \n",
            " conv4_block5_3_bn (BatchNormal  (None, 14, 14, 1024  4096       ['conv4_block5_3_conv[0][0]']    \n",
            " ization)                       )                                                                 \n",
            "                                                                                                  \n",
            " conv4_block5_add (Add)         (None, 14, 14, 1024  0           ['conv4_block4_out[0][0]',       \n",
            "                                )                                 'conv4_block5_3_bn[0][0]']      \n",
            "                                                                                                  \n",
            " conv4_block5_out (Activation)  (None, 14, 14, 1024  0           ['conv4_block5_add[0][0]']       \n",
            "                                )                                                                 \n",
            "                                                                                                  \n",
            " conv4_block6_1_conv (Conv2D)   (None, 14, 14, 256)  262400      ['conv4_block5_out[0][0]']       \n",
            "                                                                                                  \n",
            " conv4_block6_1_bn (BatchNormal  (None, 14, 14, 256)  1024       ['conv4_block6_1_conv[0][0]']    \n",
            " ization)                                                                                         \n",
            "                                                                                                  \n",
            " conv4_block6_1_relu (Activatio  (None, 14, 14, 256)  0          ['conv4_block6_1_bn[0][0]']      \n",
            " n)                                                                                               \n",
            "                                                                                                  \n",
            " conv4_block6_2_conv (Conv2D)   (None, 14, 14, 256)  590080      ['conv4_block6_1_relu[0][0]']    \n",
            "                                                                                                  \n",
            " conv4_block6_2_bn (BatchNormal  (None, 14, 14, 256)  1024       ['conv4_block6_2_conv[0][0]']    \n",
            " ization)                                                                                         \n",
            "                                                                                                  \n",
            " conv4_block6_2_relu (Activatio  (None, 14, 14, 256)  0          ['conv4_block6_2_bn[0][0]']      \n",
            " n)                                                                                               \n",
            "                                                                                                  \n",
            " conv4_block6_3_conv (Conv2D)   (None, 14, 14, 1024  263168      ['conv4_block6_2_relu[0][0]']    \n",
            "                                )                                                                 \n",
            "                                                                                                  \n",
            " conv4_block6_3_bn (BatchNormal  (None, 14, 14, 1024  4096       ['conv4_block6_3_conv[0][0]']    \n",
            " ization)                       )                                                                 \n",
            "                                                                                                  \n",
            " conv4_block6_add (Add)         (None, 14, 14, 1024  0           ['conv4_block5_out[0][0]',       \n",
            "                                )                                 'conv4_block6_3_bn[0][0]']      \n",
            "                                                                                                  \n",
            " conv4_block6_out (Activation)  (None, 14, 14, 1024  0           ['conv4_block6_add[0][0]']       \n",
            "                                )                                                                 \n",
            "                                                                                                  \n",
            " conv5_block1_1_conv (Conv2D)   (None, 7, 7, 512)    524800      ['conv4_block6_out[0][0]']       \n",
            "                                                                                                  \n",
            " conv5_block1_1_bn (BatchNormal  (None, 7, 7, 512)   2048        ['conv5_block1_1_conv[0][0]']    \n",
            " ization)                                                                                         \n",
            "                                                                                                  \n",
            " conv5_block1_1_relu (Activatio  (None, 7, 7, 512)   0           ['conv5_block1_1_bn[0][0]']      \n",
            " n)                                                                                               \n",
            "                                                                                                  \n",
            " conv5_block1_2_conv (Conv2D)   (None, 7, 7, 512)    2359808     ['conv5_block1_1_relu[0][0]']    \n",
            "                                                                                                  \n",
            " conv5_block1_2_bn (BatchNormal  (None, 7, 7, 512)   2048        ['conv5_block1_2_conv[0][0]']    \n",
            " ization)                                                                                         \n",
            "                                                                                                  \n",
            " conv5_block1_2_relu (Activatio  (None, 7, 7, 512)   0           ['conv5_block1_2_bn[0][0]']      \n",
            " n)                                                                                               \n",
            "                                                                                                  \n",
            " conv5_block1_0_conv (Conv2D)   (None, 7, 7, 2048)   2099200     ['conv4_block6_out[0][0]']       \n",
            "                                                                                                  \n",
            " conv5_block1_3_conv (Conv2D)   (None, 7, 7, 2048)   1050624     ['conv5_block1_2_relu[0][0]']    \n",
            "                                                                                                  \n",
            " conv5_block1_0_bn (BatchNormal  (None, 7, 7, 2048)  8192        ['conv5_block1_0_conv[0][0]']    \n",
            " ization)                                                                                         \n",
            "                                                                                                  \n",
            " conv5_block1_3_bn (BatchNormal  (None, 7, 7, 2048)  8192        ['conv5_block1_3_conv[0][0]']    \n",
            " ization)                                                                                         \n",
            "                                                                                                  \n",
            " conv5_block1_add (Add)         (None, 7, 7, 2048)   0           ['conv5_block1_0_bn[0][0]',      \n",
            "                                                                  'conv5_block1_3_bn[0][0]']      \n",
            "                                                                                                  \n",
            " conv5_block1_out (Activation)  (None, 7, 7, 2048)   0           ['conv5_block1_add[0][0]']       \n",
            "                                                                                                  \n",
            " conv5_block2_1_conv (Conv2D)   (None, 7, 7, 512)    1049088     ['conv5_block1_out[0][0]']       \n",
            "                                                                                                  \n",
            " conv5_block2_1_bn (BatchNormal  (None, 7, 7, 512)   2048        ['conv5_block2_1_conv[0][0]']    \n",
            " ization)                                                                                         \n",
            "                                                                                                  \n",
            " conv5_block2_1_relu (Activatio  (None, 7, 7, 512)   0           ['conv5_block2_1_bn[0][0]']      \n",
            " n)                                                                                               \n",
            "                                                                                                  \n",
            " conv5_block2_2_conv (Conv2D)   (None, 7, 7, 512)    2359808     ['conv5_block2_1_relu[0][0]']    \n",
            "                                                                                                  \n",
            " conv5_block2_2_bn (BatchNormal  (None, 7, 7, 512)   2048        ['conv5_block2_2_conv[0][0]']    \n",
            " ization)                                                                                         \n",
            "                                                                                                  \n",
            " conv5_block2_2_relu (Activatio  (None, 7, 7, 512)   0           ['conv5_block2_2_bn[0][0]']      \n",
            " n)                                                                                               \n",
            "                                                                                                  \n",
            " conv5_block2_3_conv (Conv2D)   (None, 7, 7, 2048)   1050624     ['conv5_block2_2_relu[0][0]']    \n",
            "                                                                                                  \n",
            " conv5_block2_3_bn (BatchNormal  (None, 7, 7, 2048)  8192        ['conv5_block2_3_conv[0][0]']    \n",
            " ization)                                                                                         \n",
            "                                                                                                  \n",
            " conv5_block2_add (Add)         (None, 7, 7, 2048)   0           ['conv5_block1_out[0][0]',       \n",
            "                                                                  'conv5_block2_3_bn[0][0]']      \n",
            "                                                                                                  \n",
            " conv5_block2_out (Activation)  (None, 7, 7, 2048)   0           ['conv5_block2_add[0][0]']       \n",
            "                                                                                                  \n",
            " conv5_block3_1_conv (Conv2D)   (None, 7, 7, 512)    1049088     ['conv5_block2_out[0][0]']       \n",
            "                                                                                                  \n",
            " conv5_block3_1_bn (BatchNormal  (None, 7, 7, 512)   2048        ['conv5_block3_1_conv[0][0]']    \n",
            " ization)                                                                                         \n",
            "                                                                                                  \n",
            " conv5_block3_1_relu (Activatio  (None, 7, 7, 512)   0           ['conv5_block3_1_bn[0][0]']      \n",
            " n)                                                                                               \n",
            "                                                                                                  \n",
            " conv5_block3_2_conv (Conv2D)   (None, 7, 7, 512)    2359808     ['conv5_block3_1_relu[0][0]']    \n",
            "                                                                                                  \n",
            " conv5_block3_2_bn (BatchNormal  (None, 7, 7, 512)   2048        ['conv5_block3_2_conv[0][0]']    \n",
            " ization)                                                                                         \n",
            "                                                                                                  \n",
            " conv5_block3_2_relu (Activatio  (None, 7, 7, 512)   0           ['conv5_block3_2_bn[0][0]']      \n",
            " n)                                                                                               \n",
            "                                                                                                  \n",
            " conv5_block3_3_conv (Conv2D)   (None, 7, 7, 2048)   1050624     ['conv5_block3_2_relu[0][0]']    \n",
            "                                                                                                  \n",
            " conv5_block3_3_bn (BatchNormal  (None, 7, 7, 2048)  8192        ['conv5_block3_3_conv[0][0]']    \n",
            " ization)                                                                                         \n",
            "                                                                                                  \n",
            " conv5_block3_add (Add)         (None, 7, 7, 2048)   0           ['conv5_block2_out[0][0]',       \n",
            "                                                                  'conv5_block3_3_bn[0][0]']      \n",
            "                                                                                                  \n",
            " conv5_block3_out (Activation)  (None, 7, 7, 2048)   0           ['conv5_block3_add[0][0]']       \n",
            "                                                                                                  \n",
            " avg_pool (GlobalAveragePooling  (None, 2048)        0           ['conv5_block3_out[0][0]']       \n",
            " 2D)                                                                                              \n",
            "                                                                                                  \n",
            " flatten_2 (Flatten)            (None, 2048)         0           ['avg_pool[0][0]']               \n",
            "                                                                                                  \n",
            " dense_18 (Dense)               (None, 256)          524544      ['flatten_2[0][0]']              \n",
            "                                                                                                  \n",
            " dense_19 (Dense)               (None, 128)          32896       ['dense_18[0][0]']               \n",
            "                                                                                                  \n",
            " dense_20 (Dense)               (None, 1)            129         ['dense_19[0][0]']               \n",
            "                                                                                                  \n",
            "==================================================================================================\n",
            "Total params: 24,145,281\n",
            "Trainable params: 24,092,161\n",
            "Non-trainable params: 53,120\n",
            "__________________________________________________________________________________________________\n"
          ]
        }
      ]
    },
    {
      "cell_type": "markdown",
      "source": [
        "#### Custom Model\n",
        "\n"
      ],
      "metadata": {
        "id": "UVkmNAFLWh1K"
      }
    },
    {
      "cell_type": "code",
      "source": [
        "img_width= 600\n",
        "img_height= 600\n",
        "#batch_size= 32\n",
        "\n",
        "from tensorflow.keras.models import Sequential\n",
        "from tensorflow.keras.layers import Conv2D, MaxPooling2D, Input\n",
        "from tensorflow.keras.layers import Activation, Dropout, Flatten, Dense\n",
        "\n",
        "inp = Input(shape=(img_width, img_height, 3))\n",
        "x = Conv2D(32, (3, 3), activation='relu')(inp)\n",
        "x = MaxPooling2D(pool_size=(2, 2))(x)\n",
        "\n",
        "x = Conv2D(32, (3, 3), activation='relu')(x)\n",
        "x = MaxPooling2D(pool_size=(2, 2))(x)\n",
        "\n",
        "x = Conv2D(64, (3, 3), activation='relu')(x)\n",
        "x = MaxPooling2D(pool_size=(2, 2))(x)\n",
        "\n",
        "x = Flatten()(x)\n",
        "x = Dense(64, activation='relu')(x)\n",
        "x = Dropout(0.5)(x)\n",
        "\n",
        "out = Dense(1, activation='sigmoid')(x)\n",
        "model = Model(inputs=inp, outputs=out)"
      ],
      "metadata": {
        "id": "toHeFyOPfyLP"
      },
      "execution_count": null,
      "outputs": []
    },
    {
      "cell_type": "code",
      "source": [
        "model.summary()"
      ],
      "metadata": {
        "colab": {
          "base_uri": "https://localhost:8080/"
        },
        "id": "fd-jJYk2hc8F",
        "outputId": "d39129a1-2fa8-418e-ca1f-f5ec9f885b31"
      },
      "execution_count": null,
      "outputs": [
        {
          "output_type": "stream",
          "name": "stdout",
          "text": [
            "Model: \"model_28\"\n",
            "_________________________________________________________________\n",
            " Layer (type)                Output Shape              Param #   \n",
            "=================================================================\n",
            " input_13 (InputLayer)       [(None, 600, 600, 3)]     0         \n",
            "                                                                 \n",
            " conv2d (Conv2D)             (None, 598, 598, 32)      896       \n",
            "                                                                 \n",
            " max_pooling2d (MaxPooling2D  (None, 299, 299, 32)     0         \n",
            " )                                                               \n",
            "                                                                 \n",
            " conv2d_1 (Conv2D)           (None, 297, 297, 32)      9248      \n",
            "                                                                 \n",
            " max_pooling2d_1 (MaxPooling  (None, 148, 148, 32)     0         \n",
            " 2D)                                                             \n",
            "                                                                 \n",
            " conv2d_2 (Conv2D)           (None, 146, 146, 64)      18496     \n",
            "                                                                 \n",
            " max_pooling2d_2 (MaxPooling  (None, 73, 73, 64)       0         \n",
            " 2D)                                                             \n",
            "                                                                 \n",
            " flatten_2 (Flatten)         (None, 341056)            0         \n",
            "                                                                 \n",
            " dense_18 (Dense)            (None, 64)                21827648  \n",
            "                                                                 \n",
            " dropout (Dropout)           (None, 64)                0         \n",
            "                                                                 \n",
            " dense_19 (Dense)            (None, 1)                 65        \n",
            "                                                                 \n",
            "=================================================================\n",
            "Total params: 21,856,353\n",
            "Trainable params: 21,856,353\n",
            "Non-trainable params: 0\n",
            "_________________________________________________________________\n"
          ]
        }
      ]
    },
    {
      "cell_type": "markdown",
      "source": [
        "#### EfficientNet_V2"
      ],
      "metadata": {
        "id": "rajaMy3oP9nY"
      }
    },
    {
      "cell_type": "code",
      "source": [
        "model = EfficientNetV2B2(\n",
        "    include_top=False,\n",
        "    weights=\"imagenet\",\n",
        "    #input_tensor=None,\n",
        "    input_shape=(260,260,3),\n",
        "    include_preprocessing=True,\n",
        ")\n",
        "\n",
        "model.trainable = False\n",
        "inputs = model.input\n",
        "\n",
        "x = layers.GlobalAveragePooling2D(name=\"avg_pool\")(model.output)\n",
        "x = layers.BatchNormalization()(x)\n",
        "\n",
        "top_dropout_rate = 0.2\n",
        "x = layers.Dropout(top_dropout_rate, name=\"top_dropout\")(x)\n",
        "outputs = layers.Dense(1, activation=\"sigmoid\", name=\"pred\")(x)\n",
        "\n",
        "# Compile\n",
        "model = tf.keras.Model(inputs, outputs, name=\"EfficientNet\")"
      ],
      "metadata": {
        "id": "YX1GIE7eQAXJ"
      },
      "execution_count": null,
      "outputs": []
    },
    {
      "cell_type": "code",
      "source": [
        "def unfreeze_model(model):\n",
        "    # We unfreeze the top 20 layers while leaving BatchNorm layers frozen\n",
        "    for layer in model.layers[-20:]:\n",
        "        if not isinstance(layer, layers.BatchNormalization):\n",
        "            layer.trainable = True\n",
        "\n",
        "unfreeze_model(model)\n"
      ],
      "metadata": {
        "id": "Wka3y4fhZCSf"
      },
      "execution_count": null,
      "outputs": []
    },
    {
      "cell_type": "code",
      "source": [
        ""
      ],
      "metadata": {
        "id": "oR8KDCd4Jb-C"
      },
      "execution_count": null,
      "outputs": []
    },
    {
      "cell_type": "markdown",
      "source": [
        "#### VGG-16 Model (ImageNet)"
      ],
      "metadata": {
        "id": "8ROQEUy9Poi3"
      }
    },
    {
      "cell_type": "code",
      "source": [
        "model = VGG16(weights='imagenet',include_top=True, input_shape=(224,224,3)) #ImageNet Weights\n",
        "#model.summary()"
      ],
      "metadata": {
        "id": "UAw5Bi3J0crf"
      },
      "execution_count": null,
      "outputs": []
    },
    {
      "cell_type": "markdown",
      "source": [
        "#### VGG-16 Model RVL-CDIP"
      ],
      "metadata": {
        "id": "BfLcagxUPsVb"
      }
    },
    {
      "cell_type": "code",
      "source": [
        "model = VGG16(weights=None,include_top=True, classes=16, input_shape=(224,224,3))\n",
        "#model.summary()\n"
      ],
      "metadata": {
        "id": "c6QCcqEsI2Pp"
      },
      "execution_count": null,
      "outputs": []
    },
    {
      "cell_type": "code",
      "source": [
        "model.load_weights('/content/weights/pretrained_weights_converted.h5')"
      ],
      "metadata": {
        "id": "HwkwfPKvKdpD"
      },
      "execution_count": null,
      "outputs": []
    },
    {
      "cell_type": "code",
      "source": [
        "#model = VGG16(weights='imagenet',include_top=False, input_shape=(224,224,3))\n",
        "new_input = model.input\n",
        "hidden_layer = model.layers[-2].output\n",
        "\n",
        "new_model = Model(inputs=new_input, outputs=hidden_layer)\n",
        "\n",
        "x = new_model.output\n",
        "#x = Flatten()(x)\n",
        "#x = Dense(4096, activation='relu')(x)\n",
        "#x = Dense(4096, activation='relu')(x)\n",
        "\n",
        "#x = Dense(2048, activation='relu')(x)\n",
        "#x = Dense(1024, activation='relu')(x)\n",
        "#x = Dense(512, activation='relu')(x)\n",
        "\n",
        "preds = Dense(1, activation = 'sigmoid')(x)\n",
        "model=Model(inputs=new_model.input, outputs=preds)\n",
        "#model.summary()"
      ],
      "metadata": {
        "id": "1yg-pEMQegOw"
      },
      "execution_count": null,
      "outputs": []
    },
    {
      "cell_type": "markdown",
      "source": [
        "#### Layers Trainable"
      ],
      "metadata": {
        "id": "g7RK9MIVPxtj"
      }
    },
    {
      "cell_type": "code",
      "source": [
        "for layer in model.layers[:-1]:\n",
        "    layer.trainable = True\n",
        " \n",
        "# Check the trainable status of the individual layers\n",
        "#for layer in model.layers:\n",
        "#    print(layer, layer.trainable)"
      ],
      "metadata": {
        "id": "0_SFeuwjI1eN"
      },
      "execution_count": null,
      "outputs": []
    },
    {
      "cell_type": "code",
      "source": [
        "for layer in model.layers[:-3]:\n",
        "    layer.trainable = False\n",
        " \n",
        "# Check the trainable status of the individual layers\n",
        "#for layer in model.layers:\n",
        "#    print(layer, layer.trainable)"
      ],
      "metadata": {
        "id": "x92_ic9g7vzs"
      },
      "execution_count": null,
      "outputs": []
    },
    {
      "cell_type": "markdown",
      "source": [
        "#### Callbacks"
      ],
      "metadata": {
        "id": "WKhnqsonP0Qv"
      }
    },
    {
      "cell_type": "code",
      "source": [
        "#checkpoint_filepath = '/content/weights/weights-{epoch:02d}-{val_auc:.2f}.h5'\n",
        "weights_filepath = '/content/gdrive/MyDrive/GMU Semester 5/CS 795/project/weights/'\n",
        "#exp_num = 1\n",
        "checkpoint_filepath = '/content/gdrive/MyDrive/GMU Semester 5/CS 795/project/weights/exp-83-{epoch:02d}-{val_auc:.2f}.h5'\n",
        "\n",
        "Path(\"/content/gdrive/MyDrive/GMU Semester 5/CS 795/project/logs\").mkdir(parents=True, exist_ok=True)\n",
        "\n",
        "csv_filepath = '/content/gdrive/MyDrive/GMU Semester 5/CS 795/project/logs/'\n",
        "filename = 'exp-83.csv'\n",
        "csv_logger = tf.keras.callbacks.CSVLogger(\n",
        "   csv_filepath + filename, separator=',', append=True\n",
        ")\n",
        "\n",
        "reduce_lr = ReduceLROnPlateau(monitor='val_auc', factor=0.1,\n",
        "                              patience=10, min_lr=0.000001, mode='max')\n",
        "model_checkpoint_callback = tf.keras.callbacks.ModelCheckpoint(\n",
        "    filepath=checkpoint_filepath,\n",
        "    save_weights_only=True,\n",
        "    monitor='val_auc',\n",
        "    mode='max',\n",
        "    save_best_only=True)"
      ],
      "metadata": {
        "id": "5Y57jR9RH47a"
      },
      "execution_count": null,
      "outputs": []
    },
    {
      "cell_type": "markdown",
      "source": [
        "#### Compile and Train"
      ],
      "metadata": {
        "id": "V34XTswvP3IU"
      }
    },
    {
      "cell_type": "code",
      "source": [
        "#optimizer = tf.keras.optimizers.RMSprop(lr=0.0001)\n",
        "optimizer = tf.keras.optimizers.Adam(lr=0.001)\n",
        "\n",
        "#optimizer = tfa.optimizers.AdamW(learning_rate=0.0001, weight_decay=0.004)\n",
        "model.compile(loss='binary_crossentropy',\n",
        "              optimizer=optimizer,\n",
        "              metrics=['acc', tf.keras.metrics.AUC(name='auc')])"
      ],
      "metadata": {
        "colab": {
          "base_uri": "https://localhost:8080/"
        },
        "id": "n6xWhgL1BMx4",
        "outputId": "e66a7761-eb2e-46c5-f418-8b758e22b26e"
      },
      "execution_count": null,
      "outputs": [
        {
          "output_type": "stream",
          "name": "stderr",
          "text": [
            "/usr/local/lib/python3.7/dist-packages/keras/optimizer_v2/adam.py:105: UserWarning: The `lr` argument is deprecated, use `learning_rate` instead.\n",
            "  super(Adam, self).__init__(name, **kwargs)\n"
          ]
        }
      ]
    },
    {
      "cell_type": "code",
      "source": [
        "history = model.fit(\n",
        "      train_generator,\n",
        "#      steps_per_epoch=1,\n",
        "#      steps_per_epoch=train_generator.samples/train_generator.batch_size,\n",
        "      epochs=30,\n",
        "      #initial_epoch = 30,\n",
        "      validation_data=validation_generator,\n",
        "#      validation_steps=validation_generator.samples/validation_generator.batch_size,\n",
        "      callbacks=[model_checkpoint_callback, csv_logger, reduce_lr])"
      ],
      "metadata": {
        "id": "6gh61PZVYJhG",
        "colab": {
          "base_uri": "https://localhost:8080/"
        },
        "outputId": "536da44f-ba72-4099-9f1a-c8a1646c9638"
      },
      "execution_count": null,
      "outputs": [
        {
          "output_type": "stream",
          "name": "stdout",
          "text": [
            "Epoch 1/30\n",
            "6/6 [==============================] - 7s 904ms/step - loss: 20.4014 - acc: 0.5149 - auc: 0.5546 - val_loss: 0.7965 - val_acc: 0.4524 - val_auc: 0.6281 - lr: 0.0010\n",
            "Epoch 2/30\n",
            "6/6 [==============================] - 3s 478ms/step - loss: 0.9216 - acc: 0.5089 - auc: 0.4441 - val_loss: 0.7521 - val_acc: 0.5476 - val_auc: 0.4588 - lr: 0.0010\n",
            "Epoch 3/30\n",
            "6/6 [==============================] - 4s 775ms/step - loss: 0.7811 - acc: 0.5268 - auc: 0.4964 - val_loss: 0.7457 - val_acc: 0.4524 - val_auc: 0.6808 - lr: 0.0010\n",
            "Epoch 4/30\n",
            "6/6 [==============================] - 5s 893ms/step - loss: 0.7237 - acc: 0.5089 - auc: 0.4359 - val_loss: 0.6896 - val_acc: 0.5476 - val_auc: 0.7380 - lr: 0.0010\n",
            "Epoch 5/30\n",
            "6/6 [==============================] - 3s 641ms/step - loss: 0.7096 - acc: 0.4911 - auc: 0.4572 - val_loss: 0.6937 - val_acc: 0.4524 - val_auc: 0.7265 - lr: 0.0010\n",
            "Epoch 6/30\n",
            "6/6 [==============================] - 4s 570ms/step - loss: 0.7377 - acc: 0.5089 - auc: 0.4693 - val_loss: 0.6966 - val_acc: 0.4524 - val_auc: 0.7117 - lr: 0.0010\n",
            "Epoch 7/30\n",
            "6/6 [==============================] - 4s 575ms/step - loss: 0.7295 - acc: 0.5030 - auc: 0.4850 - val_loss: 0.6859 - val_acc: 0.5476 - val_auc: 0.7002 - lr: 0.0010\n",
            "Epoch 8/30\n",
            "6/6 [==============================] - 5s 922ms/step - loss: 0.7102 - acc: 0.4851 - auc: 0.4907 - val_loss: 0.7098 - val_acc: 0.4524 - val_auc: 0.7746 - lr: 0.0010\n",
            "Epoch 9/30\n",
            "6/6 [==============================] - 3s 499ms/step - loss: 0.7048 - acc: 0.4583 - auc: 0.5081 - val_loss: 0.6812 - val_acc: 0.5952 - val_auc: 0.7632 - lr: 0.0010\n",
            "Epoch 10/30\n",
            "6/6 [==============================] - 3s 521ms/step - loss: 0.6947 - acc: 0.4821 - auc: 0.5871 - val_loss: 0.6851 - val_acc: 0.4524 - val_auc: 0.7620 - lr: 0.0010\n",
            "Epoch 11/30\n",
            "6/6 [==============================] - 5s 928ms/step - loss: 0.7059 - acc: 0.5119 - auc: 0.5215 - val_loss: 0.6753 - val_acc: 0.6429 - val_auc: 0.7769 - lr: 0.0010\n",
            "Epoch 12/30\n",
            "6/6 [==============================] - 5s 869ms/step - loss: 0.7112 - acc: 0.5357 - auc: 0.5669 - val_loss: 0.6952 - val_acc: 0.4524 - val_auc: 0.7826 - lr: 0.0010\n",
            "Epoch 13/30\n",
            "6/6 [==============================] - 3s 662ms/step - loss: 0.7260 - acc: 0.5030 - auc: 0.5225 - val_loss: 0.6694 - val_acc: 0.5476 - val_auc: 0.7471 - lr: 0.0010\n",
            "Epoch 14/30\n",
            "6/6 [==============================] - 4s 576ms/step - loss: 0.6898 - acc: 0.5268 - auc: 0.5787 - val_loss: 0.6875 - val_acc: 0.4524 - val_auc: 0.7792 - lr: 0.0010\n",
            "Epoch 15/30\n",
            "6/6 [==============================] - 4s 712ms/step - loss: 0.6957 - acc: 0.5238 - auc: 0.5686 - val_loss: 0.6460 - val_acc: 0.7143 - val_auc: 0.7517 - lr: 0.0010\n",
            "Epoch 16/30\n",
            "6/6 [==============================] - 4s 585ms/step - loss: 0.7028 - acc: 0.5357 - auc: 0.5712 - val_loss: 0.6560 - val_acc: 0.6190 - val_auc: 0.7529 - lr: 0.0010\n",
            "Epoch 17/30\n",
            "6/6 [==============================] - 4s 581ms/step - loss: 0.6611 - acc: 0.6071 - auc: 0.6626 - val_loss: 0.6304 - val_acc: 0.7143 - val_auc: 0.7391 - lr: 0.0010\n",
            "Epoch 18/30\n",
            "6/6 [==============================] - 3s 607ms/step - loss: 0.6353 - acc: 0.6429 - auc: 0.7575 - val_loss: 0.6373 - val_acc: 0.5714 - val_auc: 0.7105 - lr: 0.0010\n",
            "Epoch 19/30\n",
            "6/6 [==============================] - 3s 571ms/step - loss: 0.6113 - acc: 0.6905 - auc: 0.7816 - val_loss: 0.6181 - val_acc: 0.7143 - val_auc: 0.7094 - lr: 0.0010\n",
            "Epoch 20/30\n",
            "6/6 [==============================] - 3s 623ms/step - loss: 0.6024 - acc: 0.6875 - auc: 0.7440 - val_loss: 0.6071 - val_acc: 0.6667 - val_auc: 0.7059 - lr: 0.0010\n",
            "Epoch 21/30\n",
            "6/6 [==============================] - 3s 519ms/step - loss: 0.5541 - acc: 0.7083 - auc: 0.7998 - val_loss: 0.6215 - val_acc: 0.5952 - val_auc: 0.7426 - lr: 0.0010\n",
            "Epoch 22/30\n",
            "6/6 [==============================] - 3s 535ms/step - loss: 0.5920 - acc: 0.6875 - auc: 0.7518 - val_loss: 0.8289 - val_acc: 0.5714 - val_auc: 0.7460 - lr: 0.0010\n",
            "Epoch 23/30\n",
            "6/6 [==============================] - 3s 516ms/step - loss: 0.6540 - acc: 0.6310 - auc: 0.8374 - val_loss: 0.5902 - val_acc: 0.6429 - val_auc: 0.7437 - lr: 1.0000e-04\n",
            "Epoch 24/30\n",
            "6/6 [==============================] - 3s 553ms/step - loss: 0.5295 - acc: 0.7321 - auc: 0.8258 - val_loss: 0.6427 - val_acc: 0.6667 - val_auc: 0.7414 - lr: 1.0000e-04\n",
            "Epoch 25/30\n",
            "6/6 [==============================] - 3s 628ms/step - loss: 0.5303 - acc: 0.7351 - auc: 0.8374 - val_loss: 0.5894 - val_acc: 0.6667 - val_auc: 0.7414 - lr: 1.0000e-04\n",
            "Epoch 26/30\n",
            "6/6 [==============================] - 3s 530ms/step - loss: 0.5030 - acc: 0.7530 - auc: 0.8454 - val_loss: 0.6100 - val_acc: 0.6429 - val_auc: 0.7437 - lr: 1.0000e-04\n",
            "Epoch 27/30\n",
            "6/6 [==============================] - 3s 514ms/step - loss: 0.5121 - acc: 0.7411 - auc: 0.8499 - val_loss: 0.5960 - val_acc: 0.6429 - val_auc: 0.7460 - lr: 1.0000e-04\n",
            "Epoch 28/30\n",
            "6/6 [==============================] - 3s 610ms/step - loss: 0.4935 - acc: 0.7649 - auc: 0.8497 - val_loss: 0.5956 - val_acc: 0.6667 - val_auc: 0.7437 - lr: 1.0000e-04\n",
            "Epoch 29/30\n",
            "6/6 [==============================] - 3s 604ms/step - loss: 0.4949 - acc: 0.7708 - auc: 0.8512 - val_loss: 0.5917 - val_acc: 0.6667 - val_auc: 0.7460 - lr: 1.0000e-04\n",
            "Epoch 30/30\n",
            "6/6 [==============================] - 3s 524ms/step - loss: 0.4955 - acc: 0.7530 - auc: 0.8470 - val_loss: 0.5967 - val_acc: 0.6429 - val_auc: 0.7506 - lr: 1.0000e-04\n"
          ]
        }
      ]
    },
    {
      "cell_type": "code",
      "source": [
        "#np.max(history.history['val_auc'])"
      ],
      "metadata": {
        "colab": {
          "base_uri": "https://localhost:8080/"
        },
        "id": "DIhBAoYUsHXY",
        "outputId": "e8d75418-3e0a-44b0-b632-841eb5876c07"
      },
      "execution_count": null,
      "outputs": [
        {
          "output_type": "execute_result",
          "data": {
            "text/plain": [
              "0.7962962985038757"
            ]
          },
          "metadata": {},
          "execution_count": 24
        }
      ]
    },
    {
      "cell_type": "markdown",
      "source": [
        "#### Evaluate"
      ],
      "metadata": {
        "id": "yfr1SV40P5U2"
      }
    },
    {
      "cell_type": "code",
      "source": [
        "#best_val_scores.append(np.max(history.history['val_acc']))\n",
        "load_filepath = weights_filepath + 'exp-13-03-0.85.h5'\n",
        "model.load_weights(load_filepath)\n",
        "\n",
        "model.evaluate(test_generator)"
      ],
      "metadata": {
        "colab": {
          "base_uri": "https://localhost:8080/"
        },
        "id": "iSqzbn52YJhH",
        "outputId": "b466021e-74fd-484b-fb55-09c12595c0c9"
      },
      "execution_count": null,
      "outputs": [
        {
          "output_type": "stream",
          "name": "stdout",
          "text": [
            "3/3 [==============================] - 2s 355ms/step - loss: 0.8436 - acc: 0.7035 - auc: 0.7788\n"
          ]
        },
        {
          "output_type": "execute_result",
          "data": {
            "text/plain": [
              "[0.8436097502708435, 0.7034883499145508, 0.7788195013999939]"
            ]
          },
          "metadata": {},
          "execution_count": 260
        }
      ]
    },
    {
      "cell_type": "code",
      "source": [
        ""
      ],
      "metadata": {
        "id": "HDhXZ4QMPgo8"
      },
      "execution_count": null,
      "outputs": []
    },
    {
      "cell_type": "code",
      "source": [
        "plt.plot(history.history['loss'])\n",
        "plt.plot(history.history['val_loss'])\n",
        "plt.title('model loss')\n",
        "plt.ylabel('loss')\n",
        "plt.xlabel('epoch')\n",
        "plt.legend(['train', 'val'], loc='upper left')\n",
        "plt.show()"
      ],
      "metadata": {
        "id": "RK5QBP_cYJhH"
      },
      "execution_count": null,
      "outputs": []
    },
    {
      "cell_type": "code",
      "source": [
        "plt.plot(history.history['acc'])\n",
        "plt.plot(history.history['val_acc'])\n",
        "plt.title('model accuracy')\n",
        "plt.ylabel('accuracy')\n",
        "plt.xlabel('epoch')\n",
        "plt.legend(['train', 'val'], loc='upper left')\n",
        "plt.show()"
      ],
      "metadata": {
        "id": "M6en-U5GYJhH"
      },
      "execution_count": null,
      "outputs": []
    },
    {
      "cell_type": "code",
      "source": [
        ""
      ],
      "metadata": {
        "id": "ZsCG_yr-b2eV"
      },
      "execution_count": null,
      "outputs": []
    }
  ]
}