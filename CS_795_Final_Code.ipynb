{
  "nbformat": 4,
  "nbformat_minor": 0,
  "metadata": {
    "colab": {
      "name": "CS_795_Final_Code.ipynb",
      "provenance": [],
      "collapsed_sections": [],
      "machine_shape": "hm",
      "include_colab_link": true
    },
    "kernelspec": {
      "name": "python3",
      "display_name": "Python 3"
    },
    "language_info": {
      "name": "python"
    },
    "accelerator": "GPU"
  },
  "cells": [
    {
      "cell_type": "markdown",
      "metadata": {
        "id": "view-in-github",
        "colab_type": "text"
      },
      "source": [
        "<a href=\"https://colab.research.google.com/github/Tasfia48/vis_rep_prog_comprehension_project_795/blob/main/CS_795_Final_Code.ipynb\" target=\"_parent\"><img src=\"https://colab.research.google.com/assets/colab-badge.svg\" alt=\"Open In Colab\"/></a>"
      ]
    },
    {
      "cell_type": "markdown",
      "source": [
        "## Load Data"
      ],
      "metadata": {
        "id": "xpNcL7thGMYz"
      }
    },
    {
      "cell_type": "code",
      "source": [
        "!gdown https://drive.google.com/uc?id=1Cn_hwxJlo1R8I0IDGQcNzPUYtyD6T9a2 #FULL DATASET"
      ],
      "metadata": {
        "colab": {
          "base_uri": "https://localhost:8080/"
        },
        "id": "ZWN0BLCS3OlY",
        "outputId": "0f192d8f-7f1d-442a-dacb-82adb59a79ab"
      },
      "execution_count": 11,
      "outputs": [
        {
          "output_type": "stream",
          "name": "stdout",
          "text": [
            "Downloading...\n",
            "From: https://drive.google.com/uc?id=1Cn_hwxJlo1R8I0IDGQcNzPUYtyD6T9a2\n",
            "To: /content/Readability_Dataset_Complete.zip\n",
            "100% 61.1M/61.1M [00:00<00:00, 87.8MB/s]\n"
          ]
        }
      ]
    },
    {
      "cell_type": "code",
      "source": [
        "!unzip 'Readability_Dataset_Complete.zip' &>/dev/null"
      ],
      "metadata": {
        "id": "bTrO6-b56K0X"
      },
      "execution_count": 12,
      "outputs": []
    },
    {
      "cell_type": "code",
      "source": [
        "from google.colab import drive\n",
        "drive.mount('/content/gdrive')"
      ],
      "metadata": {
        "colab": {
          "base_uri": "https://localhost:8080/"
        },
        "id": "m-gHl9CyF0nK",
        "outputId": "8b52e92c-8db7-41ac-bc42-1493bd5a4c27"
      },
      "execution_count": 1,
      "outputs": [
        {
          "output_type": "stream",
          "name": "stdout",
          "text": [
            "Mounted at /content/gdrive\n"
          ]
        }
      ]
    },
    {
      "cell_type": "code",
      "source": [
        "!mkdir 'weights'"
      ],
      "metadata": {
        "id": "TcuzX9kRBBcE"
      },
      "execution_count": 4,
      "outputs": []
    },
    {
      "cell_type": "markdown",
      "source": [
        "### Link to get the pretained weights: https://drive.google.com/file/d/19_oDjjrU2fYulxZVxOp_VWndohN-sfOy/view?usp=sharing\n"
      ],
      "metadata": {
        "id": "jF7rvvadixr4"
      }
    },
    {
      "cell_type": "code",
      "source": [
        "!cp -r '/content/drive/MyDrive/SWE 795/pretrained_weights_converted.h5' '/content/weights/' "
      ],
      "metadata": {
        "id": "qZRY-6CCHzoM"
      },
      "execution_count": 5,
      "outputs": []
    },
    {
      "cell_type": "markdown",
      "source": [
        "### Import Libraries"
      ],
      "metadata": {
        "id": "HGsr8PLsjXZg"
      }
    },
    {
      "cell_type": "code",
      "source": [
        "\n",
        "import glob\n",
        "import pandas as pd\n",
        "import tensorflow as tf\n",
        "from sklearn.neighbors import KNeighborsClassifier\n",
        "from tensorflow import keras\n",
        "\n",
        "\n",
        "import PIL\n",
        "import os\n",
        "from sklearn.metrics import accuracy_score\n",
        "from sklearn.metrics import classification_report\n",
        "from sklearn.metrics import confusion_matrix\n",
        "from sklearn.metrics import f1_score\n",
        "#from sklearn import svm\n",
        "\n",
        "from tensorflow.keras.models import Sequential\n",
        "from tensorflow.keras.layers import Dense\n",
        "from tensorflow.keras.optimizers import SGD\n",
        "from tensorflow.keras import datasets, layers, models\n",
        "\n",
        "\n",
        "\n",
        "from matplotlib import pyplot as plt\n",
        "from PIL import Image                                                            \n",
        "import glob\n",
        "import cv2\n",
        "from PIL import Image\n",
        "import numpy as np\n",
        "\n",
        "from pathlib import Path\n",
        "\n",
        "from tensorflow import keras\n",
        "from tensorflow.keras.preprocessing.image import ImageDataGenerator\n",
        "from tensorflow.keras.preprocessing.image import img_to_array\n",
        "from tensorflow.keras.callbacks import ReduceLROnPlateau\n",
        "\n",
        "from tensorflow.keras import regularizers\n",
        "from tensorflow.keras.regularizers import l2\n",
        "from tensorflow.keras.layers import Dropout, MaxPooling2D, Flatten\n",
        "\n",
        "\n",
        "from tensorflow.keras.applications.vgg16 import VGG16\n",
        "from tensorflow.keras.applications.resnet50 import ResNet50\n",
        "from tensorflow.keras.models import Model\n",
        "from tensorflow.keras.preprocessing import image\n",
        "from tensorflow.keras.applications.vgg16 import preprocess_input\n",
        "from tensorflow.keras.applications.efficientnet_v2 import EfficientNetV2M, EfficientNetV2B2, EfficientNetV2B0"
      ],
      "metadata": {
        "id": "o2-VqBKhiHJ1"
      },
      "execution_count": 6,
      "outputs": []
    },
    {
      "cell_type": "code",
      "source": [
        "!pip install tensorflow_addons\n",
        "import tensorflow_addons as tfa\n",
        "from tensorflow_addons.optimizers import AdamW"
      ],
      "metadata": {
        "id": "8vBDbDOQMrSC",
        "colab": {
          "base_uri": "https://localhost:8080/"
        },
        "outputId": "414d8ac7-cf12-401d-dbae-30c8b60158c4"
      },
      "execution_count": 7,
      "outputs": [
        {
          "output_type": "stream",
          "name": "stdout",
          "text": [
            "Collecting tensorflow_addons\n",
            "  Downloading tensorflow_addons-0.16.1-cp37-cp37m-manylinux_2_12_x86_64.manylinux2010_x86_64.whl (1.1 MB)\n",
            "\u001b[?25l\r\u001b[K     |▎                               | 10 kB 25.9 MB/s eta 0:00:01\r\u001b[K     |▋                               | 20 kB 16.7 MB/s eta 0:00:01\r\u001b[K     |▉                               | 30 kB 11.0 MB/s eta 0:00:01\r\u001b[K     |█▏                              | 40 kB 7.9 MB/s eta 0:00:01\r\u001b[K     |█▌                              | 51 kB 7.4 MB/s eta 0:00:01\r\u001b[K     |█▊                              | 61 kB 8.8 MB/s eta 0:00:01\r\u001b[K     |██                              | 71 kB 8.1 MB/s eta 0:00:01\r\u001b[K     |██▍                             | 81 kB 9.2 MB/s eta 0:00:01\r\u001b[K     |██▋                             | 92 kB 8.3 MB/s eta 0:00:01\r\u001b[K     |███                             | 102 kB 9.0 MB/s eta 0:00:01\r\u001b[K     |███▏                            | 112 kB 9.0 MB/s eta 0:00:01\r\u001b[K     |███▌                            | 122 kB 9.0 MB/s eta 0:00:01\r\u001b[K     |███▉                            | 133 kB 9.0 MB/s eta 0:00:01\r\u001b[K     |████                            | 143 kB 9.0 MB/s eta 0:00:01\r\u001b[K     |████▍                           | 153 kB 9.0 MB/s eta 0:00:01\r\u001b[K     |████▊                           | 163 kB 9.0 MB/s eta 0:00:01\r\u001b[K     |█████                           | 174 kB 9.0 MB/s eta 0:00:01\r\u001b[K     |█████▎                          | 184 kB 9.0 MB/s eta 0:00:01\r\u001b[K     |█████▌                          | 194 kB 9.0 MB/s eta 0:00:01\r\u001b[K     |█████▉                          | 204 kB 9.0 MB/s eta 0:00:01\r\u001b[K     |██████▏                         | 215 kB 9.0 MB/s eta 0:00:01\r\u001b[K     |██████▍                         | 225 kB 9.0 MB/s eta 0:00:01\r\u001b[K     |██████▊                         | 235 kB 9.0 MB/s eta 0:00:01\r\u001b[K     |███████                         | 245 kB 9.0 MB/s eta 0:00:01\r\u001b[K     |███████▎                        | 256 kB 9.0 MB/s eta 0:00:01\r\u001b[K     |███████▋                        | 266 kB 9.0 MB/s eta 0:00:01\r\u001b[K     |███████▉                        | 276 kB 9.0 MB/s eta 0:00:01\r\u001b[K     |████████▏                       | 286 kB 9.0 MB/s eta 0:00:01\r\u001b[K     |████████▌                       | 296 kB 9.0 MB/s eta 0:00:01\r\u001b[K     |████████▊                       | 307 kB 9.0 MB/s eta 0:00:01\r\u001b[K     |█████████                       | 317 kB 9.0 MB/s eta 0:00:01\r\u001b[K     |█████████▍                      | 327 kB 9.0 MB/s eta 0:00:01\r\u001b[K     |█████████▋                      | 337 kB 9.0 MB/s eta 0:00:01\r\u001b[K     |██████████                      | 348 kB 9.0 MB/s eta 0:00:01\r\u001b[K     |██████████▏                     | 358 kB 9.0 MB/s eta 0:00:01\r\u001b[K     |██████████▌                     | 368 kB 9.0 MB/s eta 0:00:01\r\u001b[K     |██████████▉                     | 378 kB 9.0 MB/s eta 0:00:01\r\u001b[K     |███████████                     | 389 kB 9.0 MB/s eta 0:00:01\r\u001b[K     |███████████▍                    | 399 kB 9.0 MB/s eta 0:00:01\r\u001b[K     |███████████▊                    | 409 kB 9.0 MB/s eta 0:00:01\r\u001b[K     |████████████                    | 419 kB 9.0 MB/s eta 0:00:01\r\u001b[K     |████████████▎                   | 430 kB 9.0 MB/s eta 0:00:01\r\u001b[K     |████████████▌                   | 440 kB 9.0 MB/s eta 0:00:01\r\u001b[K     |████████████▉                   | 450 kB 9.0 MB/s eta 0:00:01\r\u001b[K     |█████████████▏                  | 460 kB 9.0 MB/s eta 0:00:01\r\u001b[K     |█████████████▍                  | 471 kB 9.0 MB/s eta 0:00:01\r\u001b[K     |█████████████▊                  | 481 kB 9.0 MB/s eta 0:00:01\r\u001b[K     |██████████████                  | 491 kB 9.0 MB/s eta 0:00:01\r\u001b[K     |██████████████▎                 | 501 kB 9.0 MB/s eta 0:00:01\r\u001b[K     |██████████████▋                 | 512 kB 9.0 MB/s eta 0:00:01\r\u001b[K     |██████████████▉                 | 522 kB 9.0 MB/s eta 0:00:01\r\u001b[K     |███████████████▏                | 532 kB 9.0 MB/s eta 0:00:01\r\u001b[K     |███████████████▌                | 542 kB 9.0 MB/s eta 0:00:01\r\u001b[K     |███████████████▊                | 552 kB 9.0 MB/s eta 0:00:01\r\u001b[K     |████████████████                | 563 kB 9.0 MB/s eta 0:00:01\r\u001b[K     |████████████████▍               | 573 kB 9.0 MB/s eta 0:00:01\r\u001b[K     |████████████████▋               | 583 kB 9.0 MB/s eta 0:00:01\r\u001b[K     |█████████████████               | 593 kB 9.0 MB/s eta 0:00:01\r\u001b[K     |█████████████████▏              | 604 kB 9.0 MB/s eta 0:00:01\r\u001b[K     |█████████████████▌              | 614 kB 9.0 MB/s eta 0:00:01\r\u001b[K     |█████████████████▉              | 624 kB 9.0 MB/s eta 0:00:01\r\u001b[K     |██████████████████              | 634 kB 9.0 MB/s eta 0:00:01\r\u001b[K     |██████████████████▍             | 645 kB 9.0 MB/s eta 0:00:01\r\u001b[K     |██████████████████▊             | 655 kB 9.0 MB/s eta 0:00:01\r\u001b[K     |███████████████████             | 665 kB 9.0 MB/s eta 0:00:01\r\u001b[K     |███████████████████▎            | 675 kB 9.0 MB/s eta 0:00:01\r\u001b[K     |███████████████████▌            | 686 kB 9.0 MB/s eta 0:00:01\r\u001b[K     |███████████████████▉            | 696 kB 9.0 MB/s eta 0:00:01\r\u001b[K     |████████████████████▏           | 706 kB 9.0 MB/s eta 0:00:01\r\u001b[K     |████████████████████▍           | 716 kB 9.0 MB/s eta 0:00:01\r\u001b[K     |████████████████████▊           | 727 kB 9.0 MB/s eta 0:00:01\r\u001b[K     |█████████████████████           | 737 kB 9.0 MB/s eta 0:00:01\r\u001b[K     |█████████████████████▎          | 747 kB 9.0 MB/s eta 0:00:01\r\u001b[K     |█████████████████████▋          | 757 kB 9.0 MB/s eta 0:00:01\r\u001b[K     |█████████████████████▉          | 768 kB 9.0 MB/s eta 0:00:01\r\u001b[K     |██████████████████████▏         | 778 kB 9.0 MB/s eta 0:00:01\r\u001b[K     |██████████████████████▌         | 788 kB 9.0 MB/s eta 0:00:01\r\u001b[K     |██████████████████████▊         | 798 kB 9.0 MB/s eta 0:00:01\r\u001b[K     |███████████████████████         | 808 kB 9.0 MB/s eta 0:00:01\r\u001b[K     |███████████████████████▍        | 819 kB 9.0 MB/s eta 0:00:01\r\u001b[K     |███████████████████████▋        | 829 kB 9.0 MB/s eta 0:00:01\r\u001b[K     |████████████████████████        | 839 kB 9.0 MB/s eta 0:00:01\r\u001b[K     |████████████████████████▏       | 849 kB 9.0 MB/s eta 0:00:01\r\u001b[K     |████████████████████████▌       | 860 kB 9.0 MB/s eta 0:00:01\r\u001b[K     |████████████████████████▉       | 870 kB 9.0 MB/s eta 0:00:01\r\u001b[K     |█████████████████████████       | 880 kB 9.0 MB/s eta 0:00:01\r\u001b[K     |█████████████████████████▍      | 890 kB 9.0 MB/s eta 0:00:01\r\u001b[K     |█████████████████████████▊      | 901 kB 9.0 MB/s eta 0:00:01\r\u001b[K     |██████████████████████████      | 911 kB 9.0 MB/s eta 0:00:01\r\u001b[K     |██████████████████████████▎     | 921 kB 9.0 MB/s eta 0:00:01\r\u001b[K     |██████████████████████████▌     | 931 kB 9.0 MB/s eta 0:00:01\r\u001b[K     |██████████████████████████▉     | 942 kB 9.0 MB/s eta 0:00:01\r\u001b[K     |███████████████████████████▏    | 952 kB 9.0 MB/s eta 0:00:01\r\u001b[K     |███████████████████████████▍    | 962 kB 9.0 MB/s eta 0:00:01\r\u001b[K     |███████████████████████████▊    | 972 kB 9.0 MB/s eta 0:00:01\r\u001b[K     |████████████████████████████    | 983 kB 9.0 MB/s eta 0:00:01\r\u001b[K     |████████████████████████████▎   | 993 kB 9.0 MB/s eta 0:00:01\r\u001b[K     |████████████████████████████▋   | 1.0 MB 9.0 MB/s eta 0:00:01\r\u001b[K     |████████████████████████████▉   | 1.0 MB 9.0 MB/s eta 0:00:01\r\u001b[K     |█████████████████████████████▏  | 1.0 MB 9.0 MB/s eta 0:00:01\r\u001b[K     |█████████████████████████████▌  | 1.0 MB 9.0 MB/s eta 0:00:01\r\u001b[K     |█████████████████████████████▊  | 1.0 MB 9.0 MB/s eta 0:00:01\r\u001b[K     |██████████████████████████████  | 1.1 MB 9.0 MB/s eta 0:00:01\r\u001b[K     |██████████████████████████████▍ | 1.1 MB 9.0 MB/s eta 0:00:01\r\u001b[K     |██████████████████████████████▋ | 1.1 MB 9.0 MB/s eta 0:00:01\r\u001b[K     |███████████████████████████████ | 1.1 MB 9.0 MB/s eta 0:00:01\r\u001b[K     |███████████████████████████████▏| 1.1 MB 9.0 MB/s eta 0:00:01\r\u001b[K     |███████████████████████████████▌| 1.1 MB 9.0 MB/s eta 0:00:01\r\u001b[K     |███████████████████████████████▉| 1.1 MB 9.0 MB/s eta 0:00:01\r\u001b[K     |████████████████████████████████| 1.1 MB 9.0 MB/s \n",
            "\u001b[?25hRequirement already satisfied: typeguard>=2.7 in /usr/local/lib/python3.7/dist-packages (from tensorflow_addons) (2.7.1)\n",
            "Installing collected packages: tensorflow-addons\n",
            "Successfully installed tensorflow-addons-0.16.1\n"
          ]
        }
      ]
    },
    {
      "cell_type": "markdown",
      "source": [
        "## Pre-processing Dataset - JAVA"
      ],
      "metadata": {
        "id": "rMl_ukFBGcQk"
      }
    },
    {
      "cell_type": "code",
      "source": [
        "nsh_dark_java = pd.read_csv('MergedTotal_NSH_Dark/csv/merged_java.csv')\n",
        "nsh_light_java = pd.read_csv('MergedTotal_NSH_Light/csv/merged_java.csv')\n",
        "sh_light_java = pd.read_csv('MergedTotal_SH_Light/csv/merged_java.csv')\n",
        "sh_dark_java = pd.read_csv('MergedTotal_SH_Dark/csv/merged_java.csv')\n",
        "\n",
        "nsh_dark_java['filepaths'] = \"MergedTotal_NSH_Dark/\" + nsh_dark_java['filepaths']\n",
        "nsh_light_java['filepaths'] = \"MergedTotal_NSH_Light/\" + nsh_light_java['filepaths']\n",
        "sh_light_java['filepaths'] = \"MergedTotal_SH_Light/\" + sh_light_java['filepaths']\n",
        "sh_dark_java['filepaths'] = \"MergedTotal_SH_Dark/\" + sh_dark_java['filepaths']\n",
        "\n",
        "train_nsh_dark, val_nsh_dark, test_nsh_dark = \\\n",
        "              np.split(nsh_dark_java.sample(frac=1, random_state=42), \n",
        "                       [int(.8*len(nsh_dark_java)), int(.9*len(nsh_dark_java))])\n",
        "              \n",
        "train_sh_dark, val_sh_dark, test_sh_dark = \\\n",
        "              np.split(sh_dark_java.sample(frac=1, random_state=42), \n",
        "                       [int(.8*len(sh_dark_java)), int(.9*len(sh_dark_java))])\n",
        "\n",
        "train_nsh_light, val_nsh_light, test_nsh_light = \\\n",
        "              np.split(nsh_light_java.sample(frac=1, random_state=42), \n",
        "                       [int(.8*len(nsh_light_java)), int(.9*len(nsh_light_java))])\n",
        "              \n",
        "\n",
        "              \n",
        "train_sh_light, val_sh_light, test_sh_light = \\\n",
        "              np.split(sh_light_java.sample(frac=1, random_state=42), \n",
        "                       [int(.8*len(sh_light_java)), int(.9*len(sh_light_java))])\n",
        "              \n",
        "train_df_java = pd.concat([train_nsh_dark,train_sh_dark,train_nsh_light,train_sh_light], ignore_index=True)\n",
        "val_df_java = pd.concat([val_nsh_dark,val_sh_dark,val_nsh_light,val_sh_light], ignore_index=True)\n",
        "test_df_java = pd.concat([test_nsh_dark,test_sh_dark,test_nsh_light,test_sh_light], ignore_index=True)\n",
        "\n",
        "train_nsh_dark.readable = np.where(train_nsh_dark.average_score >= 3.5, 1, 0)\n",
        "val_nsh_dark.readable = np.where(val_nsh_dark.average_score >= 3.5, 1, 0)\n",
        "test_nsh_dark.readable = np.where(test_nsh_dark.average_score >= 3.5, 1, 0)\n",
        "\n",
        "train_sh_dark.readable = np.where(train_sh_dark.average_score >= 3.5, 1, 0)\n",
        "val_sh_dark.readable = np.where(val_sh_dark.average_score >= 3.5, 1, 0)\n",
        "test_sh_dark.readable = np.where(test_sh_dark.average_score >= 3.5, 1, 0)\n",
        "\n",
        "train_sh_light.readable = np.where(train_sh_light.average_score >= 3.5, 1, 0)\n",
        "val_sh_light.readable = np.where(val_sh_light.average_score >= 3.5, 1, 0)\n",
        "test_sh_light.readable = np.where(test_sh_light.average_score >= 3.5, 1, 0)\n",
        "\n",
        "train_nsh_light.readable = np.where(train_nsh_light.average_score >= 3.5, 1, 0)\n",
        "val_nsh_light.readable = np.where(val_nsh_light.average_score >= 3.5, 1, 0)\n",
        "test_nsh_light.readable = np.where(test_nsh_light.average_score >= 3.5, 1, 0)\n",
        "\n",
        "train_df_java.readable = np.where(train_df_java.average_score >= 3.5, 1, 0)\n",
        "val_df_java.readable = np.where(val_df_java.average_score >= 3.5, 1, 0)\n",
        "test_df_java.readable = np.where(test_df_java.average_score >= 3.5, 1, 0)"
      ],
      "metadata": {
        "id": "lNAr3HSb9sLg"
      },
      "execution_count": 13,
      "outputs": []
    },
    {
      "cell_type": "markdown",
      "source": [
        "#### Readability Threshold = 3"
      ],
      "metadata": {
        "id": "5daj3KRj-VtL"
      }
    },
    {
      "cell_type": "code",
      "source": [
        "train_df_java.readable = np.where(train_df_java.average_score >= 3, 1, 0)\n",
        "val_df_java.readable = np.where(val_df_java.average_score >= 3, 1, 0)\n",
        "test_df_java.readable = np.where(test_df_java.average_score >= 3, 1, 0)\n",
        "\n",
        "positive_labels = (train_df_java.readable.value_counts().to_list()[0], val_df_java.readable.value_counts().to_list()[0], test_df_java.readable.value_counts().to_list()[0])\n",
        "negative_labels = (train_df_java.readable.value_counts().to_list()[1], val_df_java.readable.value_counts().to_list()[1], test_df_java.readable.value_counts().to_list()[1])\n",
        "# Numbers of pairs of bars you want\n",
        "N = 3\n",
        "\n",
        "\n",
        "# Data on X-axis\n",
        "\n",
        "# Specify the values of blue bars (height)\n",
        "blue_bar = positive_labels\n",
        "# Specify the values of orange bars (height)\n",
        "orange_bar = negative_labels\n",
        "\n",
        "# Position of bars on x-axis\n",
        "ind = np.arange(N)\n",
        "\n",
        "# Figure size\n",
        "plt.figure(figsize=(10,5))\n",
        "\n",
        "# Width of a bar \n",
        "width = 0.3       \n",
        "\n",
        "# Plotting\n",
        "plt.bar(ind, blue_bar , width, label='Readable')\n",
        "plt.bar(ind + width, orange_bar, width, label='Unreadable')\n",
        "\n",
        "plt.xlabel('Dataset Split')\n",
        "plt.ylabel('Num Samples')\n",
        "plt.title('Dataset Distribution - Readability Threshold = 3')\n",
        "\n",
        "# xticks()\n",
        "# First argument - A list of positions at which ticks should be placed\n",
        "# Second argument -  A list of labels to place at the given locations\n",
        "plt.xticks(ind + width / 2, (\"train\", \"validation\", \"test\"))\n",
        "\n",
        "# Finding the best position for legends and putting it\n",
        "plt.legend(loc='best')\n",
        "plt.show()"
      ],
      "metadata": {
        "colab": {
          "base_uri": "https://localhost:8080/",
          "height": 350
        },
        "id": "oAMvvbo_8ks4",
        "outputId": "12a5bfa8-e8de-4ceb-df94-b67e52c031f3"
      },
      "execution_count": 14,
      "outputs": [
        {
          "output_type": "display_data",
          "data": {
            "text/plain": [
              "<Figure size 720x360 with 1 Axes>"
            ],
            "image/png": "[encoded data removed]"
          },
          "metadata": {
            "needs_background": "light"
          }
        }
      ]
    },
    {
      "cell_type": "markdown",
      "source": [
        "#### Readability Threshold = 3.5"
      ],
      "metadata": {
        "id": "dM6wm2Hz-bB5"
      }
    },
    {
      "cell_type": "code",
      "source": [
        "train_df_java.readable = np.where(train_df_java.average_score >= 3.5, 1, 0)\n",
        "val_df_java.readable = np.where(val_df_java.average_score >= 3.5, 1, 0)\n",
        "test_df_java.readable = np.where(test_df_java.average_score >= 3.5, 1, 0)\n",
        "\n",
        "#positive_labels = (train_df_java.readable.value_counts().to_list()[0], val_df_java.readable.value_counts().to_list()[0], test_df_java.readable.value_counts().to_list()[0])\n",
        "#negative_labels = (train_df_java.readable.value_counts().to_list()[1], val_df_java.readable.value_counts().to_list()[1], test_df_java.readable.value_counts().to_list()[1])\n",
        "positive_labels = (train_nsh_dark.readable.value_counts().to_list()[0], val_nsh_dark.readable.value_counts().to_list()[0], test_nsh_dark.readable.value_counts().to_list()[0])\n",
        "negative_labels = (train_nsh_dark.readable.value_counts().to_list()[1], val_nsh_dark.readable.value_counts().to_list()[1], test_nsh_dark.readable.value_counts().to_list()[1])\n",
        "\n",
        "# Numbers of pairs of bars you want\n",
        "N = 3\n",
        "\n",
        "\n",
        "# Data on X-axis\n",
        "\n",
        "# Specify the values of blue bars (height)\n",
        "blue_bar = positive_labels\n",
        "# Specify the values of orange bars (height)\n",
        "orange_bar = negative_labels\n",
        "\n",
        "# Position of bars on x-axis\n",
        "ind = np.arange(N)\n",
        "\n",
        "# Figure size\n",
        "plt.figure(figsize=(10,5))\n",
        "\n",
        "# Width of a bar \n",
        "width = 0.3       \n",
        "\n",
        "# Plotting\n",
        "plt.bar(ind, blue_bar , width, label='Readable')\n",
        "plt.bar(ind + width, orange_bar, width, label='Unreadable')\n",
        "\n",
        "plt.xlabel('Dataset Split')\n",
        "plt.ylabel('Num Samples')\n",
        "plt.title('Dataset Distribution -  (Java Only) - Readability Threshold = 3.5')\n",
        "\n",
        "# xticks()\n",
        "# First argument - A list of positions at which ticks should be placed\n",
        "# Second argument -  A list of labels to place at the given locations\n",
        "plt.xticks(ind + width / 2, (\"train\", \"validation\", \"test\"))\n",
        "\n",
        "# Finding the best position for legends and putting it\n",
        "plt.legend(loc='best')\n",
        "plt.show()"
      ],
      "metadata": {
        "colab": {
          "base_uri": "https://localhost:8080/",
          "height": 350
        },
        "id": "6O03g6hx-K6r",
        "outputId": "a21c8207-c53d-4437-d933-895936b5152a"
      },
      "execution_count": 15,
      "outputs": [
        {
          "output_type": "display_data",
          "data": {
            "text/plain": [
              "<Figure size 720x360 with 1 Axes>"
            ],
            "image/png": "[encoded data removed]"
          },
          "metadata": {
            "needs_background": "light"
          }
        }
      ]
    },
    {
      "cell_type": "markdown",
      "source": [
        "### Dataset Preprocessing  - Complete "
      ],
      "metadata": {
        "id": "nRjd7dEp5sCf"
      }
    },
    {
      "cell_type": "code",
      "source": [
        "nsh_dark_total = pd.read_csv('MergedTotal_NSH_Dark/csv/merged_total.csv')\n",
        "nsh_light_total = pd.read_csv('MergedTotal_NSH_Light/csv/merged_total.csv')\n",
        "sh_light_total = pd.read_csv('MergedTotal_SH_Light/csv/merged_total.csv')\n",
        "sh_dark_total = pd.read_csv('MergedTotal_SH_Dark/csv/merged_total.csv')\n",
        "\n",
        "nsh_dark_total['filepaths'] = \"MergedTotal_NSH_Dark/\" + nsh_dark_total['filepaths']\n",
        "nsh_light_total['filepaths'] = \"MergedTotal_NSH_Light/\" + nsh_light_total['filepaths']\n",
        "sh_light_total['filepaths'] = \"MergedTotal_SH_Light/\" + sh_light_total['filepaths']\n",
        "sh_dark_total['filepaths'] = \"MergedTotal_SH_Dark/\" + sh_dark_total['filepaths']\n",
        "\n",
        "train_nsh_dark, val_nsh_dark, test_nsh_dark = \\\n",
        "              np.split(nsh_dark_total.sample(frac=1, random_state=42), \n",
        "                       [int(.8*len(nsh_dark_total)), int(.9*len(nsh_dark_total))])\n",
        "              \n",
        "train_sh_dark, val_sh_dark, test_sh_dark = \\\n",
        "              np.split(sh_dark_total.sample(frac=1, random_state=42), \n",
        "                       [int(.8*len(sh_dark_total)), int(.9*len(sh_dark_total))])\n",
        "\n",
        "train_nsh_light, val_nsh_light, test_nsh_light = \\\n",
        "              np.split(nsh_light_total.sample(frac=1, random_state=42), \n",
        "                       [int(.8*len(nsh_light_total)), int(.9*len(nsh_light_total))])\n",
        "              \n",
        "train_sh_light, val_sh_light, test_sh_light = \\\n",
        "              np.split(sh_light_total.sample(frac=1, random_state=42), \n",
        "                       [int(.8*len(sh_light_total)), int(.9*len(sh_light_total))])\n",
        "              \n",
        "train_df = pd.concat([train_nsh_dark,train_sh_dark,train_nsh_light,train_sh_light], ignore_index=True)\n",
        "val_df = pd.concat([val_nsh_dark,val_sh_dark,val_nsh_light,val_sh_light], ignore_index=True)\n",
        "test_df = pd.concat([test_nsh_dark,test_sh_dark,test_nsh_light,test_sh_light], ignore_index=True)\n",
        "\n",
        "train_nsh_dark.readable = np.where(train_nsh_dark.average_score >= 3.5, 1, 0)\n",
        "val_nsh_dark.readable = np.where(val_nsh_dark.average_score >= 3.5, 1, 0)\n",
        "test_nsh_dark.readable = np.where(test_nsh_dark.average_score >= 3.5, 1, 0)\n",
        "\n",
        "train_sh_dark.readable = np.where(train_sh_dark.average_score >= 3.5, 1, 0)\n",
        "val_sh_dark.readable = np.where(val_sh_dark.average_score >= 3.5, 1, 0)\n",
        "test_sh_dark.readable = np.where(test_sh_dark.average_score >= 3.5, 1, 0)\n",
        "\n",
        "train_sh_light.readable = np.where(train_sh_light.average_score >= 3.5, 1, 0)\n",
        "val_sh_light.readable = np.where(val_sh_light.average_score >= 3.5, 1, 0)\n",
        "test_sh_light.readable = np.where(test_sh_light.average_score >= 3.5, 1, 0)\n",
        "\n",
        "train_nsh_light.readable = np.where(train_nsh_light.average_score >= 3.5, 1, 0)\n",
        "val_nsh_light.readable = np.where(val_nsh_light.average_score >= 3.5, 1, 0)\n",
        "test_nsh_light.readable = np.where(test_nsh_light.average_score >= 3.5, 1, 0)"
      ],
      "metadata": {
        "id": "a2KUASBND0kS"
      },
      "execution_count": 18,
      "outputs": []
    },
    {
      "cell_type": "markdown",
      "source": [
        "#### Readability Threshold = 3"
      ],
      "metadata": {
        "id": "U_WCgIB-zBL4"
      }
    },
    {
      "cell_type": "code",
      "source": [
        "train_df.readable = np.where(train_df.average_score >= 3, 1, 0)\n",
        "val_df.readable = np.where(val_df.average_score >= 3, 1, 0)\n",
        "test_df.readable = np.where(test_df.average_score >= 3, 1, 0)\n",
        "\n",
        "positive_labels = (train_df.readable.value_counts().to_list()[0], val_df.readable.value_counts().to_list()[0], test_df.readable.value_counts().to_list()[0])\n",
        "negative_labels = (train_df.readable.value_counts().to_list()[1], val_df.readable.value_counts().to_list()[1], test_df.readable.value_counts().to_list()[1])\n",
        "# Numbers of pairs of bars you want\n",
        "N = 3\n",
        "\n",
        "\n",
        "# Data on X-axis\n",
        "\n",
        "# Specify the values of blue bars (height)\n",
        "blue_bar = positive_labels\n",
        "# Specify the values of orange bars (height)\n",
        "orange_bar = negative_labels\n",
        "\n",
        "# Position of bars on x-axis\n",
        "ind = np.arange(N)\n",
        "\n",
        "# Figure size\n",
        "plt.figure(figsize=(10,5))\n",
        "\n",
        "# Width of a bar \n",
        "width = 0.3       \n",
        "\n",
        "# Plotting\n",
        "plt.bar(ind, blue_bar , width, label='Readable')\n",
        "plt.bar(ind + width, orange_bar, width, label='Unreadable')\n",
        "\n",
        "plt.xlabel('Dataset Split')\n",
        "plt.ylabel('Num Samples')\n",
        "plt.title('Dataset Distribution - Readability Threshold = 3')\n",
        "\n",
        "# xticks()\n",
        "# First argument - A list of positions at which ticks should be placed\n",
        "# Second argument -  A list of labels to place at the given locations\n",
        "plt.xticks(ind + width / 2, (\"train\", \"validation\", \"test\"))\n",
        "\n",
        "# Finding the best position for legends and putting it\n",
        "plt.legend(loc='best')\n",
        "plt.show()"
      ],
      "metadata": {
        "colab": {
          "base_uri": "https://localhost:8080/",
          "height": 350
        },
        "id": "A9yeUfuFyfm7",
        "outputId": "bb109aad-098e-4d1b-93c3-815fcf5a86be"
      },
      "execution_count": 19,
      "outputs": [
        {
          "output_type": "display_data",
          "data": {
            "text/plain": [
              "<Figure size 720x360 with 1 Axes>"
            ],
            "image/png": "[encoded data removed]"
          },
          "metadata": {
            "needs_background": "light"
          }
        }
      ]
    },
    {
      "cell_type": "markdown",
      "source": [
        "#### Readability Threshold = 3.5"
      ],
      "metadata": {
        "id": "thl5Xj6IzFVw"
      }
    },
    {
      "cell_type": "code",
      "source": [
        "train_df.readable = np.where(train_df.average_score >= 3.5, 1, 0)\n",
        "val_df.readable = np.where(val_df.average_score >= 3.5, 1, 0)\n",
        "test_df.readable = np.where(test_df.average_score >= 3.5, 1, 0)\n",
        "\n",
        "#positive_labels = (train_df.readable.value_counts().to_list()[0], val_df.readable.value_counts().to_list()[0], test_df.readable.value_counts().to_list()[0])\n",
        "#negative_labels = (train_df.readable.value_counts().to_list()[1], val_df.readable.value_counts().to_list()[1], test_df.readable.value_counts().to_list()[1])\n",
        "positive_labels = (train_nsh_dark.readable.value_counts().to_list()[0], val_nsh_dark.readable.value_counts().to_list()[0], test_nsh_dark.readable.value_counts().to_list()[0])\n",
        "negative_labels = (train_nsh_dark.readable.value_counts().to_list()[1], val_nsh_dark.readable.value_counts().to_list()[1], test_nsh_dark.readable.value_counts().to_list()[1])\n",
        "\n",
        "\n",
        "# Numbers of pairs of bars you want\n",
        "N = 3\n",
        "\n",
        "\n",
        "# Data on X-axis\n",
        "\n",
        "# Specify the values of blue bars (height)\n",
        "blue_bar = positive_labels\n",
        "# Specify the values of orange bars (height)\n",
        "orange_bar = negative_labels\n",
        "\n",
        "# Position of bars on x-axis\n",
        "ind = np.arange(N)\n",
        "\n",
        "# Figure size\n",
        "plt.figure(figsize=(10,5))\n",
        "\n",
        "# Width of a bar \n",
        "width = 0.3       \n",
        "\n",
        "# Plotting\n",
        "plt.bar(ind, blue_bar , width, label='Readable')\n",
        "plt.bar(ind + width, orange_bar, width, label='Unreadable')\n",
        "\n",
        "plt.xlabel('Dataset Split')\n",
        "plt.ylabel('Num Samples')\n",
        "plt.title('Dataset Distribution - (Python + CUDA + Java) - Readability Threshold = 3.5')\n",
        "\n",
        "# xticks()\n",
        "# First argument - A list of positions at which ticks should be placed\n",
        "# Second argument -  A list of labels to place at the given locations\n",
        "plt.xticks(ind + width / 2, (\"train\", \"validation\", \"test\"))\n",
        "\n",
        "# Finding the best position for legends and putting it\n",
        "plt.legend(loc='best')\n",
        "plt.show()"
      ],
      "metadata": {
        "colab": {
          "base_uri": "https://localhost:8080/",
          "height": 350
        },
        "id": "c66wbmnX2zyl",
        "outputId": "147b2353-511d-4fc2-a5ec-29682f1c9667"
      },
      "execution_count": 20,
      "outputs": [
        {
          "output_type": "display_data",
          "data": {
            "text/plain": [
              "<Figure size 720x360 with 1 Axes>"
            ],
            "image/png": "[encoded data removed]"
          },
          "metadata": {
            "needs_background": "light"
          }
        }
      ]
    },
    {
      "cell_type": "markdown",
      "source": [
        "## Image Preprocessing and Dataset Creation"
      ],
      "metadata": {
        "id": "8TMJzUgBGsLN"
      }
    },
    {
      "cell_type": "code",
      "source": [
        "# generate training,testing and validation batches\n",
        "\n",
        "#train_datagen = ImageDataGenerator(\n",
        "#        rescale=1./255,\n",
        "#        rotation_range=20,\n",
        "#        width_shift_range=0.20,\n",
        "#        height_shift_range=0.20,\n",
        "#        zoom_range = 0.2,\n",
        "#        horizontal_flip=True)\n",
        "\n",
        "train_datagen = ImageDataGenerator(\n",
        "        rescale=1./255)\n",
        "\n",
        "validation_datagen = ImageDataGenerator(rescale=1./255)\n",
        "test_datagen = ImageDataGenerator(rescale=1./255)\n",
        "\n",
        "train_generator=train_datagen.flow_from_dataframe(\n",
        "dataframe=train_sh_dark,\n",
        "#has_ext=Fals\n",
        "x_col='filepaths',\n",
        "y_col='readable',\n",
        "batch_size=64,\n",
        "seed=6,\n",
        "shuffle=False,\n",
        "#color_mode=\"rgb\",\n",
        "class_mode=\"raw\",\n",
        "#validate_filenames=True,\n",
        "target_size=(224,224))\n",
        "\n",
        "\n",
        "validation_generator=validation_datagen.flow_from_dataframe(\n",
        "dataframe=val_sh_dark,\n",
        "#has_ext=False,\n",
        "x_col='filepaths',\n",
        "y_col='readable',\n",
        "batch_size=64,\n",
        "seed=6,\n",
        "shuffle=False,\n",
        "#color_mode=\"rgb\",\n",
        "class_mode=\"raw\",\n",
        "#validate_filenames=True,\n",
        "target_size=(224,224))\n",
        "\n",
        "test_generator=test_datagen.flow_from_dataframe(\n",
        "dataframe=test_df_java,\n",
        "#has_ext=False,\n",
        "x_col='filepaths',\n",
        "y_col='readable',\n",
        "batch_size=64,\n",
        "seed=6,\n",
        "shuffle=False,\n",
        "#color_mode=\"rgb\",\n",
        "class_mode=\"raw\",\n",
        "#validate_filenames=True,\n",
        "target_size=(224,224))"
      ],
      "metadata": {
        "colab": {
          "base_uri": "https://localhost:8080/"
        },
        "id": "-rZoWeIvBFe-",
        "outputId": "bb625cb1-bb25-4349-ae69-470c26a3ffc8"
      },
      "execution_count": 21,
      "outputs": [
        {
          "output_type": "stream",
          "name": "stdout",
          "text": [
            "Found 527 validated image filenames.\n",
            "Found 66 validated image filenames.\n",
            "Found 172 validated image filenames.\n"
          ]
        },
        {
          "output_type": "stream",
          "name": "stderr",
          "text": [
            "/usr/local/lib/python3.7/dist-packages/keras_preprocessing/image/dataframe_iterator.py:282: UserWarning: Found 1 invalid image filename(s) in x_col=\"filepaths\". These filename(s) will be ignored.\n",
            "  .format(n_invalid, x_col)\n"
          ]
        }
      ]
    },
    {
      "cell_type": "markdown",
      "source": [
        "## Building and Tuning All considered models (ResNet50, EfficientNet, VGG16)\n"
      ],
      "metadata": {
        "id": "BR0C12iYG3Aw"
      }
    },
    {
      "cell_type": "markdown",
      "source": [
        "#### ResNet50"
      ],
      "metadata": {
        "id": "uMlgMoRjJ3Gq"
      }
    },
    {
      "cell_type": "code",
      "source": [
        "model = ResNet50(\n",
        "    include_top=True,\n",
        "    weights=\"imagenet\",\n",
        "    #input_tensor=None,\n",
        "    input_shape=(224,224,3)\n",
        ")\n",
        "new_input = model.input\n",
        "hidden_layer = model.layers[-2].output\n",
        "\n",
        "new_model = Model(inputs=new_input, outputs=hidden_layer)\n",
        "\n",
        "x = new_model.output\n",
        "x = Flatten()(x)\n",
        "x = Dense(256, activation='relu')(x)\n",
        "x = Dense(128, activation='relu')(x)\n",
        "\n",
        "#x = Dense(2048, activation='relu')(x)\n",
        "#x = Dense(1024, activation='relu')(x)\n",
        "#x = Dense(512, activation='relu')(x)\n",
        "\n",
        "preds = Dense(1, activation = 'sigmoid')(x)\n",
        "model = Model(inputs=new_input, outputs=preds)\n",
        "# model.summary()"
      ],
      "metadata": {
        "colab": {
          "base_uri": "https://localhost:8080/"
        },
        "id": "TGzv7nwCJ6si",
        "outputId": "d5687df3-83b6-4cf6-b3d2-2670da6aaa2c"
      },
      "execution_count": 22,
      "outputs": [
        {
          "output_type": "stream",
          "name": "stdout",
          "text": [
            "Downloading data from https://storage.googleapis.com/tensorflow/keras-applications/resnet/resnet50_weights_tf_dim_ordering_tf_kernels.h5\n",
            "102973440/102967424 [==============================] - 1s 0us/step\n",
            "102981632/102967424 [==============================] - 1s 0us/step\n"
          ]
        }
      ]
    },
    {
      "cell_type": "markdown",
      "source": [
        "#### Custom Model\n",
        "\n"
      ],
      "metadata": {
        "id": "UVkmNAFLWh1K"
      }
    },
    {
      "cell_type": "code",
      "source": [
        "img_width= 600\n",
        "img_height= 600\n",
        "#batch_size= 32\n",
        "\n",
        "from tensorflow.keras.models import Sequential\n",
        "from tensorflow.keras.layers import Conv2D, MaxPooling2D, Input\n",
        "from tensorflow.keras.layers import Activation, Dropout, Flatten, Dense\n",
        "\n",
        "inp = Input(shape=(img_width, img_height, 3))\n",
        "x = Conv2D(32, (3, 3), activation='relu')(inp)\n",
        "x = MaxPooling2D(pool_size=(2, 2))(x)\n",
        "\n",
        "x = Conv2D(32, (3, 3), activation='relu')(x)\n",
        "x = MaxPooling2D(pool_size=(2, 2))(x)\n",
        "\n",
        "x = Conv2D(64, (3, 3), activation='relu')(x)\n",
        "x = MaxPooling2D(pool_size=(2, 2))(x)\n",
        "\n",
        "x = Flatten()(x)\n",
        "x = Dense(64, activation='relu')(x)\n",
        "x = Dropout(0.5)(x)\n",
        "\n",
        "out = Dense(1, activation='sigmoid')(x)\n",
        "model = Model(inputs=inp, outputs=out)\n",
        "model.summary()"
      ],
      "metadata": {
        "id": "toHeFyOPfyLP"
      },
      "execution_count": null,
      "outputs": []
    },
    {
      "cell_type": "markdown",
      "source": [
        "#### EfficientNet_V2"
      ],
      "metadata": {
        "id": "rajaMy3oP9nY"
      }
    },
    {
      "cell_type": "code",
      "source": [
        "model = EfficientNetV2B2(\n",
        "    include_top=False,\n",
        "    weights=\"imagenet\",\n",
        "    #input_tensor=None,\n",
        "    input_shape=(260,260,3),\n",
        "    include_preprocessing=True,\n",
        ")\n",
        "\n",
        "model.trainable = False\n",
        "inputs = model.input\n",
        "\n",
        "x = layers.GlobalAveragePooling2D(name=\"avg_pool\")(model.output)\n",
        "x = layers.BatchNormalization()(x)\n",
        "\n",
        "top_dropout_rate = 0.2\n",
        "x = layers.Dropout(top_dropout_rate, name=\"top_dropout\")(x)\n",
        "outputs = layers.Dense(1, activation=\"sigmoid\", name=\"pred\")(x)\n",
        "\n",
        "# Compile\n",
        "model = tf.keras.Model(inputs, outputs, name=\"EfficientNet\")"
      ],
      "metadata": {
        "id": "YX1GIE7eQAXJ"
      },
      "execution_count": null,
      "outputs": []
    },
    {
      "cell_type": "code",
      "source": [
        "def unfreeze_model(model):\n",
        "    # We unfreeze the top 20 layers while leaving BatchNorm layers frozen\n",
        "    for layer in model.layers[-20:]:\n",
        "        if not isinstance(layer, layers.BatchNormalization):\n",
        "            layer.trainable = True\n",
        "\n",
        "unfreeze_model(model)\n"
      ],
      "metadata": {
        "id": "Wka3y4fhZCSf"
      },
      "execution_count": null,
      "outputs": []
    },
    {
      "cell_type": "markdown",
      "source": [
        "#### VGG-16 Model (ImageNet)"
      ],
      "metadata": {
        "id": "8ROQEUy9Poi3"
      }
    },
    {
      "cell_type": "code",
      "source": [
        "model = VGG16(weights='imagenet',include_top=True, input_shape=(224,224,3)) #ImageNet Weights\n",
        "#model.summary()"
      ],
      "metadata": {
        "id": "UAw5Bi3J0crf"
      },
      "execution_count": null,
      "outputs": []
    },
    {
      "cell_type": "markdown",
      "source": [
        "#### VGG-16 Model RVL-CDIP"
      ],
      "metadata": {
        "id": "BfLcagxUPsVb"
      }
    },
    {
      "cell_type": "code",
      "source": [
        "model = VGG16(weights=None,include_top=True, classes=16, input_shape=(224,224,3))\n",
        "#model.summary()\n"
      ],
      "metadata": {
        "id": "c6QCcqEsI2Pp"
      },
      "execution_count": null,
      "outputs": []
    },
    {
      "cell_type": "code",
      "source": [
        "model.load_weights('/content/weights/pretrained_weights_converted.h5')"
      ],
      "metadata": {
        "id": "HwkwfPKvKdpD"
      },
      "execution_count": null,
      "outputs": []
    },
    {
      "cell_type": "code",
      "source": [
        "#model = VGG16(weights='imagenet',include_top=False, input_shape=(224,224,3))\n",
        "new_input = model.input\n",
        "hidden_layer = model.layers[-2].output\n",
        "\n",
        "new_model = Model(inputs=new_input, outputs=hidden_layer)\n",
        "\n",
        "x = new_model.output\n",
        "#x = Flatten()(x)\n",
        "#x = Dense(4096, activation='relu')(x)\n",
        "#x = Dense(4096, activation='relu')(x)\n",
        "\n",
        "#x = Dense(2048, activation='relu')(x)\n",
        "#x = Dense(1024, activation='relu')(x)\n",
        "#x = Dense(512, activation='relu')(x)\n",
        "\n",
        "preds = Dense(1, activation = 'sigmoid')(x)\n",
        "model=Model(inputs=new_model.input, outputs=preds)\n",
        "#model.summary()"
      ],
      "metadata": {
        "id": "1yg-pEMQegOw"
      },
      "execution_count": null,
      "outputs": []
    },
    {
      "cell_type": "markdown",
      "source": [
        "#### Layers Trainable"
      ],
      "metadata": {
        "id": "g7RK9MIVPxtj"
      }
    },
    {
      "cell_type": "code",
      "source": [
        "for layer in model.layers[:-1]:\n",
        "    layer.trainable = True\n",
        " \n",
        "# Check the trainable status of the individual layers\n",
        "#for layer in model.layers:\n",
        "#    print(layer, layer.trainable)"
      ],
      "metadata": {
        "id": "0_SFeuwjI1eN"
      },
      "execution_count": null,
      "outputs": []
    },
    {
      "cell_type": "code",
      "source": [
        "for layer in model.layers[:-3]:\n",
        "    layer.trainable = False\n",
        " \n",
        "# Check the trainable status of the individual layers\n",
        "#for layer in model.layers:\n",
        "#    print(layer, layer.trainable)"
      ],
      "metadata": {
        "id": "x92_ic9g7vzs"
      },
      "execution_count": null,
      "outputs": []
    },
    {
      "cell_type": "markdown",
      "source": [
        "#### Callbacks"
      ],
      "metadata": {
        "id": "WKhnqsonP0Qv"
      }
    },
    {
      "cell_type": "code",
      "source": [
        "#checkpoint_filepath = '/content/weights/weights-{epoch:02d}-{val_auc:.2f}.h5'\n",
        "weights_filepath = '/content/weights/'\n",
        "#exp_num = 1\n",
        "checkpoint_filepath = '/content/weights/exp-83-{epoch:02d}-{val_auc:.2f}.h5'\n",
        "\n",
        "Path(\"/content/logs\").mkdir(parents=True, exist_ok=True)\n",
        "\n",
        "csv_filepath = '/content/logs/'\n",
        "filename = 'exp-83.csv'\n",
        "csv_logger = tf.keras.callbacks.CSVLogger(\n",
        "   csv_filepath + filename, separator=',', append=True\n",
        ")\n",
        "\n",
        "reduce_lr = ReduceLROnPlateau(monitor='val_auc', factor=0.1,\n",
        "                              patience=10, min_lr=0.000001, mode='max')\n",
        "model_checkpoint_callback = tf.keras.callbacks.ModelCheckpoint(\n",
        "    filepath=checkpoint_filepath,\n",
        "    save_weights_only=True,\n",
        "    monitor='val_auc',\n",
        "    mode='max',\n",
        "    save_best_only=True)"
      ],
      "metadata": {
        "id": "5Y57jR9RH47a"
      },
      "execution_count": null,
      "outputs": []
    },
    {
      "cell_type": "markdown",
      "source": [
        "#### Compile and Train"
      ],
      "metadata": {
        "id": "V34XTswvP3IU"
      }
    },
    {
      "cell_type": "code",
      "source": [
        "#optimizer = tf.keras.optimizers.RMSprop(lr=0.0001)\n",
        "optimizer = tf.keras.optimizers.Adam(lr=0.001)\n",
        "\n",
        "#optimizer = tfa.optimizers.AdamW(learning_rate=0.0001, weight_decay=0.004)\n",
        "model.compile(loss='binary_crossentropy',\n",
        "              optimizer=optimizer,\n",
        "              metrics=['acc', tf.keras.metrics.AUC(name='auc')])"
      ],
      "metadata": {
        "colab": {
          "base_uri": "https://localhost:8080/"
        },
        "id": "n6xWhgL1BMx4",
        "outputId": "e66a7761-eb2e-46c5-f418-8b758e22b26e"
      },
      "execution_count": null,
      "outputs": [
        {
          "output_type": "stream",
          "name": "stderr",
          "text": [
            "/usr/local/lib/python3.7/dist-packages/keras/optimizer_v2/adam.py:105: UserWarning: The `lr` argument is deprecated, use `learning_rate` instead.\n",
            "  super(Adam, self).__init__(name, **kwargs)\n"
          ]
        }
      ]
    },
    {
      "cell_type": "code",
      "source": [
        "history = model.fit(\n",
        "      train_generator,\n",
        "#      steps_per_epoch=1,\n",
        "#      steps_per_epoch=train_generator.samples/train_generator.batch_size,\n",
        "      epochs=30,\n",
        "      #initial_epoch = 30,\n",
        "      validation_data=validation_generator,\n",
        "#      validation_steps=validation_generator.samples/validation_generator.batch_size,\n",
        "      callbacks=[model_checkpoint_callback, csv_logger, reduce_lr])"
      ],
      "metadata": {
        "id": "6gh61PZVYJhG",
        "colab": {
          "base_uri": "https://localhost:8080/"
        },
        "outputId": "536da44f-ba72-4099-9f1a-c8a1646c9638"
      },
      "execution_count": null,
      "outputs": [
        {
          "output_type": "stream",
          "name": "stdout",
          "text": [
            "Epoch 1/30\n",
            "6/6 [==============================] - 7s 904ms/step - loss: 20.4014 - acc: 0.5149 - auc: 0.5546 - val_loss: 0.7965 - val_acc: 0.4524 - val_auc: 0.6281 - lr: 0.0010\n",
            "Epoch 2/30\n",
            "6/6 [==============================] - 3s 478ms/step - loss: 0.9216 - acc: 0.5089 - auc: 0.4441 - val_loss: 0.7521 - val_acc: 0.5476 - val_auc: 0.4588 - lr: 0.0010\n",
            "Epoch 3/30\n",
            "6/6 [==============================] - 4s 775ms/step - loss: 0.7811 - acc: 0.5268 - auc: 0.4964 - val_loss: 0.7457 - val_acc: 0.4524 - val_auc: 0.6808 - lr: 0.0010\n",
            "Epoch 4/30\n",
            "6/6 [==============================] - 5s 893ms/step - loss: 0.7237 - acc: 0.5089 - auc: 0.4359 - val_loss: 0.6896 - val_acc: 0.5476 - val_auc: 0.7380 - lr: 0.0010\n",
            "Epoch 5/30\n",
            "6/6 [==============================] - 3s 641ms/step - loss: 0.7096 - acc: 0.4911 - auc: 0.4572 - val_loss: 0.6937 - val_acc: 0.4524 - val_auc: 0.7265 - lr: 0.0010\n",
            "Epoch 6/30\n",
            "6/6 [==============================] - 4s 570ms/step - loss: 0.7377 - acc: 0.5089 - auc: 0.4693 - val_loss: 0.6966 - val_acc: 0.4524 - val_auc: 0.7117 - lr: 0.0010\n",
            "Epoch 7/30\n",
            "6/6 [==============================] - 4s 575ms/step - loss: 0.7295 - acc: 0.5030 - auc: 0.4850 - val_loss: 0.6859 - val_acc: 0.5476 - val_auc: 0.7002 - lr: 0.0010\n",
            "Epoch 8/30\n",
            "6/6 [==============================] - 5s 922ms/step - loss: 0.7102 - acc: 0.4851 - auc: 0.4907 - val_loss: 0.7098 - val_acc: 0.4524 - val_auc: 0.7746 - lr: 0.0010\n",
            "Epoch 9/30\n",
            "6/6 [==============================] - 3s 499ms/step - loss: 0.7048 - acc: 0.4583 - auc: 0.5081 - val_loss: 0.6812 - val_acc: 0.5952 - val_auc: 0.7632 - lr: 0.0010\n",
            "Epoch 10/30\n",
            "6/6 [==============================] - 3s 521ms/step - loss: 0.6947 - acc: 0.4821 - auc: 0.5871 - val_loss: 0.6851 - val_acc: 0.4524 - val_auc: 0.7620 - lr: 0.0010\n",
            "Epoch 11/30\n",
            "6/6 [==============================] - 5s 928ms/step - loss: 0.7059 - acc: 0.5119 - auc: 0.5215 - val_loss: 0.6753 - val_acc: 0.6429 - val_auc: 0.7769 - lr: 0.0010\n",
            "Epoch 12/30\n",
            "6/6 [==============================] - 5s 869ms/step - loss: 0.7112 - acc: 0.5357 - auc: 0.5669 - val_loss: 0.6952 - val_acc: 0.4524 - val_auc: 0.7826 - lr: 0.0010\n",
            "Epoch 13/30\n",
            "6/6 [==============================] - 3s 662ms/step - loss: 0.7260 - acc: 0.5030 - auc: 0.5225 - val_loss: 0.6694 - val_acc: 0.5476 - val_auc: 0.7471 - lr: 0.0010\n",
            "Epoch 14/30\n",
            "6/6 [==============================] - 4s 576ms/step - loss: 0.6898 - acc: 0.5268 - auc: 0.5787 - val_loss: 0.6875 - val_acc: 0.4524 - val_auc: 0.7792 - lr: 0.0010\n",
            "Epoch 15/30\n",
            "6/6 [==============================] - 4s 712ms/step - loss: 0.6957 - acc: 0.5238 - auc: 0.5686 - val_loss: 0.6460 - val_acc: 0.7143 - val_auc: 0.7517 - lr: 0.0010\n",
            "Epoch 16/30\n",
            "6/6 [==============================] - 4s 585ms/step - loss: 0.7028 - acc: 0.5357 - auc: 0.5712 - val_loss: 0.6560 - val_acc: 0.6190 - val_auc: 0.7529 - lr: 0.0010\n",
            "Epoch 17/30\n",
            "6/6 [==============================] - 4s 581ms/step - loss: 0.6611 - acc: 0.6071 - auc: 0.6626 - val_loss: 0.6304 - val_acc: 0.7143 - val_auc: 0.7391 - lr: 0.0010\n",
            "Epoch 18/30\n",
            "6/6 [==============================] - 3s 607ms/step - loss: 0.6353 - acc: 0.6429 - auc: 0.7575 - val_loss: 0.6373 - val_acc: 0.5714 - val_auc: 0.7105 - lr: 0.0010\n",
            "Epoch 19/30\n",
            "6/6 [==============================] - 3s 571ms/step - loss: 0.6113 - acc: 0.6905 - auc: 0.7816 - val_loss: 0.6181 - val_acc: 0.7143 - val_auc: 0.7094 - lr: 0.0010\n",
            "Epoch 20/30\n",
            "6/6 [==============================] - 3s 623ms/step - loss: 0.6024 - acc: 0.6875 - auc: 0.7440 - val_loss: 0.6071 - val_acc: 0.6667 - val_auc: 0.7059 - lr: 0.0010\n",
            "Epoch 21/30\n",
            "6/6 [==============================] - 3s 519ms/step - loss: 0.5541 - acc: 0.7083 - auc: 0.7998 - val_loss: 0.6215 - val_acc: 0.5952 - val_auc: 0.7426 - lr: 0.0010\n",
            "Epoch 22/30\n",
            "6/6 [==============================] - 3s 535ms/step - loss: 0.5920 - acc: 0.6875 - auc: 0.7518 - val_loss: 0.8289 - val_acc: 0.5714 - val_auc: 0.7460 - lr: 0.0010\n",
            "Epoch 23/30\n",
            "6/6 [==============================] - 3s 516ms/step - loss: 0.6540 - acc: 0.6310 - auc: 0.8374 - val_loss: 0.5902 - val_acc: 0.6429 - val_auc: 0.7437 - lr: 1.0000e-04\n",
            "Epoch 24/30\n",
            "6/6 [==============================] - 3s 553ms/step - loss: 0.5295 - acc: 0.7321 - auc: 0.8258 - val_loss: 0.6427 - val_acc: 0.6667 - val_auc: 0.7414 - lr: 1.0000e-04\n",
            "Epoch 25/30\n",
            "6/6 [==============================] - 3s 628ms/step - loss: 0.5303 - acc: 0.7351 - auc: 0.8374 - val_loss: 0.5894 - val_acc: 0.6667 - val_auc: 0.7414 - lr: 1.0000e-04\n",
            "Epoch 26/30\n",
            "6/6 [==============================] - 3s 530ms/step - loss: 0.5030 - acc: 0.7530 - auc: 0.8454 - val_loss: 0.6100 - val_acc: 0.6429 - val_auc: 0.7437 - lr: 1.0000e-04\n",
            "Epoch 27/30\n",
            "6/6 [==============================] - 3s 514ms/step - loss: 0.5121 - acc: 0.7411 - auc: 0.8499 - val_loss: 0.5960 - val_acc: 0.6429 - val_auc: 0.7460 - lr: 1.0000e-04\n",
            "Epoch 28/30\n",
            "6/6 [==============================] - 3s 610ms/step - loss: 0.4935 - acc: 0.7649 - auc: 0.8497 - val_loss: 0.5956 - val_acc: 0.6667 - val_auc: 0.7437 - lr: 1.0000e-04\n",
            "Epoch 29/30\n",
            "6/6 [==============================] - 3s 604ms/step - loss: 0.4949 - acc: 0.7708 - auc: 0.8512 - val_loss: 0.5917 - val_acc: 0.6667 - val_auc: 0.7460 - lr: 1.0000e-04\n",
            "Epoch 30/30\n",
            "6/6 [==============================] - 3s 524ms/step - loss: 0.4955 - acc: 0.7530 - auc: 0.8470 - val_loss: 0.5967 - val_acc: 0.6429 - val_auc: 0.7506 - lr: 1.0000e-04\n"
          ]
        }
      ]
    },
    {
      "cell_type": "code",
      "source": [
        "#np.max(history.history['val_auc'])"
      ],
      "metadata": {
        "colab": {
          "base_uri": "https://localhost:8080/"
        },
        "id": "DIhBAoYUsHXY",
        "outputId": "e8d75418-3e0a-44b0-b632-841eb5876c07"
      },
      "execution_count": null,
      "outputs": [
        {
          "output_type": "execute_result",
          "data": {
            "text/plain": [
              "0.7962962985038757"
            ]
          },
          "metadata": {},
          "execution_count": 24
        }
      ]
    },
    {
      "cell_type": "markdown",
      "source": [
        "#### Evaluate"
      ],
      "metadata": {
        "id": "yfr1SV40P5U2"
      }
    },
    {
      "cell_type": "code",
      "source": [
        "#best_val_scores.append(np.max(history.history['val_acc']))\n",
        "load_filepath = weights_filepath + 'exp-13-03-0.85.h5'\n",
        "model.load_weights(load_filepath)\n",
        "\n",
        "model.evaluate(test_generator)"
      ],
      "metadata": {
        "colab": {
          "base_uri": "https://localhost:8080/"
        },
        "id": "iSqzbn52YJhH",
        "outputId": "b466021e-74fd-484b-fb55-09c12595c0c9"
      },
      "execution_count": null,
      "outputs": [
        {
          "output_type": "stream",
          "name": "stdout",
          "text": [
            "3/3 [==============================] - 2s 355ms/step - loss: 0.8436 - acc: 0.7035 - auc: 0.7788\n"
          ]
        },
        {
          "output_type": "execute_result",
          "data": {
            "text/plain": [
              "[0.8436097502708435, 0.7034883499145508, 0.7788195013999939]"
            ]
          },
          "metadata": {},
          "execution_count": 260
        }
      ]
    },
    {
      "cell_type": "code",
      "source": [
        "plt.plot(history.history['loss'])\n",
        "plt.plot(history.history['val_loss'])\n",
        "plt.title('model loss')\n",
        "plt.ylabel('loss')\n",
        "plt.xlabel('epoch')\n",
        "plt.legend(['train', 'val'], loc='upper left')\n",
        "plt.show()"
      ],
      "metadata": {
        "id": "RK5QBP_cYJhH"
      },
      "execution_count": null,
      "outputs": []
    },
    {
      "cell_type": "code",
      "source": [
        "plt.plot(history.history['acc'])\n",
        "plt.plot(history.history['val_acc'])\n",
        "plt.title('model accuracy')\n",
        "plt.ylabel('accuracy')\n",
        "plt.xlabel('epoch')\n",
        "plt.legend(['train', 'val'], loc='upper left')\n",
        "plt.show()"
      ],
      "metadata": {
        "id": "M6en-U5GYJhH"
      },
      "execution_count": null,
      "outputs": []
    }
  ]
}